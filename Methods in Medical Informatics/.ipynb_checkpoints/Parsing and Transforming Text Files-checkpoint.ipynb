{
 "cells": [
  {
   "cell_type": "markdown",
   "metadata": {},
   "source": [
    "Welcome to part one of Methods in Medical Informatics! In this section, we will be exploring how to parse and transform text files. We will be exploring seven different scripts which each illustrate  a different aspect of parsing and transforming text files. Lets begin!\n",
    "\n",
    "> Note: The content below is adapted from the book \"Methods in Medical Informatics - Fundamental of Healthcare Programming in Perl, Python, and Ruby\" by Jules J. Berman. "
   ]
  },
  {
   "cell_type": "markdown",
   "metadata": {
    "heading_collapsed": true
   },
   "source": [
    "# Peeking into Large Files"
   ]
  },
  {
   "cell_type": "markdown",
   "metadata": {
    "hidden": true
   },
   "source": [
    "Text data files may sometimes be quite large with some being gigabytes in length. Most word processors are unable to handles files this large. However, through a simple utility script we can open large text files, extract a sample, and display that sample. The script below will display the first 40 lines from a large text file and then store the first 3000 line in a separate file which can opened with a word processor. "
   ]
  },
  {
   "cell_type": "code",
   "execution_count": null,
   "metadata": {
    "ExecuteTime": {
     "end_time": "2020-10-01T07:38:53.745009Z",
     "start_time": "2020-10-01T07:38:49.093002Z"
    },
    "hidden": true
   },
   "outputs": [],
   "source": [
    "import string\n",
    "line = input('What file would like to sample? (Please write file name) ')\n",
    "infile = open(line, 'r', encoding='utf-8')\n",
    "outfile = open('data\\sample_output.txt', 'w', encoding='utf-8')\n",
    "for iterations in range(40):\n",
    "    getline = infile.readline()\n",
    "    print(getline.rstrip())\n",
    "for iterations in range(3000):\n",
    "    getline = infile.readline()\n",
    "    outfile.write(getline)\n",
    "infile.close()\n",
    "outfile.close()"
   ]
  },
  {
   "cell_type": "markdown",
   "metadata": {
    "heading_collapsed": true,
    "hidden": true
   },
   "source": [
    "## Script Algorithm: Peeking into Large Files"
   ]
  },
  {
   "cell_type": "markdown",
   "metadata": {
    "hidden": true
   },
   "source": [
    "Send a prompt to the monitor asking for the name of the file to sample. Store the file name as a variable. "
   ]
  },
  {
   "cell_type": "code",
   "execution_count": null,
   "metadata": {
    "ExecuteTime": {
     "end_time": "2020-10-01T07:40:29.300577Z",
     "start_time": "2020-10-01T07:40:24.980247Z"
    },
    "hidden": true
   },
   "outputs": [],
   "source": [
    "import string\n",
    "line = input('What file would like to sample? (Please write file name) ')"
   ]
  },
  {
   "cell_type": "markdown",
   "metadata": {
    "hidden": true
   },
   "source": [
    "Open the file for reading. Open another file for writing."
   ]
  },
  {
   "cell_type": "code",
   "execution_count": null,
   "metadata": {
    "ExecuteTime": {
     "end_time": "2020-10-01T07:40:29.315536Z",
     "start_time": "2020-10-01T07:40:29.302573Z"
    },
    "hidden": true
   },
   "outputs": [],
   "source": [
    "infile = open(line, 'r', encoding='utf-8')\n",
    "outfile = open('data\\sample_output.txt', 'w', encoding='utf-8')"
   ]
  },
  {
   "cell_type": "markdown",
   "metadata": {
    "hidden": true
   },
   "source": [
    "Create a for loop that iterates through the first 40 lines of the text file. Print the line as the script iterate through the file."
   ]
  },
  {
   "cell_type": "code",
   "execution_count": null,
   "metadata": {
    "ExecuteTime": {
     "end_time": "2020-10-01T07:40:29.331494Z",
     "start_time": "2020-10-01T07:40:29.320525Z"
    },
    "hidden": true
   },
   "outputs": [],
   "source": [
    "for iterations in range(40):\n",
    "    getline = infile.readline()\n",
    "    print(getline.rstrip())"
   ]
  },
  {
   "cell_type": "markdown",
   "metadata": {
    "hidden": true
   },
   "source": [
    "Create a for loop that iterates through the first 3000 lines of the text file. Store the first 3000 lines in a separate text file. "
   ]
  },
  {
   "cell_type": "code",
   "execution_count": null,
   "metadata": {
    "ExecuteTime": {
     "end_time": "2020-10-01T07:40:33.712738Z",
     "start_time": "2020-10-01T07:40:33.691788Z"
    },
    "hidden": true
   },
   "outputs": [],
   "source": [
    "for iterations in range(3000):\n",
    "    getline = infile.readline()\n",
    "    outfile.write(getline)"
   ]
  },
  {
   "cell_type": "markdown",
   "metadata": {
    "hidden": true
   },
   "source": [
    "Close the reading and writing files. "
   ]
  },
  {
   "cell_type": "code",
   "execution_count": null,
   "metadata": {
    "ExecuteTime": {
     "end_time": "2020-10-01T07:40:34.653088Z",
     "start_time": "2020-10-01T07:40:34.636133Z"
    },
    "hidden": true
   },
   "outputs": [],
   "source": [
    "infile.close()\n",
    "outfile.close()"
   ]
  },
  {
   "cell_type": "markdown",
   "metadata": {
    "heading_collapsed": true
   },
   "source": [
    "# Paging through Large Text Files"
   ]
  },
  {
   "cell_type": "markdown",
   "metadata": {
    "hidden": true
   },
   "source": [
    "The script below solves the same problem as the first script. However, it takes a different approach. Here the script displays the first 40 lines from any text file, provides an opportunity to quit; if declined, the script displays the next 40 lines, and repeat indefinitely. This provides a quick method to quickly scroll through a file. "
   ]
  },
  {
   "cell_type": "code",
   "execution_count": null,
   "metadata": {
    "ExecuteTime": {
     "end_time": "2020-10-01T07:46:58.524570Z",
     "start_time": "2020-10-01T07:46:35.407552Z"
    },
    "hidden": true
   },
   "outputs": [],
   "source": [
    "import string\n",
    "line = input('What file would like to sample? (Please write file name) ')\n",
    "infile = open(line, 'r', encoding='utf-8')\n",
    "outfile = open('data\\sample_output.txt', 'w', encoding='utf-8')\n",
    "while True:\n",
    "    for iterations in range(40):\n",
    "        print(infile.readline().rstrip())\n",
    "    response = input('Type QUIT if you want to quit. Otherwise press any key\\n')\n",
    "    if (response == 'QUIT'):\n",
    "        break\n",
    "infile.close()\n",
    "outfile.close()\n",
    "exit()"
   ]
  },
  {
   "cell_type": "markdown",
   "metadata": {
    "heading_collapsed": true,
    "hidden": true
   },
   "source": [
    "## Script Algorithm: Paging through Large Text Files"
   ]
  },
  {
   "cell_type": "markdown",
   "metadata": {
    "hidden": true
   },
   "source": [
    "Send a prompt to the monitor asking for the name of a file that you want to read"
   ]
  },
  {
   "cell_type": "code",
   "execution_count": null,
   "metadata": {
    "hidden": true
   },
   "outputs": [],
   "source": [
    "import string\n",
    "line = input('What file would like to sample? (Please write file name) ')"
   ]
  },
  {
   "cell_type": "markdown",
   "metadata": {
    "hidden": true
   },
   "source": [
    "Open a text file to read. Open another file to write."
   ]
  },
  {
   "cell_type": "code",
   "execution_count": null,
   "metadata": {
    "hidden": true
   },
   "outputs": [],
   "source": [
    "infile = open(line, 'r', encoding='utf-8')\n",
    "outfile = open('data\\sample_output.txt', 'w', encoding='utf-8')"
   ]
  },
  {
   "cell_type": "markdown",
   "metadata": {
    "hidden": true
   },
   "source": [
    "Print the first 40 lines of the file. Prompt the user, asking if he or she would like to quit the program. If user enters \"QUIT\" after the prompt, exit the program. Other repeat iterating through the next 40 lines/"
   ]
  },
  {
   "cell_type": "code",
   "execution_count": null,
   "metadata": {
    "hidden": true
   },
   "outputs": [],
   "source": [
    "while True:\n",
    "    for iterations in range(40):\n",
    "        print(infile.readline().rstrip())\n",
    "    response = input('Type QUIT if you want to quit. Otherwise press any key\\n')\n",
    "    if (response == 'QUIT'):\n",
    "        break"
   ]
  },
  {
   "cell_type": "markdown",
   "metadata": {
    "hidden": true
   },
   "source": [
    "Close all opened files. Exit the program."
   ]
  },
  {
   "cell_type": "code",
   "execution_count": null,
   "metadata": {
    "hidden": true
   },
   "outputs": [],
   "source": [
    "infile.close()\n",
    "outfile.close()\n",
    "exit()"
   ]
  },
  {
   "cell_type": "markdown",
   "metadata": {
    "heading_collapsed": true
   },
   "source": [
    "# Extracting Lines that Match a Regular Expression"
   ]
  },
  {
   "cell_type": "markdown",
   "metadata": {
    "hidden": true
   },
   "source": [
    "It would be useful to be able to search for classes of data within large text file. Regular expression (regex) allows you to do so. Regex is a conventional way of describing string patterns. The script below will extract lines of text that match a regular expression. "
   ]
  },
  {
   "cell_type": "code",
   "execution_count": null,
   "metadata": {
    "ExecuteTime": {
     "end_time": "2020-10-01T07:56:03.849823Z",
     "start_time": "2020-10-01T07:55:56.881258Z"
    },
    "hidden": true
   },
   "outputs": [],
   "source": [
    "import string\n",
    "import re\n",
    "line = input('What file would you like to search? (Please write file name) ')\n",
    "regex = input('Enter a word, phrase or regular expression to search.')\n",
    "regex = regex.rstrip()\n",
    "infile = open(line, 'r', encoding='utf-8')\n",
    "outfile = open('data\\sample_output.txt', 'w')\n",
    "regex_object = re.compile(regex, re.I)\n",
    "for line in infile:\n",
    "    m = regex_object.search(line)\n",
    "    if m:\n",
    "        print(line)\n",
    "        outfile.write(line)\n",
    "exit()"
   ]
  },
  {
   "cell_type": "markdown",
   "metadata": {
    "heading_collapsed": true,
    "hidden": true
   },
   "source": [
    "## Script Algorithm: Extracting Lines that Match a Regular Expression"
   ]
  },
  {
   "cell_type": "markdown",
   "metadata": {
    "hidden": true
   },
   "source": [
    "Send a prompt to the monitor asking for the name of a file to be searched and the regular expression to search for. "
   ]
  },
  {
   "cell_type": "code",
   "execution_count": null,
   "metadata": {
    "hidden": true
   },
   "outputs": [],
   "source": [
    "line = input('What file would you like to search? (Please write file name) ')\n",
    "regex = input('Enter a word, phrase or regular expression to search.')\n",
    "regex = regex.rstrip()"
   ]
  },
  {
   "cell_type": "markdown",
   "metadata": {
    "hidden": true
   },
   "source": [
    "Open a text file to read. Open a file to output. "
   ]
  },
  {
   "cell_type": "code",
   "execution_count": null,
   "metadata": {
    "hidden": true
   },
   "outputs": [],
   "source": [
    "infile = open(line, 'r', encoding='utf-8')\n",
    "outfile = open('data\\sample_output.txt', 'w')"
   ]
  },
  {
   "cell_type": "markdown",
   "metadata": {
    "hidden": true
   },
   "source": [
    "Create a variable to hold the regular expression."
   ]
  },
  {
   "cell_type": "code",
   "execution_count": null,
   "metadata": {
    "hidden": true
   },
   "outputs": [],
   "source": [
    "regex_object = re.compile(regex, re.I)"
   ]
  },
  {
   "cell_type": "markdown",
   "metadata": {
    "hidden": true
   },
   "source": [
    "Parse through every line of the text file. Whenever a line is encountered that matches the search expression, print it and output the line. "
   ]
  },
  {
   "cell_type": "code",
   "execution_count": null,
   "metadata": {
    "hidden": true
   },
   "outputs": [],
   "source": [
    "for line in infile:\n",
    "    m = regex_object.search(line)\n",
    "    if m:\n",
    "        print(line)\n",
    "        outfile.write(line)"
   ]
  },
  {
   "cell_type": "markdown",
   "metadata": {
    "hidden": true
   },
   "source": [
    "Exit the file"
   ]
  },
  {
   "cell_type": "code",
   "execution_count": null,
   "metadata": {
    "hidden": true
   },
   "outputs": [],
   "source": [
    "exit()"
   ]
  },
  {
   "cell_type": "markdown",
   "metadata": {
    "heading_collapsed": true
   },
   "source": [
    "# Changing Every File in a Subdirectory"
   ]
  },
  {
   "cell_type": "markdown",
   "metadata": {
    "hidden": true
   },
   "source": [
    "String substitution is a common computational task. This task could also have some biomedical application. For instance, maybe you will want to switch every occurrence of the word \"tumor\" with \"tumour\" when submitting a manuscript to a British journal. Maybe a calculation, repeated throughout your quality assurance report, was incorrect; you want to substitute the correct number wherever the incorrect number appears. The script below will parse through a file and make a specific substitution for every matching sequence. "
   ]
  },
  {
   "cell_type": "code",
   "execution_count": null,
   "metadata": {
    "ExecuteTime": {
     "end_time": "2020-10-01T08:05:46.259597Z",
     "start_time": "2020-10-01T08:05:46.241647Z"
    },
    "hidden": true
   },
   "outputs": [],
   "source": [
    "import sys \n",
    "import os \n",
    "import re\n",
    "filelist = os.listdir('C:\\\\Users\\\\ericr\\\\Documents\\\\GitHub\\\\Clinical-Cases-LAIR\\\\Methods in Medical Informatics\\\\Test_Directory')\n",
    "os.chdir('C:\\\\Users\\\\ericr\\\\Documents\\\\GitHub\\\\Clinical-Cases-LAIR\\\\Methods in Medical Informatics\\\\Test_Directory')\n",
    "for file in filelist:\n",
    "    infile = open(file,'r')\n",
    "    filestring = infile.read()\n",
    "    infile.close()\n",
    "    filestring = re.sub('COVID-19','SO LONG', filestring)\n",
    "    outfile = open(file,'w')\n",
    "    outfile.write(filestring)\n",
    "    outfile.close\n",
    "print('Substitution Completed')\n",
    "exit()"
   ]
  },
  {
   "cell_type": "markdown",
   "metadata": {
    "heading_collapsed": true,
    "hidden": true
   },
   "source": [
    "## Script Algorithm: Changing Every File in a Subdirectory"
   ]
  },
  {
   "cell_type": "markdown",
   "metadata": {
    "hidden": true
   },
   "source": [
    "Open a directory for reading"
   ]
  },
  {
   "cell_type": "code",
   "execution_count": null,
   "metadata": {
    "ExecuteTime": {
     "end_time": "2020-10-01T08:07:59.030881Z",
     "start_time": "2020-10-01T08:07:59.026887Z"
    },
    "hidden": true
   },
   "outputs": [],
   "source": [
    "import sys \n",
    "import os \n",
    "import re\n",
    "filelist = os.listdir('C:\\\\Users\\\\ericr\\\\Documents\\\\GitHub\\\\Clinical-Cases-LAIR\\\\Methods in Medical Informatics\\\\Test_Directory')\n",
    "os.chdir('C:\\\\Users\\\\ericr\\\\Documents\\\\GitHub\\\\Clinical-Cases-LAIR\\\\Methods in Medical Informatics\\\\Test_Directory')"
   ]
  },
  {
   "cell_type": "markdown",
   "metadata": {
    "hidden": true
   },
   "source": [
    "For each file in your file list, do the following: open the file, read through every line in the file, make the desired substitution for each matching sequence in each line, and close the file when you're finished.. "
   ]
  },
  {
   "cell_type": "code",
   "execution_count": null,
   "metadata": {
    "ExecuteTime": {
     "end_time": "2020-10-01T08:07:59.973091Z",
     "start_time": "2020-10-01T08:07:59.949131Z"
    },
    "hidden": true
   },
   "outputs": [],
   "source": [
    "for file in filelist:\n",
    "    infile = open(file,'r')\n",
    "    filestring = infile.read()\n",
    "    infile.close()\n",
    "    filestring = re.sub('COVID-19','SO LONG', filestring)\n",
    "    outfile = open(file,'w')\n",
    "    outfile.write(filestring)\n",
    "    outfile.close\n",
    "print('Substitution Completed')\n",
    "exit()"
   ]
  },
  {
   "cell_type": "markdown",
   "metadata": {
    "heading_collapsed": true
   },
   "source": [
    "# Counting the Words in a File"
   ]
  },
  {
   "cell_type": "markdown",
   "metadata": {
    "hidden": true
   },
   "source": [
    "It is easy to write a short script that counts the words in a file, but it is difficult to do the job to everyone's liking. Depending on the type of text, and the intended use of the word count, the criteria for counting a word may change. There will be occasions when you will want to write your own script that counts words just as you prefer. Here is a minimalist word counting script for text file from the Online Mendelian Inheritance in Man."
   ]
  },
  {
   "cell_type": "code",
   "execution_count": null,
   "metadata": {
    "ExecuteTime": {
     "end_time": "2020-10-01T05:39:39.176848Z",
     "start_time": "2020-10-01T05:39:39.079626Z"
    },
    "hidden": true
   },
   "outputs": [],
   "source": [
    "import re\n",
    "import string\n",
    "total = 0\n",
    "line_list = []\n",
    "line_reduced = []\n",
    "in_text = open('mim2gene.txt', 'r')\n",
    "for line in in_text:\n",
    "    line_list = re.split(r'[ \\n]+',line)\n",
    "    line_reduced = [var for var in line_list if var != '']\n",
    "    total = total + len(line_reduced)\n",
    "print('Total Words in File:', total)\n",
    "exit()"
   ]
  },
  {
   "cell_type": "markdown",
   "metadata": {
    "heading_collapsed": true,
    "hidden": true
   },
   "source": [
    "## Script Algorithm: Counting the Words in a File"
   ]
  },
  {
   "cell_type": "markdown",
   "metadata": {
    "hidden": true
   },
   "source": [
    "Open the file"
   ]
  },
  {
   "cell_type": "code",
   "execution_count": null,
   "metadata": {
    "hidden": true
   },
   "outputs": [],
   "source": [
    "import re\n",
    "import string\n",
    "total = 0\n",
    "line_list = []\n",
    "line_reduced = []\n",
    "in_text = open('mim2gene.txt', 'r')"
   ]
  },
  {
   "cell_type": "markdown",
   "metadata": {
    "hidden": true
   },
   "source": [
    "Parse through file line by line. Split each line into an array. Determine the size of the array. "
   ]
  },
  {
   "cell_type": "code",
   "execution_count": null,
   "metadata": {
    "hidden": true
   },
   "outputs": [],
   "source": [
    "for line in in_text:\n",
    "    line_list = re.split(r'[ \\n]+',line)\n",
    "    line_reduced = [var for var in line_list if var != '']\n",
    "    total = total + len(line_reduced)"
   ]
  },
  {
   "cell_type": "markdown",
   "metadata": {
    "hidden": true
   },
   "source": [
    "Display the word count"
   ]
  },
  {
   "cell_type": "code",
   "execution_count": null,
   "metadata": {
    "hidden": true
   },
   "outputs": [],
   "source": [
    "print('Total Words in File:', total)"
   ]
  },
  {
   "cell_type": "markdown",
   "metadata": {
    "hidden": true
   },
   "source": [
    "Exit the script"
   ]
  },
  {
   "cell_type": "code",
   "execution_count": null,
   "metadata": {
    "hidden": true
   },
   "outputs": [],
   "source": [
    "exit()"
   ]
  },
  {
   "cell_type": "markdown",
   "metadata": {
    "heading_collapsed": true
   },
   "source": [
    "# Making a Word List with Occurrence Tally"
   ]
  },
  {
   "cell_type": "markdown",
   "metadata": {
    "hidden": true
   },
   "source": [
    "Sometimes you need to have a listing of all the different words in a document, and the number of occurrences of each word. A word frequency list can tell you a lot about a document. The script below will generate a word count and corresponding occurrence tally for a text file. "
   ]
  },
  {
   "cell_type": "code",
   "execution_count": null,
   "metadata": {
    "ExecuteTime": {
     "end_time": "2020-10-01T08:15:32.180553Z",
     "start_time": "2020-10-01T08:15:31.671773Z"
    },
    "hidden": true
   },
   "outputs": [],
   "source": [
    "import re\n",
    "import string\n",
    "word_list = []\n",
    "freq_list = []\n",
    "freq = {}\n",
    "in_text = open('mim2gene.txt', 'r')\n",
    "in_text_string = in_text.read()\n",
    "out_text = open('mimgene_output.txt', 'w')\n",
    "in_text_string = in_text_string.lower()\n",
    "word_list = re.findall(r'(\\b[a-z]{3,15}\\b)', in_text_string)\n",
    "for item in word_list:\n",
    "    count = freq.get(item,0)\n",
    "    freq[item] = count + 1\n",
    "freq_list = freq.keys()\n",
    "sort_list = sorted(freq_list)\n",
    "for i in sort_list:\n",
    "    print(i, freq[i])\n",
    "exit()"
   ]
  },
  {
   "cell_type": "markdown",
   "metadata": {
    "heading_collapsed": true,
    "hidden": true
   },
   "source": [
    "## Script Algorithm: Making a Word List with Occurrence Tally"
   ]
  },
  {
   "cell_type": "markdown",
   "metadata": {
    "hidden": true
   },
   "source": [
    "Open the text file to read. Open a separate text file to write the output. "
   ]
  },
  {
   "cell_type": "code",
   "execution_count": null,
   "metadata": {
    "hidden": true
   },
   "outputs": [],
   "source": [
    "import re\n",
    "import string\n",
    "word_list = []\n",
    "freq_list = []\n",
    "freq = {}\n",
    "in_text = open('mim2gene.txt', 'r')\n",
    "in_text_string = in_text.read()\n",
    "out_text = open('mimgene_output.txt', 'w')"
   ]
  },
  {
   "cell_type": "markdown",
   "metadata": {
    "hidden": true
   },
   "source": [
    "Lowercase the text file"
   ]
  },
  {
   "cell_type": "code",
   "execution_count": null,
   "metadata": {
    "hidden": true
   },
   "outputs": [],
   "source": [
    "in_text_string = in_text_string.lower()"
   ]
  },
  {
   "cell_type": "markdown",
   "metadata": {
    "hidden": true
   },
   "source": [
    "Create a general regex pattern to identify words"
   ]
  },
  {
   "cell_type": "code",
   "execution_count": null,
   "metadata": {
    "hidden": true
   },
   "outputs": [],
   "source": [
    "word_list = re.findall(r'(\\b[a-z]{3,15}\\b)', in_text_string)"
   ]
  },
  {
   "cell_type": "markdown",
   "metadata": {
    "hidden": true
   },
   "source": [
    "Traverse through the text file while matching for individual words. When a match is found, assign it to a dictionary as a key. Also increment the value of the key by one each time a match is found"
   ]
  },
  {
   "cell_type": "code",
   "execution_count": null,
   "metadata": {
    "hidden": true
   },
   "outputs": [],
   "source": [
    "for item in word_list:\n",
    "    count = freq.get(item,0)\n",
    "    freq[item] = count + 1"
   ]
  },
  {
   "cell_type": "markdown",
   "metadata": {
    "hidden": true
   },
   "source": [
    "Sort the dictionary key alphabetically"
   ]
  },
  {
   "cell_type": "code",
   "execution_count": null,
   "metadata": {
    "hidden": true
   },
   "outputs": [],
   "source": [
    "freq_list = freq.keys()\n",
    "sort_list = sorted(freq_list)"
   ]
  },
  {
   "cell_type": "markdown",
   "metadata": {
    "hidden": true
   },
   "source": [
    "Print the sorted list"
   ]
  },
  {
   "cell_type": "code",
   "execution_count": null,
   "metadata": {
    "hidden": true
   },
   "outputs": [],
   "source": [
    "for i in sort_list:\n",
    "    print(i, freq[i])"
   ]
  },
  {
   "cell_type": "markdown",
   "metadata": {
    "hidden": true
   },
   "source": [
    "Exit the script"
   ]
  },
  {
   "cell_type": "code",
   "execution_count": null,
   "metadata": {
    "hidden": true
   },
   "outputs": [],
   "source": [
    "exit()"
   ]
  },
  {
   "cell_type": "markdown",
   "metadata": {
    "heading_collapsed": true
   },
   "source": [
    "# Using Printf Formatting Style"
   ]
  },
  {
   "cell_type": "markdown",
   "metadata": {
    "hidden": true
   },
   "source": [
    "Printf is programming convention which provides a simple way to specify the arrangement of data printed to an output line. Printf produces output in neat columns. The script below will create a word list with an occurrence tally for a MeSH text file. The script will also format the output using the Printf style."
   ]
  },
  {
   "cell_type": "code",
   "execution_count": null,
   "metadata": {
    "ExecuteTime": {
     "end_time": "2020-10-01T08:27:50.171963Z",
     "start_time": "2020-10-01T08:27:42.246882Z"
    },
    "hidden": true
   },
   "outputs": [],
   "source": [
    "import re\n",
    "import string\n",
    "word_list = []\n",
    "freq_list = []\n",
    "freq = {}\n",
    "in_text = open('d2020.bin', 'r', encoding='utf-8')\n",
    "in_text_string = in_text.read()\n",
    "out_text = open('mesh_output.txt', 'w')\n",
    "in_text_string = in_text_string.lower()\n",
    "word_list = re.findall(r'(\\b[a-z]{3,15}\\b)', in_text_string)\n",
    "for item in word_list:\n",
    "    count = freq.get(item,0)\n",
    "    freq[item] = count + 1\n",
    "freq_list = freq.keys()\n",
    "sort_list = sorted(freq_list)\n",
    "for i in sort_list:\n",
    "    print('%-20.20s %8.06d' % (i, freq[i]))\n",
    "exit()"
   ]
  },
  {
   "cell_type": "markdown",
   "metadata": {
    "heading_collapsed": true,
    "hidden": true
   },
   "source": [
    "## Script Algorithm: Using Printf Formatting Style"
   ]
  },
  {
   "cell_type": "markdown",
   "metadata": {
    "hidden": true
   },
   "source": [
    "Open the text file to read. Open a separate text file to write the output. "
   ]
  },
  {
   "cell_type": "code",
   "execution_count": null,
   "metadata": {
    "ExecuteTime": {
     "end_time": "2020-10-01T08:31:11.232740Z",
     "start_time": "2020-10-01T08:31:10.928109Z"
    },
    "hidden": true
   },
   "outputs": [],
   "source": [
    "import re\n",
    "import string\n",
    "word_list = []\n",
    "freq_list = []\n",
    "freq = {}\n",
    "in_text = open('d2020.bin', 'r', encoding='utf-8')\n",
    "in_text_string = in_text.read()\n",
    "out_text = open('mesh_output.txt', 'w')\n",
    "in_text_string = in_text_string.lower()"
   ]
  },
  {
   "cell_type": "markdown",
   "metadata": {
    "hidden": true
   },
   "source": [
    "Create a regex expression to identify individual words in the text file. "
   ]
  },
  {
   "cell_type": "code",
   "execution_count": null,
   "metadata": {
    "ExecuteTime": {
     "end_time": "2020-10-01T08:31:12.732140Z",
     "start_time": "2020-10-01T08:31:11.394543Z"
    },
    "hidden": true
   },
   "outputs": [],
   "source": [
    "word_list = re.findall(r'(\\b[a-z]{3,15}\\b)', in_text_string)"
   ]
  },
  {
   "cell_type": "markdown",
   "metadata": {
    "hidden": true
   },
   "source": [
    "Iterate through the entire text file. When a match for an individual word is found, create a dictionary with the word as a key and an associated value to serve as a word count. "
   ]
  },
  {
   "cell_type": "code",
   "execution_count": null,
   "metadata": {
    "ExecuteTime": {
     "end_time": "2020-10-01T08:31:13.523354Z",
     "start_time": "2020-10-01T08:31:12.734134Z"
    },
    "hidden": true
   },
   "outputs": [],
   "source": [
    "for item in word_list:\n",
    "    count = freq.get(item,0)\n",
    "    freq[item] = count + 1"
   ]
  },
  {
   "cell_type": "markdown",
   "metadata": {
    "hidden": true
   },
   "source": [
    "Sort the word list alphabetically"
   ]
  },
  {
   "cell_type": "code",
   "execution_count": null,
   "metadata": {
    "ExecuteTime": {
     "end_time": "2020-10-01T08:31:13.570732Z",
     "start_time": "2020-10-01T08:31:13.525354Z"
    },
    "hidden": true
   },
   "outputs": [],
   "source": [
    "freq_list = freq.keys()\n",
    "sort_list = sorted(freq_list)"
   ]
  },
  {
   "cell_type": "markdown",
   "metadata": {
    "ExecuteTime": {
     "end_time": "2020-10-01T08:30:58.156045Z",
     "start_time": "2020-10-01T08:30:58.151057Z"
    },
    "hidden": true
   },
   "source": [
    "Print the formatted list"
   ]
  },
  {
   "cell_type": "code",
   "execution_count": null,
   "metadata": {
    "ExecuteTime": {
     "end_time": "2020-10-01T08:31:19.240438Z",
     "start_time": "2020-10-01T08:31:13.572667Z"
    },
    "hidden": true
   },
   "outputs": [],
   "source": [
    "for i in sort_list:\n",
    "    print('%-20.20s %8.06d' % (i, freq[i]))"
   ]
  },
  {
   "cell_type": "markdown",
   "metadata": {
    "hidden": true
   },
   "source": [
    "Exit the script"
   ]
  },
  {
   "cell_type": "code",
   "execution_count": null,
   "metadata": {
    "hidden": true
   },
   "outputs": [],
   "source": [
    "Exit()"
   ]
  }
 ],
 "metadata": {
  "kernelspec": {
   "display_name": "Python 3",
   "language": "python",
   "name": "python3"
  },
  "language_info": {
   "codemirror_mode": {
    "name": "ipython",
    "version": 3
   },
   "file_extension": ".py",
   "mimetype": "text/x-python",
   "name": "python",
   "nbconvert_exporter": "python",
   "pygments_lexer": "ipython3",
   "version": "3.7.4"
  },
  "toc": {
   "base_numbering": 1,
   "nav_menu": {},
   "number_sections": true,
   "sideBar": true,
   "skip_h1_title": false,
   "title_cell": "Table of Contents",
   "title_sidebar": "Contents",
   "toc_cell": false,
   "toc_position": {},
   "toc_section_display": true,
   "toc_window_display": false
  }
 },
 "nbformat": 4,
 "nbformat_minor": 4
}
