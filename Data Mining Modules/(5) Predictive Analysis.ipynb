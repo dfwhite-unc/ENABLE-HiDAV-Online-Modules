{
 "cells": [
  {
   "cell_type": "markdown",
   "metadata": {},
   "source": [
    "# Introduction"
   ]
  },
  {
   "cell_type": "markdown",
   "metadata": {},
   "source": [
    "Introduction cell, the introduction will consist of:\n",
    "\n",
    "- Introduction text\n",
    "- Overview of previous module content\n",
    "- Table of contents for this module"
   ]
  },
  {
   "cell_type": "code",
   "execution_count": 1,
   "metadata": {},
   "outputs": [
    {
     "name": "stdout",
     "output_type": "stream",
     "text": [
      "Data loading, please wait\n",
      "Data loaded!"
     ]
    }
   ],
   "source": [
    "cat('Data loading, please wait\\n')\n",
    "dataframe <- read.csv(file=\"Data/main_data.csv\", encoding=\"UTF-8\", header=TRUE, sep=\",\")\n",
    "cat('Data loaded!')"
   ]
  },
  {
   "cell_type": "markdown",
   "metadata": {},
   "source": [
    "# Training and Test Data"
   ]
  },
  {
   "cell_type": "markdown",
   "metadata": {},
   "source": [
    "Export the training and test set data as seperate data. Then make sure the previous 4 modules only use the training set. "
   ]
  },
  {
   "cell_type": "code",
   "execution_count": 33,
   "metadata": {},
   "outputs": [],
   "source": [
    "dataframe$hospital_death <- as.factor(dataframe$hospital_death)"
   ]
  },
  {
   "cell_type": "code",
   "execution_count": 34,
   "metadata": {},
   "outputs": [
    {
     "name": "stdout",
     "output_type": "stream",
     "text": [
      "The number of traning data observations: 73371 \n",
      "The number of test data observations: 18342"
     ]
    }
   ],
   "source": [
    "suppressMessages(library(caret))\n",
    "\n",
    "# Setting seed value to reproduce results of random sampling\n",
    "set.seed(123)\n",
    "\n",
    "# row positions for training data\n",
    "index <- createDataPartition(dataframe$hospital_death, p = 0.80, list = FALSE)\n",
    "\n",
    "# Creating training data\n",
    "trainingData <- dataframe[index, ]  \n",
    "cat('The number of traning data observations:', length(trainingData$hospital_death), '\\n') # Checking the amount of training data\n",
    "\n",
    "# Creating test data\n",
    "testData  <- dataframe[-index, ]  \n",
    "cat('The number of test data observations:', length(testData$hospital_death)) # Checking the amount of test data"
   ]
  },
  {
   "cell_type": "markdown",
   "metadata": {},
   "source": [
    "# Logistic Regression"
   ]
  },
  {
   "cell_type": "code",
   "execution_count": 35,
   "metadata": {},
   "outputs": [
    {
     "name": "stdout",
     "output_type": "stream",
     "text": [
      "Training model, please be patient..."
     ]
    },
    {
     "name": "stderr",
     "output_type": "stream",
     "text": [
      "Warning message in predict.lm(object, newdata, se.fit, scale = 1, type = if (type == :\n",
      "\"prediction from a rank-deficient fit may be misleading\"Warning message in predict.lm(object, newdata, se.fit, scale = 1, type = if (type == :\n",
      "\"prediction from a rank-deficient fit may be misleading\"Warning message in predict.lm(object, newdata, se.fit, scale = 1, type = if (type == :\n",
      "\"prediction from a rank-deficient fit may be misleading\"Warning message in predict.lm(object, newdata, se.fit, scale = 1, type = if (type == :\n",
      "\"prediction from a rank-deficient fit may be misleading\"Warning message in predict.lm(object, newdata, se.fit, scale = 1, type = if (type == :\n",
      "\"prediction from a rank-deficient fit may be misleading\"Warning message in predict.lm(object, newdata, se.fit, scale = 1, type = if (type == :\n",
      "\"prediction from a rank-deficient fit may be misleading\"Warning message in predict.lm(object, newdata, se.fit, scale = 1, type = if (type == :\n",
      "\"prediction from a rank-deficient fit may be misleading\"Warning message in predict.lm(object, newdata, se.fit, scale = 1, type = if (type == :\n",
      "\"prediction from a rank-deficient fit may be misleading\"Warning message in predict.lm(object, newdata, se.fit, scale = 1, type = if (type == :\n",
      "\"prediction from a rank-deficient fit may be misleading\"Warning message in predict.lm(object, newdata, se.fit, scale = 1, type = if (type == :\n",
      "\"prediction from a rank-deficient fit may be misleading\"Warning message in predict.lm(object, newdata, se.fit, scale = 1, type = if (type == :\n",
      "\"prediction from a rank-deficient fit may be misleading\"Warning message in predict.lm(object, newdata, se.fit, scale = 1, type = if (type == :\n",
      "\"prediction from a rank-deficient fit may be misleading\"Warning message in predict.lm(object, newdata, se.fit, scale = 1, type = if (type == :\n",
      "\"prediction from a rank-deficient fit may be misleading\"Warning message in predict.lm(object, newdata, se.fit, scale = 1, type = if (type == :\n",
      "\"prediction from a rank-deficient fit may be misleading\"Warning message in predict.lm(object, newdata, se.fit, scale = 1, type = if (type == :\n",
      "\"prediction from a rank-deficient fit may be misleading\"Warning message in predict.lm(object, newdata, se.fit, scale = 1, type = if (type == :\n",
      "\"prediction from a rank-deficient fit may be misleading\"Warning message in predict.lm(object, newdata, se.fit, scale = 1, type = if (type == :\n",
      "\"prediction from a rank-deficient fit may be misleading\"Warning message in predict.lm(object, newdata, se.fit, scale = 1, type = if (type == :\n",
      "\"prediction from a rank-deficient fit may be misleading\"Warning message in predict.lm(object, newdata, se.fit, scale = 1, type = if (type == :\n",
      "\"prediction from a rank-deficient fit may be misleading\"Warning message in predict.lm(object, newdata, se.fit, scale = 1, type = if (type == :\n",
      "\"prediction from a rank-deficient fit may be misleading\"Warning message in predict.lm(object, newdata, se.fit, scale = 1, type = if (type == :\n",
      "\"prediction from a rank-deficient fit may be misleading\"Warning message in predict.lm(object, newdata, se.fit, scale = 1, type = if (type == :\n",
      "\"prediction from a rank-deficient fit may be misleading\"Warning message in predict.lm(object, newdata, se.fit, scale = 1, type = if (type == :\n",
      "\"prediction from a rank-deficient fit may be misleading\"Warning message in predict.lm(object, newdata, se.fit, scale = 1, type = if (type == :\n",
      "\"prediction from a rank-deficient fit may be misleading\"Warning message in predict.lm(object, newdata, se.fit, scale = 1, type = if (type == :\n",
      "\"prediction from a rank-deficient fit may be misleading\""
     ]
    },
    {
     "name": "stdout",
     "output_type": "stream",
     "text": [
      "Model trained!"
     ]
    }
   ],
   "source": [
    "# Build the model on training data\n",
    "cat('Training model, please be patient...')\n",
    "mylogit <- train(hospital_death ~ ., data = trainingData, method = 'glm', family = 'binomial', na.action=na.omit)\n",
    "cat('Model trained!')"
   ]
  },
  {
   "cell_type": "code",
   "execution_count": 36,
   "metadata": {},
   "outputs": [
    {
     "name": "stderr",
     "output_type": "stream",
     "text": [
      "Warning message in predict.lm(object, newdata, se.fit, scale = 1, type = if (type == :\n",
      "\"prediction from a rank-deficient fit may be misleading\""
     ]
    },
    {
     "name": "stdout",
     "output_type": "stream",
     "text": [
      "Model successfully applied to test data!"
     ]
    }
   ],
   "source": [
    "modelPred <- predict(mylogit, newdata = testData, method = \"glm\", na.action = na.pass)\n",
    "cat('Model successfully applied to test data!')"
   ]
  },
  {
   "cell_type": "code",
   "execution_count": 37,
   "metadata": {},
   "outputs": [
    {
     "data": {
      "text/plain": [
       "Confusion Matrix and Statistics\n",
       "\n",
       "          Reference\n",
       "Prediction    0    1\n",
       "         0 6591  557\n",
       "         1 8891  853\n",
       "                                          \n",
       "               Accuracy : 0.4407          \n",
       "                 95% CI : (0.4332, 0.4482)\n",
       "    No Information Rate : 0.9165          \n",
       "    P-Value [Acc > NIR] : 1               \n",
       "                                          \n",
       "                  Kappa : 0.0083          \n",
       "                                          \n",
       " Mcnemar's Test P-Value : <2e-16          \n",
       "                                          \n",
       "            Sensitivity : 0.42572         \n",
       "            Specificity : 0.60496         \n",
       "         Pos Pred Value : 0.92208         \n",
       "         Neg Pred Value : 0.08754         \n",
       "             Prevalence : 0.91653         \n",
       "         Detection Rate : 0.39018         \n",
       "   Detection Prevalence : 0.42316         \n",
       "      Balanced Accuracy : 0.51534         \n",
       "                                          \n",
       "       'Positive' Class : 0               \n",
       "                                          "
      ]
     },
     "metadata": {},
     "output_type": "display_data"
    }
   ],
   "source": [
    "# Create Confusion matrix\n",
    "cm <- confusionMatrix(modelPred, testData$hospital_death)\n",
    "## Show confusion matrix\n",
    "cm"
   ]
  },
  {
   "cell_type": "markdown",
   "metadata": {},
   "source": [
    "# Decision Trees"
   ]
  },
  {
   "cell_type": "code",
   "execution_count": 38,
   "metadata": {},
   "outputs": [],
   "source": [
    "library(rpart)\n",
    "library(rpart.plot)"
   ]
  },
  {
   "cell_type": "code",
   "execution_count": 40,
   "metadata": {},
   "outputs": [
    {
     "name": "stdout",
     "output_type": "stream",
     "text": [
      "[1] \"Attempting\"\n",
      "[1] \"Success\"\n"
     ]
    }
   ],
   "source": [
    "# Train Decision Tree\n",
    "print('Attempting')\n",
    "train_decision_tree <- rpart(hospital_death ~ ., data = trainingData, method = 'class')\n",
    "print('Success')"
   ]
  },
  {
   "cell_type": "code",
   "execution_count": 41,
   "metadata": {},
   "outputs": [
    {
     "data": {
      "image/png": "[encoded data removed]",
      "text/plain": [
       "plot without title"
      ]
     },
     "metadata": {},
     "output_type": "display_data"
    }
   ],
   "source": [
    "# Plot Decision Tree\n",
    "rpart.plot(train_decision_tree)"
   ]
  },
  {
   "cell_type": "code",
   "execution_count": 46,
   "metadata": {},
   "outputs": [
    {
     "data": {
      "text/plain": [
       "Confusion Matrix and Statistics\n",
       "\n",
       "          Reference\n",
       "Prediction     0     1\n",
       "         0 16512  1154\n",
       "         1   247   429\n",
       "                                          \n",
       "               Accuracy : 0.9236          \n",
       "                 95% CI : (0.9197, 0.9274)\n",
       "    No Information Rate : 0.9137          \n",
       "    P-Value [Acc > NIR] : 6.001e-07       \n",
       "                                          \n",
       "                  Kappa : 0.346           \n",
       "                                          \n",
       " Mcnemar's Test P-Value : < 2.2e-16       \n",
       "                                          \n",
       "            Sensitivity : 0.9853          \n",
       "            Specificity : 0.2710          \n",
       "         Pos Pred Value : 0.9347          \n",
       "         Neg Pred Value : 0.6346          \n",
       "             Prevalence : 0.9137          \n",
       "         Detection Rate : 0.9002          \n",
       "   Detection Prevalence : 0.9631          \n",
       "      Balanced Accuracy : 0.6281          \n",
       "                                          \n",
       "       'Positive' Class : 0               \n",
       "                                          "
      ]
     },
     "metadata": {},
     "output_type": "display_data"
    }
   ],
   "source": [
    "# Make prediction\n",
    "test_decision_tree <- predict(train_decision_tree, testData, type = 'class')\n",
    "# Display Confusion Matrix\n",
    "confusionMatrix(test_decision_tree, testData$hospital_death)"
   ]
  },
  {
   "cell_type": "markdown",
   "metadata": {},
   "source": [
    "# Evaluation"
   ]
  },
  {
   "cell_type": "markdown",
   "metadata": {},
   "source": [
    "Consider upgrading the ROC curve aesthetics using [this package](https://sachsmc.github.io/plotROC/) instead"
   ]
  },
  {
   "cell_type": "markdown",
   "metadata": {},
   "source": [
    "## Evaluation: Logistic Regression"
   ]
  },
  {
   "cell_type": "code",
   "execution_count": 48,
   "metadata": {},
   "outputs": [
    {
     "name": "stderr",
     "output_type": "stream",
     "text": [
      "Type 'citation(\"pROC\")' for a citation.\n",
      "\n",
      "Attaching package: 'pROC'\n",
      "\n",
      "The following objects are masked from 'package:stats':\n",
      "\n",
      "    cov, smooth, var\n",
      "\n"
     ]
    }
   ],
   "source": [
    "library(pROC)"
   ]
  },
  {
   "cell_type": "code",
   "execution_count": 51,
   "metadata": {},
   "outputs": [
    {
     "name": "stderr",
     "output_type": "stream",
     "text": [
      "Setting levels: control = 0, case = 1\n",
      "Setting direction: controls < cases\n"
     ]
    },
    {
     "data": {
      "image/png": "[encoded data removed]",
      "text/plain": [
       "plot without title"
      ]
     },
     "metadata": {},
     "output_type": "display_data"
    }
   ],
   "source": [
    "ROC <- roc(response = testData$hospital_death, predictor = factor(test_decision_tree, \n",
    "                                                           ordered = TRUE))\n",
    "\n",
    "# Plot ROC with ggplot2\n",
    "plot_ROC <- ggroc(ROC)\n",
    "plot_ROC"
   ]
  },
  {
   "cell_type": "markdown",
   "metadata": {},
   "source": [
    "## Evaluation: Decision Trees"
   ]
  },
  {
   "cell_type": "code",
   "execution_count": 55,
   "metadata": {},
   "outputs": [
    {
     "name": "stderr",
     "output_type": "stream",
     "text": [
      "Setting levels: control = 0, case = 1\n",
      "Setting direction: controls < cases\n"
     ]
    },
    {
     "data": {
      "image/png": "[encoded data removed]",
      "text/plain": [
       "plot without title"
      ]
     },
     "metadata": {},
     "output_type": "display_data"
    }
   ],
   "source": [
    "ROC <- roc(response = testData$hospital_death, predictor = factor(modelPred, \n",
    "                                                           ordered = TRUE))\n",
    "\n",
    "# Plot ROC with ggplot2\n",
    "plot_ROC <- ggroc(ROC)\n",
    "plot_ROC"
   ]
  },
  {
   "cell_type": "markdown",
   "metadata": {},
   "source": [
    "# Machine Learning Exercise"
   ]
  },
  {
   "cell_type": "markdown",
   "metadata": {},
   "source": [
    "Exercise will consist of two part:\n",
    "\n",
    "- Receive sample feature representation, will then need to figure out which model is superior\n",
    "    - Make context specific, for this case we will care more about specificity\n",
    "    - Make one function for running the model, one function for returning ROC, one function for sensitivity, one function for specificity\n",
    "- Experiment with different feature representations, will then need to beat model performance from the previous part of the exercise"
   ]
  },
  {
   "cell_type": "code",
   "execution_count": null,
   "metadata": {},
   "outputs": [],
   "source": [
    "# Create function to test models\n",
    "test_model <- function(features){\n",
    "    # Build the model on training data\n",
    "    cat('Training model, please be patient...\\n')\n",
    "    total_variables <- append(features, 'TOTEXP09')\n",
    "    play_trainingData <- subset(trainingData,select = total_variables)\n",
    "    play_testData <- subset(testData,select = total_variables)\n",
    "    suppressMessages(attach(trainingData))\n",
    "    mylogit <- suppressWarnings(train(TOTEXP09~., data = play_trainingData, method = 'glm', family = 'binomial',na.action=na.omit))\n",
    "    detach(trainingData)\n",
    "\n",
    "    cat('Model trained!\\n')\n",
    "    # Apply the model to test data\n",
    "    modelPred.na <- predict(mylogit, newdata = play_testData, method = \"glm\", na.action = na.pass)\n",
    "\n",
    "    cat('Model successfully applied to test data!\\n')\n",
    "\n",
    "    # Create Confusion matrix\n",
    "    cm <- confusionMatrix(modelPred.na, play_testData$TOTEXP09)\n",
    "    ## Show confusion matrix\n",
    "    print(cm)\n",
    "\n",
    "    # Create a ROC curve\n",
    "    ROC <- roc(response =play_testData$TOTEXP09, predictor = factor(modelPred.na, \n",
    "                                                               ordered = TRUE, \n",
    "                                                               levels = c('low_risk', 'high_risk')))\n",
    "    # Plot ROC with ggplot2\n",
    "    plot_ROC <- ggroc(ROC)\n",
    "    print(plot_ROC)\n",
    "    \n",
    "    # Calculate the area under the curve (AUC)\n",
    "    cat('AUC:', round(auc(ROC), 2),'\\n')\n",
    "    test <- varImp(mylogit)\n",
    "    ggplot(test)\n",
    "}\n"
   ]
  },
  {
   "cell_type": "code",
   "execution_count": null,
   "metadata": {},
   "outputs": [],
   "source": [
    "colnames(trainingData)"
   ]
  },
  {
   "cell_type": "markdown",
   "metadata": {},
   "source": [
    "From the list of features above, pick the features you believe are the most predictive for determining mortality. Feel free to use our earlier analysis to inform which features you pick (this will help you make a more informed choice). You can type in your features in between the brackets below. Please follow the format shown in the example below.\n",
    "\n",
    "<code>features = c('REGION09','SEX','RACETHNX')</code>\n",
    "\n",
    "Be careful! If there are any typo, this will not work and you will need to run the code below again with the typo corrected. "
   ]
  },
  {
   "cell_type": "code",
   "execution_count": null,
   "metadata": {},
   "outputs": [],
   "source": [
    "features = c(\"ASACUT53\",\"ADAPPT42\",\"CHAPPT42\")"
   ]
  },
  {
   "cell_type": "markdown",
   "metadata": {},
   "source": [
    "Now we will see how our model performs using the features you selected. The below code will output evaluation metrics. "
   ]
  },
  {
   "cell_type": "code",
   "execution_count": null,
   "metadata": {},
   "outputs": [],
   "source": [
    "test_model(features)"
   ]
  },
  {
   "cell_type": "markdown",
   "metadata": {},
   "source": [
    "# Module Conclusion"
   ]
  },
  {
   "cell_type": "markdown",
   "metadata": {},
   "source": [
    "Concluding cell, the conclusion will consist of\n",
    "\n",
    "- Brief overview of module content\n",
    "- Connection to end of module quiz"
   ]
  },
  {
   "cell_type": "markdown",
   "metadata": {},
   "source": [
    "Need to include machine learning exercise in this section"
   ]
  }
 ],
 "metadata": {
  "kernelspec": {
   "display_name": "R",
   "language": "R",
   "name": "ir"
  },
  "language_info": {
   "codemirror_mode": "r",
   "file_extension": ".r",
   "mimetype": "text/x-r-source",
   "name": "R",
   "pygments_lexer": "r",
   "version": "3.6.1"
  },
  "toc": {
   "base_numbering": 1,
   "nav_menu": {},
   "number_sections": true,
   "sideBar": true,
   "skip_h1_title": false,
   "title_cell": "Table of Contents",
   "title_sidebar": "Contents",
   "toc_cell": false,
   "toc_position": {},
   "toc_section_display": true,
   "toc_window_display": false
  }
 },
 "nbformat": 4,
 "nbformat_minor": 4
}
