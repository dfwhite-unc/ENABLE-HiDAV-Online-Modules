{
 "cells": [
  {
   "cell_type": "markdown",
   "metadata": {},
   "source": [
    "# How to Embed a Video R Notebook "
   ]
  },
  {
   "cell_type": "code",
   "execution_count": 1,
   "metadata": {
    "ExecuteTime": {
     "end_time": "2020-05-19T18:35:41.226372Z",
     "start_time": "2020-05-19T18:35:41.116Z"
    }
   },
   "outputs": [],
   "source": [
    "# Setup Libraries\n",
    "library(\"htmltools\")\n",
    "suppressWarnings(library(\"vembedr\"))"
   ]
  },
  {
   "cell_type": "code",
   "execution_count": 2,
   "metadata": {
    "ExecuteTime": {
     "end_time": "2020-05-19T18:35:41.958700Z",
     "start_time": "2020-05-19T18:35:41.779Z"
    }
   },
   "outputs": [
    {
     "data": {
      "text/html": [
       "<!doctype html>\n",
       "<html>\n",
       "\t<head>\n",
       "\t\t<meta charset=\"utf-8\">\n",
       "\t\t\n",
       "\t</head>\n",
       "\t<body>\n",
       "\t\t<iframe src=\"https://www.youtube.com/embed/wAcbA2cIqec\" width=\"420\" height=\"315\" frameborder=\"0\" allowfullscreen=\"\"></iframe>\n",
       "\t</body>\n",
       "</html>\n"
      ],
      "text/plain": [
       "Shiny tags cannot be represented in plain text (need html)"
      ]
     },
     "metadata": {
      "text/html": {
       "isolated": true
      }
     },
     "output_type": "display_data"
    }
   ],
   "source": [
    "# Embedding Youtube Intro Video\n",
    "embed_url(\"https://www.youtube.com/watch?v=wAcbA2cIqec\")"
   ]
  },
  {
   "cell_type": "markdown",
   "metadata": {},
   "source": [
    "For edpuzzle video, we will need to call python and then embed it that way"
   ]
  },
  {
   "cell_type": "markdown",
   "metadata": {},
   "source": [
    "https://towardsdatascience.com/guide-to-r-and-python-in-a-single-jupyter-notebook-ff12532eb3ba"
   ]
  }
 ],
 "metadata": {
  "kernelspec": {
   "display_name": "R",
   "language": "R",
   "name": "ir"
  },
  "language_info": {
   "codemirror_mode": "r",
   "file_extension": ".r",
   "mimetype": "text/x-r-source",
   "name": "R",
   "pygments_lexer": "r",
   "version": "3.6.1"
  },
  "toc": {
   "base_numbering": 1,
   "nav_menu": {},
   "number_sections": true,
   "sideBar": true,
   "skip_h1_title": false,
   "title_cell": "Table of Contents",
   "title_sidebar": "Contents",
   "toc_cell": false,
   "toc_position": {},
   "toc_section_display": true,
   "toc_window_display": false
  }
 },
 "nbformat": 4,
 "nbformat_minor": 4
}
