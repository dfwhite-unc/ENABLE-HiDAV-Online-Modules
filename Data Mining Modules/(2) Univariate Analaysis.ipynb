{
 "cells": [
  {
   "cell_type": "markdown",
   "metadata": {},
   "source": [
    "# Introduction"
   ]
  },
  {
   "cell_type": "markdown",
   "metadata": {},
   "source": [
    "Introduction cell, the introduction will consist of:\n",
    "\n",
    "- Introduction text\n",
    "- Overview of previous module content\n",
    "- Table of contents for this module"
   ]
  },
  {
   "cell_type": "code",
   "execution_count": 1,
   "metadata": {},
   "outputs": [
    {
     "name": "stdout",
     "output_type": "stream",
     "text": [
      "Data loading, please wait\n",
      "Data loaded!"
     ]
    }
   ],
   "source": [
    "cat('Data loading, please wait\\n')\n",
    "dataframe <- read.csv(file=\"Data/main_data.csv\", encoding=\"UTF-8\", header=TRUE, sep=\",\")\n",
    "cat('Data loaded!')"
   ]
  },
  {
   "cell_type": "markdown",
   "metadata": {},
   "source": [
    "# Summary Statistic"
   ]
  },
  {
   "cell_type": "code",
   "execution_count": 3,
   "metadata": {},
   "outputs": [
    {
     "name": "stdout",
     "output_type": "stream",
     "text": [
      "'data.frame':\t91713 obs. of  186 variables:\n",
      " $ encounter_id                 : int  66154 114252 119783 79267 92056 33181 82208 120995 80471 42871 ...\n",
      " $ patient_id                   : int  25312 59342 50777 46918 34377 74489 49526 50129 10577 90749 ...\n",
      " $ hospital_id                  : int  118 81 118 118 33 83 83 33 118 118 ...\n",
      " $ hospital_death               : int  0 0 0 0 0 0 0 0 1 0 ...\n",
      " $ age                          : int  68 77 25 81 19 67 59 70 45 50 ...\n",
      " $ bmi                          : num  22.7 27.4 31.9 22.6 NA ...\n",
      " $ elective_surgery             : int  0 0 0 1 0 0 0 0 0 0 ...\n",
      " $ ethnicity                    : Factor w/ 7 levels \"\",\"African American\",..: 4 4 4 4 4 4 4 4 4 1 ...\n",
      " $ gender                       : Factor w/ 3 levels \"\",\"F\",\"M\": 3 2 2 2 3 3 2 3 3 3 ...\n",
      " $ height                       : num  180 160 173 165 188 ...\n",
      " $ hospital_admit_source        : Factor w/ 16 levels \"\",\"Acute Care/Floor\",..: 6 6 5 10 1 4 10 5 12 4 ...\n",
      " $ icu_admit_source             : Factor w/ 6 levels \"\",\"Accident & Emergency\",..: 3 3 2 4 2 2 2 2 5 2 ...\n",
      " $ icu_id                       : int  92 90 93 92 91 95 95 91 114 114 ...\n",
      " $ icu_stay_type                : Factor w/ 3 levels \"admit\",\"readmit\",..: 1 1 1 1 1 1 1 1 1 1 ...\n",
      " $ icu_type                     : Factor w/ 8 levels \"Cardiac ICU\",..: 4 5 5 4 5 5 5 5 2 2 ...\n",
      " $ pre_icu_los_days             : num  0.541667 0.927778 0.000694 0.000694 0.073611 ...\n",
      " $ readmission_status           : int  0 0 0 0 0 0 0 0 0 0 ...\n",
      " $ weight                       : num  73.9 70.2 95.3 61.7 NA ...\n",
      " $ albumin_apache               : num  2.3 NA NA NA NA NA NA NA 2.7 3.6 ...\n",
      " $ apache_2_diagnosis           : int  113 108 122 203 119 301 108 113 116 112 ...\n",
      " $ apache_3j_diagnosis          : num  502 203 703 1206 601 ...\n",
      " $ apache_post_operative        : int  0 0 0 1 0 0 0 0 0 0 ...\n",
      " $ arf_apache                   : int  0 0 0 0 0 0 0 0 0 0 ...\n",
      " $ bilirubin_apache             : num  0.4 NA NA NA NA NA NA NA 0.2 0.4 ...\n",
      " $ bun_apache                   : num  31 9 NA NA NA 13 18 48 15 10 ...\n",
      " $ creatinine_apache            : num  2.51 0.56 NA NA NA 0.71 0.78 2.05 1.16 0.83 ...\n",
      " $ fio2_apache                  : num  NA 1 NA 0.6 NA NA 1 NA 1 NA ...\n",
      " $ gcs_eyes_apache              : int  3 1 3 4 NA 4 4 4 4 4 ...\n",
      " $ gcs_motor_apache             : int  6 3 6 6 NA 6 6 6 6 6 ...\n",
      " $ gcs_unable_apache            : int  0 0 0 0 NA 0 0 0 0 0 ...\n",
      " $ gcs_verbal_apache            : int  4 1 5 5 NA 5 5 5 5 5 ...\n",
      " $ glucose_apache               : num  168 145 NA 185 NA 156 197 164 380 134 ...\n",
      " $ heart_rate_apache            : int  118 120 102 114 60 113 133 120 82 94 ...\n",
      " $ hematocrit_apache            : num  27.4 36.9 NA 25.9 NA 44.2 33.5 22.6 37.9 37.2 ...\n",
      " $ intubated_apache             : int  0 0 0 1 0 0 1 0 0 0 ...\n",
      " $ map_apache                   : int  40 46 68 60 103 130 138 60 66 58 ...\n",
      " $ paco2_apache                 : num  NA 37 NA 30 NA NA 43 NA 60 NA ...\n",
      " $ paco2_for_ph_apache          : num  NA 37 NA 30 NA NA 43 NA 60 NA ...\n",
      " $ pao2_apache                  : num  NA 51 NA 142 NA NA 370 NA 92 NA ...\n",
      " $ ph_apache                    : num  NA 7.45 NA 7.39 NA NA 7.42 NA 7.14 NA ...\n",
      " $ resprate_apache              : num  36 33 37 4 16 35 53 28 14 46 ...\n",
      " $ sodium_apache                : num  134 145 NA NA NA 137 135 140 142 139 ...\n",
      " $ temp_apache                  : num  39.3 35.1 36.7 34.8 36.7 36.6 35 36.6 36.9 36.3 ...\n",
      " $ urineoutput_apache           : num  NA NA NA NA NA NA NA NA NA NA ...\n",
      " $ ventilated_apache            : int  0 1 0 1 0 0 1 1 1 0 ...\n",
      " $ wbc_apache                   : num  14.1 12.7 NA 8 NA 10.9 5.9 12.8 24.7 8.4 ...\n",
      " $ d1_diasbp_invasive_max       : int  46 NA NA 62 NA NA 107 NA 64 74 ...\n",
      " $ d1_diasbp_invasive_min       : int  32 NA NA 30 NA NA 65 NA 52 57 ...\n",
      " $ d1_diasbp_max                : int  68 95 88 48 99 100 76 84 65 83 ...\n",
      " $ d1_diasbp_min                : int  37 31 48 42 57 61 68 46 59 48 ...\n",
      " $ d1_diasbp_noninvasive_max    : int  68 95 88 48 99 100 76 84 65 83 ...\n",
      " $ d1_diasbp_noninvasive_min    : int  37 31 48 42 57 61 68 46 59 48 ...\n",
      " $ d1_heartrate_max             : int  119 118 96 116 89 113 112 118 82 96 ...\n",
      " $ d1_heartrate_min             : int  72 72 68 92 60 83 70 86 82 57 ...\n",
      " $ d1_mbp_invasive_max          : int  66 NA NA 92 NA NA 138 NA 72 92 ...\n",
      " $ d1_mbp_invasive_min          : int  40 NA NA 52 NA NA 84 NA 66 73 ...\n",
      " $ d1_mbp_max                   : int  89 120 102 84 104 127 117 114 93 101 ...\n",
      " $ d1_mbp_min                   : int  46 38 68 84 90 80 97 60 71 59 ...\n",
      " $ d1_mbp_noninvasive_max       : int  89 120 102 84 104 127 117 114 93 101 ...\n",
      " $ d1_mbp_noninvasive_min       : int  46 38 68 84 90 80 97 60 71 59 ...\n",
      " $ d1_resprate_max              : int  34 32 21 23 18 32 38 28 24 44 ...\n",
      " $ d1_resprate_min              : int  10 12 8 7 16 10 16 12 19 14 ...\n",
      " $ d1_spo2_max                  : int  100 100 98 100 100 97 100 100 97 100 ...\n",
      " $ d1_spo2_min                  : int  74 70 91 95 96 91 87 92 97 96 ...\n",
      " $ d1_sysbp_invasive_max        : int  122 NA NA 164 NA NA 191 NA 94 126 ...\n",
      " $ d1_sysbp_invasive_min        : int  64 NA NA 78 NA NA 116 NA 72 103 ...\n",
      " $ d1_sysbp_max                 : int  131 159 148 158 147 173 151 147 104 135 ...\n",
      " $ d1_sysbp_min                 : int  73 67 105 84 120 107 133 71 98 78 ...\n",
      " $ d1_sysbp_noninvasive_max     : int  131 159 148 158 147 173 151 147 104 135 ...\n",
      " $ d1_sysbp_noninvasive_min     : num  73 67 105 84 120 107 133 71 98 78 ...\n",
      " $ d1_temp_max                  : num  39.9 36.3 37 38 37.2 36.8 37.2 38.5 36.9 37.1 ...\n",
      " $ d1_temp_min                  : num  37.2 35.1 36.7 34.8 36.7 36.6 35 36.6 36.9 36.4 ...\n",
      " $ h1_diasbp_invasive_max       : int  NA NA NA 62 NA NA 107 NA 64 73 ...\n",
      " $ h1_diasbp_invasive_min       : int  NA NA NA 44 NA NA 79 NA 52 62 ...\n",
      " $ h1_diasbp_max                : int  68 61 88 62 99 89 107 74 65 83 ...\n",
      " $ h1_diasbp_min                : int  63 48 58 44 68 89 79 55 59 61 ...\n",
      " $ h1_diasbp_noninvasive_max    : int  68 61 88 NA 99 89 NA 74 65 83 ...\n",
      " $ h1_diasbp_noninvasive_min    : int  63 48 58 NA 68 89 NA 55 59 61 ...\n",
      " $ h1_heartrate_max             : int  119 114 96 100 89 83 79 118 82 96 ...\n",
      " $ h1_heartrate_min             : int  108 100 78 96 76 83 72 114 82 60 ...\n",
      " $ h1_mbp_invasive_max          : num  NA NA NA 92 NA NA 138 NA 72 92 ...\n",
      " $ h1_mbp_invasive_min          : int  NA NA NA 71 NA NA 115 NA 66 78 ...\n",
      " $ h1_mbp_max                   : int  86 85 91 92 104 111 117 88 93 101 ...\n",
      " $ h1_mbp_min                   : int  85 57 83 71 92 111 117 60 71 77 ...\n",
      " $ h1_mbp_noninvasive_max       : int  86 85 91 NA 104 111 117 88 93 101 ...\n",
      " $ h1_mbp_noninvasive_min       : int  85 57 83 NA 92 111 117 60 71 77 ...\n",
      " $ h1_resprate_max              : int  26 31 20 12 NA 12 18 28 24 29 ...\n",
      " $ h1_resprate_min              : int  18 28 16 11 NA 12 18 26 19 17 ...\n",
      " $ h1_spo2_max                  : int  100 95 98 100 100 97 100 96 97 100 ...\n",
      " $ h1_spo2_min                  : int  74 70 91 99 100 97 100 92 97 96 ...\n",
      " $ h1_sysbp_invasive_max        : int  NA NA NA 136 NA NA 191 NA 94 126 ...\n",
      " $ h1_sysbp_invasive_min        : num  NA NA NA 106 NA NA 163 NA 72 106 ...\n",
      " $ h1_sysbp_max                 : int  131 95 148 136 130 143 191 119 104 135 ...\n",
      " $ h1_sysbp_min                 : int  115 71 124 106 120 143 163 106 98 103 ...\n",
      " $ h1_sysbp_noninvasive_max     : int  131 95 148 NA 130 143 NA 119 104 135 ...\n",
      " $ h1_sysbp_noninvasive_min     : int  115 71 124 NA 120 143 NA 106 98 103 ...\n",
      " $ h1_temp_max                  : num  39.5 36.3 36.7 35.6 NA 36.7 36.8 38.5 36.9 36.9 ...\n",
      " $ h1_temp_min                  : num  37.5 36.3 36.7 34.8 NA 36.7 35 38.5 36.9 36.9 ...\n",
      " $ d1_albumin_max               : num  2.3 1.6 NA NA NA NA NA NA 2.7 3.6 ...\n",
      "  [list output truncated]\n"
     ]
    }
   ],
   "source": [
    "str(dataframe)"
   ]
  },
  {
   "cell_type": "markdown",
   "metadata": {},
   "source": [
    "*Note: Make sure missing values are taken care of in the preparing data section; remove variables with too many missing*"
   ]
  },
  {
   "cell_type": "code",
   "execution_count": 4,
   "metadata": {},
   "outputs": [
    {
     "name": "stdout",
     "output_type": "stream",
     "text": [
      "Mean: 62.30952 SD 16.77512 \n",
      "Median 65 IQR: 23 \n"
     ]
    }
   ],
   "source": [
    "cat(\"Mean:\", mean(dataframe$age, na.rm = TRUE))\n",
    "cat(\" SD\", sd(dataframe$age, na.rm = TRUE), \"\\n\") \n",
    "cat(\"Median\", median(dataframe$age, na.rm = TRUE))\n",
    "cat(\" IQR:\", IQR(dataframe$age, na.rm = TRUE), \"\\n\")"
   ]
  },
  {
   "cell_type": "markdown",
   "metadata": {},
   "source": [
    "# Univariate Data Visualization"
   ]
  },
  {
   "cell_type": "code",
   "execution_count": 5,
   "metadata": {},
   "outputs": [],
   "source": [
    "library(ggplot2)"
   ]
  },
  {
   "cell_type": "markdown",
   "metadata": {},
   "source": [
    "## Histogram"
   ]
  },
  {
   "cell_type": "code",
   "execution_count": 21,
   "metadata": {},
   "outputs": [
    {
     "name": "stderr",
     "output_type": "stream",
     "text": [
      "Warning message:\n",
      "\"Removed 4228 rows containing non-finite values (stat_bin).\""
     ]
    },
    {
     "data": {
      "image/png": "[encoded data removed]",
      "text/plain": [
       "plot without title"
      ]
     },
     "metadata": {},
     "output_type": "display_data"
    }
   ],
   "source": [
    "ggplot(dataframe, aes(x=age)) + geom_histogram(binwidth = 5, alpha=0.8, color=\"#e9ecef\")"
   ]
  },
  {
   "cell_type": "markdown",
   "metadata": {},
   "source": [
    "### Function to generate histogram"
   ]
  },
  {
   "cell_type": "markdown",
   "metadata": {},
   "source": [
    "## Barplot"
   ]
  },
  {
   "cell_type": "code",
   "execution_count": 38,
   "metadata": {},
   "outputs": [
    {
     "data": {
      "image/png": "[encoded data removed]",
      "text/plain": [
       "plot without title"
      ]
     },
     "metadata": {},
     "output_type": "display_data"
    }
   ],
   "source": [
    "ggplot(dataframe, aes(x=as.factor(hospital_death), fill=as.factor(hospital_death))) + geom_bar()"
   ]
  },
  {
   "cell_type": "markdown",
   "metadata": {},
   "source": [
    "### Function to generate barplot"
   ]
  },
  {
   "cell_type": "markdown",
   "metadata": {},
   "source": [
    "# Categorical vs. Continuous Variables"
   ]
  },
  {
   "cell_type": "markdown",
   "metadata": {},
   "source": [
    "Ensure all variables are correctly characterized as categorical or coninuous otherwise bar plot code will be weird"
   ]
  },
  {
   "cell_type": "markdown",
   "metadata": {},
   "source": [
    "# Module Conclusion"
   ]
  },
  {
   "cell_type": "markdown",
   "metadata": {},
   "source": [
    "Concluding cell, the conclusion will consist of\n",
    "\n",
    "- Brief overview of module content\n",
    "- Connection to end of module quiz\n",
    "- Exercise\n",
    "    - The exercise will ask a question which will require them to do some basic coding (think ask the mean and median of a specific variable, and then ask if that distribution is skewed, this will require them to use the mean and median coding and the data visualization function you created, will also require them to decide between a bar graph, histogram, or box and whisker plot"
   ]
  },
  {
   "cell_type": "code",
   "execution_count": null,
   "metadata": {},
   "outputs": [],
   "source": []
  }
 ],
 "metadata": {
  "kernelspec": {
   "display_name": "R",
   "language": "R",
   "name": "ir"
  },
  "language_info": {
   "codemirror_mode": "r",
   "file_extension": ".r",
   "mimetype": "text/x-r-source",
   "name": "R",
   "pygments_lexer": "r",
   "version": "3.6.1"
  },
  "toc": {
   "base_numbering": 1,
   "nav_menu": {},
   "number_sections": true,
   "sideBar": true,
   "skip_h1_title": false,
   "title_cell": "Table of Contents",
   "title_sidebar": "Contents",
   "toc_cell": false,
   "toc_position": {},
   "toc_section_display": true,
   "toc_window_display": false
  }
 },
 "nbformat": 4,
 "nbformat_minor": 4
}
