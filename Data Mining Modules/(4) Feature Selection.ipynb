{
 "cells": [
  {
   "cell_type": "markdown",
   "metadata": {},
   "source": [
    "# Feature Selection\n",
    "## Topics for this notebook\n",
    "1. Clinical context  \n",
    "2. Read in CSV file\n",
    "3. Correct the data types for the model  \n",
    "4. Spitting the data between training and testing sets\n",
    "5. Oversampling to make the training set more balanced  \n",
    "6. Feature selection using a wrapper method\n",
    "7. Feature selection using an embedded method "
   ]
  },
  {
   "cell_type": "markdown",
   "metadata": {},
   "source": [
    "## Clinical context\n",
    "For this notebook we will be building a model to predict hospital death based on data from an intensive care unit (ICU). Predicting patient death in the ICU is extremely important because determining which patients need attention immediately can help to prioritize care in a way that prevents as many deaths as possible. As a basis for this model we will be selecting many of the same features used by the Apache Algorithm. The Apache Algorithm was also created to predict patient death in the ICU and should serve as a good starting point for our model. Due to some missing data, certain features from the Apache Algorithm have been excluded from our model. Also, in an attempt to increase the performance of our model new features have been added that are not part of the Apache Algorithm.   "
   ]
  },
  {
   "cell_type": "markdown",
   "metadata": {},
   "source": [
    "## Read in CSV file "
   ]
  },
  {
   "cell_type": "code",
   "execution_count": 1,
   "metadata": {},
   "outputs": [
    {
     "name": "stdout",
     "output_type": "stream",
     "text": [
      "package 'rlang' successfully unpacked and MD5 sums checked\n"
     ]
    },
    {
     "name": "stderr",
     "output_type": "stream",
     "text": [
      "Warning message:\n",
      "\"cannot remove prior installation of package 'rlang'\"Warning message in file.copy(savedcopy, lib, recursive = TRUE):\n",
      "\"problem copying C:\\Users\\Aaron\\anaconda3\\Lib\\R\\library\\00LOCK\\rlang\\libs\\x64\\rlang.dll to C:\\Users\\Aaron\\anaconda3\\Lib\\R\\library\\rlang\\libs\\x64\\rlang.dll: Permission denied\"Warning message:\n",
      "\"restored 'rlang'\""
     ]
    },
    {
     "name": "stdout",
     "output_type": "stream",
     "text": [
      "\n",
      "The downloaded binary packages are in\n",
      "\tC:\\Users\\Aaron\\AppData\\Local\\Temp\\RtmpAD9Lcm\\downloaded_packages\n",
      "package 'readr' successfully unpacked and MD5 sums checked\n"
     ]
    },
    {
     "name": "stderr",
     "output_type": "stream",
     "text": [
      "Warning message:\n",
      "\"cannot remove prior installation of package 'readr'\"Warning message in file.copy(savedcopy, lib, recursive = TRUE):\n",
      "\"problem copying C:\\Users\\Aaron\\anaconda3\\Lib\\R\\library\\00LOCK\\readr\\libs\\x64\\librcon.lib to C:\\Users\\Aaron\\anaconda3\\Lib\\R\\library\\readr\\libs\\x64\\librcon.lib: Permission denied\"Warning message in file.copy(savedcopy, lib, recursive = TRUE):\n",
      "\"problem copying C:\\Users\\Aaron\\anaconda3\\Lib\\R\\library\\00LOCK\\readr\\libs\\x64\\readr.dll to C:\\Users\\Aaron\\anaconda3\\Lib\\R\\library\\readr\\libs\\x64\\readr.dll: Permission denied\"Warning message:\n",
      "\"restored 'readr'\""
     ]
    },
    {
     "name": "stdout",
     "output_type": "stream",
     "text": [
      "\n",
      "The downloaded binary packages are in\n",
      "\tC:\\Users\\Aaron\\AppData\\Local\\Temp\\RtmpAD9Lcm\\downloaded_packages\n"
     ]
    },
    {
     "name": "stderr",
     "output_type": "stream",
     "text": [
      "Warning message:\n",
      "\"package 'rlang' was built under R version 3.6.3\"Warning message:\n",
      "\"package 'readr' was built under R version 3.6.3\"Parsed with column specification:\n",
      "cols(\n",
      "  hospital_death = col_double(),\n",
      "  temp_apache = col_double(),\n",
      "  map_apache = col_double(),\n",
      "  h1_heartrate_max = col_double(),\n",
      "  d1_resprate_max = col_double(),\n",
      "  sodium_apache = col_double(),\n",
      "  d1_potassium_max = col_double(),\n",
      "  d1_creatinine_max = col_double(),\n",
      "  d1_hematocrit_max = col_double(),\n",
      "  wbc_apache = col_double(),\n",
      "  gcs_eyes_apache = col_double(),\n",
      "  gcs_motor_apache = col_double(),\n",
      "  age = col_double(),\n",
      "  pre_icu_los_days = col_double(),\n",
      "  bmi = col_double(),\n",
      "  intubated_apache = col_double(),\n",
      "  sepsis = col_double(),\n",
      "  cardiovascular_diagnosis = col_double()\n",
      ")\n"
     ]
    },
    {
     "name": "stdout",
     "output_type": "stream",
     "text": [
      "[1] \"CSV file loaded sucessfully\"\n"
     ]
    }
   ],
   "source": [
    "#install and load required libraries/packages \n",
    "install.packages(\"rlang\")\n",
    "install.packages(\"readr\")\n",
    "library (rlang)\n",
    "library (readr)\n",
    "\n",
    "#location of raw csv file on github repository \n",
    "urlfile=\"https://raw.githubusercontent.com/e-cui/ENABLE-HiDAV-Online-Modules/master/Data%20Mining%20Modules/csv_files/t.csv\"\n",
    "\n",
    "#Read the CSV file into a data frame called t \n",
    "t<-read_csv(url(urlfile))\n",
    "\n",
    "#print\n",
    "print(\"CSV file loaded sucessfully\")"
   ]
  },
  {
   "cell_type": "markdown",
   "metadata": {},
   "source": [
    "## Change data type to fit the model \n",
    "- In order for the model to behave properly the correct data types must be assigned to each of our variables. \n",
    "- One issue with using CSV files is that they do not specify the data type so this step is often required before extensive data manipulation. "
   ]
  },
  {
   "cell_type": "code",
   "execution_count": 2,
   "metadata": {},
   "outputs": [
    {
     "name": "stdout",
     "output_type": "stream",
     "text": [
      "Classes 'spec_tbl_df', 'tbl_df', 'tbl' and 'data.frame':\t91713 obs. of  18 variables:\n",
      " $ hospital_death          : Factor w/ 2 levels \"0\",\"1\": 1 1 1 1 1 1 1 1 2 1 ...\n",
      " $ temp_apache             : num  39.3 35.1 36.7 34.8 36.7 36.6 35 36.6 36.9 36.3 ...\n",
      " $ map_apache              : num  40 46 68 60 103 130 138 60 66 58 ...\n",
      " $ h1_heartrate_max        : num  119 114 96 100 89 83 79 118 82 96 ...\n",
      " $ d1_resprate_max         : num  34 32 21 23 18 32 38 28 24 44 ...\n",
      " $ sodium_apache           : num  134 145 138 138 138 ...\n",
      " $ d1_potassium_max        : num  4 4.2 4.25 5 4.25 ...\n",
      " $ d1_creatinine_max       : num  2.51 0.71 1.49 1.49 1.49 ...\n",
      " $ d1_hematocrit_max       : num  27.4 36.9 34.5 34 34.5 ...\n",
      " $ wbc_apache              : num  14.1 12.7 10.5 8 15.5 ...\n",
      " $ gcs_eyes_apache         : Factor w/ 4 levels \"1\",\"2\",\"3\",\"4\": 3 1 3 4 1 4 4 4 4 4 ...\n",
      " $ gcs_motor_apache        : Factor w/ 6 levels \"1\",\"2\",\"3\",\"4\",..: 6 3 6 6 1 6 6 6 6 6 ...\n",
      " $ age                     : num  68 77 25 81 19 67 59 70 45 50 ...\n",
      " $ pre_icu_los_days        : num  0.541667 0.927778 0.000694 0.000694 0.073611 ...\n",
      " $ bmi                     : num  22.7 27.4 31.9 22.6 29.2 ...\n",
      " $ intubated_apache        : Factor w/ 2 levels \"0\",\"1\": 1 1 1 2 1 1 2 1 1 1 ...\n",
      " $ sepsis                  : Factor w/ 2 levels \"0\",\"1\": 2 1 1 1 1 1 1 2 1 1 ...\n",
      " $ cardiovascular_diagnosis: Factor w/ 2 levels \"0\",\"1\": 1 1 1 1 1 1 1 1 1 1 ...\n",
      " - attr(*, \"spec\")=\n",
      "  .. cols(\n",
      "  ..   hospital_death = col_double(),\n",
      "  ..   temp_apache = col_double(),\n",
      "  ..   map_apache = col_double(),\n",
      "  ..   h1_heartrate_max = col_double(),\n",
      "  ..   d1_resprate_max = col_double(),\n",
      "  ..   sodium_apache = col_double(),\n",
      "  ..   d1_potassium_max = col_double(),\n",
      "  ..   d1_creatinine_max = col_double(),\n",
      "  ..   d1_hematocrit_max = col_double(),\n",
      "  ..   wbc_apache = col_double(),\n",
      "  ..   gcs_eyes_apache = col_double(),\n",
      "  ..   gcs_motor_apache = col_double(),\n",
      "  ..   age = col_double(),\n",
      "  ..   pre_icu_los_days = col_double(),\n",
      "  ..   bmi = col_double(),\n",
      "  ..   intubated_apache = col_double(),\n",
      "  ..   sepsis = col_double(),\n",
      "  ..   cardiovascular_diagnosis = col_double()\n",
      "  .. )\n"
     ]
    }
   ],
   "source": [
    "#change categorical variables to factor data type\n",
    "#data_frame$column_name is used to refer to a specific column\n",
    "t$hospital_death<- as.factor(t$hospital_death)\n",
    "t$sepsis<- as.factor(t$sepsis)\n",
    "t$cardiovascular_diagnosis<- as.factor(t$cardiovascular_diagnosis)\n",
    "t$intubated_apache<- as.factor(t$intubated_apache)\n",
    "t$gcs_eyes_apache<- as.factor(t$gcs_eyes_apache)\n",
    "t$gcs_motor_apache<- as.factor(t$gcs_motor_apache)\n",
    "\n",
    "#change to numeric variables to numeric data type \n",
    "t$temp_apache<- as.numeric(t$temp_apache)\n",
    "t$map_apache<- as.numeric(t$map_apache)\n",
    "t$h1_heartrate_max<- as.numeric(t$h1_heartrate_max)\n",
    "t$d1_resprate_max<- as.numeric(t$d1_resprate_max)\n",
    "t$d1_potassium_max<- as.numeric(t$d1_potassium_max)\n",
    "t$d1_creatinine_max<- as.numeric(t$d1_creatinine_max)\n",
    "t$d1_hematocrit_max<- as.numeric(t$d1_hematocrit_max)\n",
    "t$sodium_apache<- as.numeric(t$sodium_apache)\n",
    "t$wbc_apache<- as.numeric(t$wbc_apache)\n",
    "t$age<- as.numeric(t$age)\n",
    "t$pre_icu_los_days<- as.numeric(t$pre_icu_los_days)\n",
    "t$bmi<- as.numeric(t$bmi)\n",
    "\n",
    "#check all variable data types to make sure they are correct\n",
    "str(t)"
   ]
  },
  {
   "cell_type": "markdown",
   "metadata": {},
   "source": [
    "## Split the data frame into separate training and testing data frames\n",
    "- Splitting the data in this manner is important because the model must be tested on data that it has never seen before. \n",
    "- When splitting the data the training set should be larger than the testing to allow for more accurate predictions. "
   ]
  },
  {
   "cell_type": "code",
   "execution_count": 3,
   "metadata": {},
   "outputs": [
    {
     "name": "stdout",
     "output_type": "stream",
     "text": [
      "package 'caTools' successfully unpacked and MD5 sums checked\n"
     ]
    },
    {
     "name": "stderr",
     "output_type": "stream",
     "text": [
      "Warning message:\n",
      "\"cannot remove prior installation of package 'caTools'\"Warning message in file.copy(savedcopy, lib, recursive = TRUE):\n",
      "\"problem copying C:\\Users\\Aaron\\anaconda3\\Lib\\R\\library\\00LOCK\\caTools\\libs\\x64\\caTools.dll to C:\\Users\\Aaron\\anaconda3\\Lib\\R\\library\\caTools\\libs\\x64\\caTools.dll: Permission denied\"Warning message:\n",
      "\"restored 'caTools'\""
     ]
    },
    {
     "name": "stdout",
     "output_type": "stream",
     "text": [
      "\n",
      "The downloaded binary packages are in\n",
      "\tC:\\Users\\Aaron\\AppData\\Local\\Temp\\RtmpeArY5f\\downloaded_packages\n"
     ]
    },
    {
     "name": "stderr",
     "output_type": "stream",
     "text": [
      "Warning message:\n",
      "\"package 'caTools' was built under R version 3.6.3\""
     ]
    }
   ],
   "source": [
    "#install and load required libraries/packages \n",
    "install.packages(\"caTools\")\n",
    "library(caTools)\n",
    "\n",
    "#75% of the sample size\n",
    "smp_size <- floor(0.75 * nrow(t))\n",
    "\n",
    "#set the seed to make your partition reproducible\n",
    "set.seed(123)\n",
    "train_ind <- sample(seq_len(nrow(t)), size = smp_size)\n",
    "\n",
    "#create a training data frame and a testing data frame \n",
    "train1 <- t[train_ind, ]\n",
    "test1 <- t[-train_ind, ]\n",
    "\n",
    "#print\n",
    "print(\"Training and testing data sets created\")"
   ]
  },
  {
   "cell_type": "markdown",
   "metadata": {},
   "source": [
    "## Oversample the minority outcome to balance the training data frame (not always necessary)  \n",
    "- Oversampling was necessary for this case since death is much less common in the ICU than recovery. \n",
    "- Without oversampling our algorithm may predict that no patient would die. "
   ]
  },
  {
   "cell_type": "code",
   "execution_count": 4,
   "metadata": {},
   "outputs": [
    {
     "name": "stdout",
     "output_type": "stream",
     "text": [
      "package 'ROSE' successfully unpacked and MD5 sums checked\n",
      "\n",
      "The downloaded binary packages are in\n",
      "\tC:\\Users\\Aaron\\AppData\\Local\\Temp\\RtmpeArY5f\\downloaded_packages\n"
     ]
    },
    {
     "name": "stderr",
     "output_type": "stream",
     "text": [
      "Warning message:\n",
      "\"package 'ROSE' was built under R version 3.6.3\"Loaded ROSE 0.0-3\n",
      "\n"
     ]
    },
    {
     "data": {
      "text/plain": [
       "\n",
       "    0     1 \n",
       "13840  9089 "
      ]
     },
     "metadata": {},
     "output_type": "display_data"
    }
   ],
   "source": [
    "#install and load required libraries/packages \n",
    "install.packages(\"ROSE\")\n",
    "library(ROSE)\n",
    "\n",
    "#oversample the minority outcome to correct for data imbalance\n",
    "data.rose <- ROSE(hospital_death~., p = 0.4, data=test1, seed=3)$data\n",
    "\n",
    "#show how many of each outcome in oversampled data \n",
    "table(data.rose$hospital_death)"
   ]
  },
  {
   "cell_type": "markdown",
   "metadata": {},
   "source": [
    "## Backward feature selection using recursive feature elimination (wrapper method)\n",
    "- Backward feature selection starts with all the variables included in the model. \n",
    "- The model is run many times as the number of feature are reduced. \n",
    "- After completion, backward feature selection will specify the optimal number of features for your model. "
   ]
  },
  {
   "cell_type": "code",
   "execution_count": 5,
   "metadata": {},
   "outputs": [
    {
     "name": "stdout",
     "output_type": "stream",
     "text": [
      "package 'mlbench' successfully unpacked and MD5 sums checked\n"
     ]
    },
    {
     "name": "stderr",
     "output_type": "stream",
     "text": [
      "Warning message:\n",
      "\"cannot remove prior installation of package 'mlbench'\"Warning message in file.copy(savedcopy, lib, recursive = TRUE):\n",
      "\"problem copying C:\\Users\\Aaron\\anaconda3\\Lib\\R\\library\\00LOCK\\mlbench\\libs\\x64\\mlbench.dll to C:\\Users\\Aaron\\anaconda3\\Lib\\R\\library\\mlbench\\libs\\x64\\mlbench.dll: Permission denied\"Warning message:\n",
      "\"restored 'mlbench'\""
     ]
    },
    {
     "name": "stdout",
     "output_type": "stream",
     "text": [
      "\n",
      "The downloaded binary packages are in\n",
      "\tC:\\Users\\Aaron\\AppData\\Local\\Temp\\RtmpeArY5f\\downloaded_packages\n",
      "package 'caret' successfully unpacked and MD5 sums checked\n"
     ]
    },
    {
     "name": "stderr",
     "output_type": "stream",
     "text": [
      "Warning message:\n",
      "\"cannot remove prior installation of package 'caret'\"Warning message in file.copy(savedcopy, lib, recursive = TRUE):\n",
      "\"problem copying C:\\Users\\Aaron\\anaconda3\\Lib\\R\\library\\00LOCK\\caret\\libs\\x64\\caret.dll to C:\\Users\\Aaron\\anaconda3\\Lib\\R\\library\\caret\\libs\\x64\\caret.dll: Permission denied\"Warning message:\n",
      "\"restored 'caret'\""
     ]
    },
    {
     "name": "stdout",
     "output_type": "stream",
     "text": [
      "\n",
      "The downloaded binary packages are in\n",
      "\tC:\\Users\\Aaron\\AppData\\Local\\Temp\\RtmpeArY5f\\downloaded_packages\n",
      "package 'randomForest' successfully unpacked and MD5 sums checked\n"
     ]
    },
    {
     "name": "stderr",
     "output_type": "stream",
     "text": [
      "Warning message:\n",
      "\"cannot remove prior installation of package 'randomForest'\"Warning message in file.copy(savedcopy, lib, recursive = TRUE):\n",
      "\"problem copying C:\\Users\\Aaron\\anaconda3\\Lib\\R\\library\\00LOCK\\randomForest\\libs\\x64\\randomForest.dll to C:\\Users\\Aaron\\anaconda3\\Lib\\R\\library\\randomForest\\libs\\x64\\randomForest.dll: Permission denied\"Warning message:\n",
      "\"restored 'randomForest'\""
     ]
    },
    {
     "name": "stdout",
     "output_type": "stream",
     "text": [
      "\n",
      "The downloaded binary packages are in\n",
      "\tC:\\Users\\Aaron\\AppData\\Local\\Temp\\RtmpeArY5f\\downloaded_packages\n",
      "package 'e1071' successfully unpacked and MD5 sums checked\n"
     ]
    },
    {
     "name": "stderr",
     "output_type": "stream",
     "text": [
      "Warning message:\n",
      "\"cannot remove prior installation of package 'e1071'\"Warning message in file.copy(savedcopy, lib, recursive = TRUE):\n",
      "\"problem copying C:\\Users\\Aaron\\anaconda3\\Lib\\R\\library\\00LOCK\\e1071\\libs\\x64\\e1071.dll to C:\\Users\\Aaron\\anaconda3\\Lib\\R\\library\\e1071\\libs\\x64\\e1071.dll: Permission denied\"Warning message:\n",
      "\"restored 'e1071'\""
     ]
    },
    {
     "name": "stdout",
     "output_type": "stream",
     "text": [
      "\n",
      "The downloaded binary packages are in\n",
      "\tC:\\Users\\Aaron\\AppData\\Local\\Temp\\RtmpeArY5f\\downloaded_packages\n"
     ]
    },
    {
     "name": "stderr",
     "output_type": "stream",
     "text": [
      "Warning message:\n",
      "\"package 'e1071' was built under R version 3.6.3\"Warning message:\n",
      "\"package 'mlbench' was built under R version 3.6.3\"Warning message:\n",
      "\"package 'caret' was built under R version 3.6.3\"Loading required package: lattice\n",
      "Warning message:\n",
      "\"package 'lattice' was built under R version 3.6.3\"Loading required package: ggplot2\n",
      "Warning message:\n",
      "\"package 'ggplot2' was built under R version 3.6.3\"Warning message:\n",
      "\"package 'randomForest' was built under R version 3.6.3\"randomForest 4.6-14\n",
      "Type rfNews() to see new features/changes/bug fixes.\n",
      "\n",
      "Attaching package: 'randomForest'\n",
      "\n",
      "The following object is masked from 'package:ggplot2':\n",
      "\n",
      "    margin\n",
      "\n"
     ]
    },
    {
     "name": "stdout",
     "output_type": "stream",
     "text": [
      "\n",
      "Recursive feature selection\n",
      "\n",
      "Outer resampling method: Cross-Validated (10 fold) \n",
      "\n",
      "Resampling performance over subset size:\n",
      "\n",
      " Variables Accuracy  Kappa AccuracySD  KappaSD Selected\n",
      "         2   0.7013 0.3601   0.008034 0.017265         \n",
      "         3   0.7315 0.4250   0.009331 0.018976         \n",
      "         4   0.7434 0.4531   0.008350 0.017410         \n",
      "         5   0.7673 0.5061   0.009896 0.021378         \n",
      "         6   0.7850 0.5452   0.004207 0.008868         \n",
      "         7   0.7945 0.5656   0.004963 0.010398         \n",
      "         8   0.7981 0.5738   0.005084 0.010694         \n",
      "         9   0.8022 0.5828   0.005640 0.011749         \n",
      "        10   0.8076 0.5945   0.005759 0.011989         \n",
      "        11   0.8091 0.5967   0.005788 0.012383         \n",
      "        12   0.8136 0.6064   0.004732 0.010149         \n",
      "        13   0.8152 0.6094   0.007190 0.015274         \n",
      "        14   0.8180 0.6156   0.006307 0.013492         \n",
      "        15   0.8209 0.6216   0.006690 0.014862         \n",
      "        16   0.8218 0.6239   0.007263 0.016006         \n",
      "        17   0.8242 0.6289   0.006344 0.013887        *\n",
      "\n",
      "The top 5 variables (out of 17):\n",
      "   temp_apache, pre_icu_los_days, wbc_apache, age, gcs_motor_apache\n",
      "\n"
     ]
    },
    {
     "data": {
      "text/html": [
       "<ol class=list-inline>\n",
       "\t<li>'temp_apache'</li>\n",
       "\t<li>'pre_icu_los_days'</li>\n",
       "\t<li>'wbc_apache'</li>\n",
       "\t<li>'age'</li>\n",
       "\t<li>'gcs_motor_apache'</li>\n",
       "\t<li>'d1_creatinine_max'</li>\n",
       "\t<li>'h1_heartrate_max'</li>\n",
       "\t<li>'d1_potassium_max'</li>\n",
       "\t<li>'d1_resprate_max'</li>\n",
       "\t<li>'gcs_eyes_apache'</li>\n",
       "\t<li>'cardiovascular_diagnosis'</li>\n",
       "\t<li>'sepsis'</li>\n",
       "\t<li>'map_apache'</li>\n",
       "\t<li>'sodium_apache'</li>\n",
       "\t<li>'intubated_apache'</li>\n",
       "\t<li>'d1_hematocrit_max'</li>\n",
       "\t<li>'bmi'</li>\n",
       "</ol>\n"
      ],
      "text/latex": [
       "\\begin{enumerate*}\n",
       "\\item 'temp\\_apache'\n",
       "\\item 'pre\\_icu\\_los\\_days'\n",
       "\\item 'wbc\\_apache'\n",
       "\\item 'age'\n",
       "\\item 'gcs\\_motor\\_apache'\n",
       "\\item 'd1\\_creatinine\\_max'\n",
       "\\item 'h1\\_heartrate\\_max'\n",
       "\\item 'd1\\_potassium\\_max'\n",
       "\\item 'd1\\_resprate\\_max'\n",
       "\\item 'gcs\\_eyes\\_apache'\n",
       "\\item 'cardiovascular\\_diagnosis'\n",
       "\\item 'sepsis'\n",
       "\\item 'map\\_apache'\n",
       "\\item 'sodium\\_apache'\n",
       "\\item 'intubated\\_apache'\n",
       "\\item 'd1\\_hematocrit\\_max'\n",
       "\\item 'bmi'\n",
       "\\end{enumerate*}\n"
      ],
      "text/markdown": [
       "1. 'temp_apache'\n",
       "2. 'pre_icu_los_days'\n",
       "3. 'wbc_apache'\n",
       "4. 'age'\n",
       "5. 'gcs_motor_apache'\n",
       "6. 'd1_creatinine_max'\n",
       "7. 'h1_heartrate_max'\n",
       "8. 'd1_potassium_max'\n",
       "9. 'd1_resprate_max'\n",
       "10. 'gcs_eyes_apache'\n",
       "11. 'cardiovascular_diagnosis'\n",
       "12. 'sepsis'\n",
       "13. 'map_apache'\n",
       "14. 'sodium_apache'\n",
       "15. 'intubated_apache'\n",
       "16. 'd1_hematocrit_max'\n",
       "17. 'bmi'\n",
       "\n",
       "\n"
      ],
      "text/plain": [
       " [1] \"temp_apache\"              \"pre_icu_los_days\"        \n",
       " [3] \"wbc_apache\"               \"age\"                     \n",
       " [5] \"gcs_motor_apache\"         \"d1_creatinine_max\"       \n",
       " [7] \"h1_heartrate_max\"         \"d1_potassium_max\"        \n",
       " [9] \"d1_resprate_max\"          \"gcs_eyes_apache\"         \n",
       "[11] \"cardiovascular_diagnosis\" \"sepsis\"                  \n",
       "[13] \"map_apache\"               \"sodium_apache\"           \n",
       "[15] \"intubated_apache\"         \"d1_hematocrit_max\"       \n",
       "[17] \"bmi\"                     "
      ]
     },
     "metadata": {},
     "output_type": "display_data"
    },
    {
     "data": {
      "image/png": "[encoded data removed]",
      "text/plain": [
       "plot without title"
      ]
     },
     "metadata": {},
     "output_type": "display_data"
    }
   ],
   "source": [
    "#feature selection using recursive feature elimination(rfe) \n",
    "#backward feature selection starts with all features then reduces the number of features \n",
    "#install and load required packages/libraries \n",
    "install.packages(\"mlbench\")\n",
    "install.packages(\"caret\")\n",
    "install.packages(\"randomForest\")\n",
    "install.packages(\"e1071\")\n",
    "library(e1071)\n",
    "library(mlbench)\n",
    "library(caret)\n",
    "library(randomForest)\n",
    "\n",
    "#establish training parameters\n",
    "rfe_training <- rfeControl(functions=rfFuncs, method=\"cv\", number=10)\n",
    "\n",
    "#run the rfe model using the oversampled training data \n",
    "rfe <- rfe(data.rose[,2:18], data.rose[,1], sizes=c(2:18), rfeControl=rfe_training)\n",
    "print(rfe)\n",
    "\n",
    "#show variable rank\n",
    "predictors(rfe) \n",
    "\n",
    "#display graph that highlights the most accurate number of features\n",
    "plot(rfe, type=c(\"g\", \"o\"))"
   ]
  },
  {
   "cell_type": "markdown",
   "metadata": {},
   "source": [
    "## Feature selection using a random forest algorithm (embedded method)\n",
    "- Random forest automatically selects features for the decision trees that it uses to make predictions. \n",
    "- The different decision trees are also created using slightly different variables and features for each tree resulting in a forest where each tree behaves in a unique manner. "
   ]
  },
  {
   "cell_type": "code",
   "execution_count": 6,
   "metadata": {},
   "outputs": [
    {
     "name": "stderr",
     "output_type": "stream",
     "text": [
      "Warning message:\n",
      "\"package 'mlbench' is in use and will not be installed\"Warning message:\n",
      "\"package 'caret' is in use and will not be installed\"Warning message:\n",
      "\"package 'randomForest' is in use and will not be installed\"Warning message:\n",
      "\"package 'e1071' is in use and will not be installed\""
     ]
    },
    {
     "name": "stdout",
     "output_type": "stream",
     "text": [
      "Random Forest \n",
      "\n",
      "22929 samples\n",
      "   17 predictor\n",
      "    2 classes: '0', '1' \n",
      "\n",
      "No pre-processing\n",
      "Resampling: Cross-Validated (10 fold, repeated 3 times) \n",
      "Summary of sample sizes: 20636, 20637, 20636, 20636, 20636, 20636, ... \n",
      "Resampling results:\n",
      "\n",
      "  Accuracy   Kappa    \n",
      "  0.8242985  0.6276221\n",
      "\n",
      "Tuning parameter 'mtry' was held constant at a value of 4.242641\n"
     ]
    },
    {
     "data": {
      "text/plain": [
       "Confusion Matrix and Statistics\n",
       "\n",
       "          Reference\n",
       "Prediction     0     1\n",
       "         0 19556   857\n",
       "         1  1406  1110\n",
       "                                          \n",
       "               Accuracy : 0.9013          \n",
       "                 95% CI : (0.8974, 0.9051)\n",
       "    No Information Rate : 0.9142          \n",
       "    P-Value [Acc > NIR] : 1               \n",
       "                                          \n",
       "                  Kappa : 0.4414          \n",
       "                                          \n",
       " Mcnemar's Test P-Value : <2e-16          \n",
       "                                          \n",
       "            Sensitivity : 0.9329          \n",
       "            Specificity : 0.5643          \n",
       "         Pos Pred Value : 0.9580          \n",
       "         Neg Pred Value : 0.4412          \n",
       "             Prevalence : 0.9142          \n",
       "         Detection Rate : 0.8529          \n",
       "   Detection Prevalence : 0.8903          \n",
       "      Balanced Accuracy : 0.7486          \n",
       "                                          \n",
       "       'Positive' Class : 0               \n",
       "                                          "
      ]
     },
     "metadata": {},
     "output_type": "display_data"
    },
    {
     "name": "stdout",
     "output_type": "stream",
     "text": [
      "rf variable importance\n",
      "\n",
      "  only 20 most important variables shown (out of 23)\n",
      "\n",
      "                          Overall\n",
      "temp_apache               100.000\n",
      "pre_icu_los_days           74.702\n",
      "wbc_apache                 64.209\n",
      "age                        56.157\n",
      "d1_creatinine_max          55.294\n",
      "d1_resprate_max            53.390\n",
      "gcs_motor_apache6          51.879\n",
      "h1_heartrate_max           49.595\n",
      "d1_potassium_max           49.199\n",
      "map_apache                 43.511\n",
      "sodium_apache              41.378\n",
      "d1_hematocrit_max          39.443\n",
      "bmi                        39.275\n",
      "gcs_eyes_apache4           33.128\n",
      "cardiovascular_diagnosis1  17.759\n",
      "intubated_apache1          17.291\n",
      "sepsis1                    11.343\n",
      "gcs_eyes_apache3            7.681\n",
      "gcs_motor_apache5           4.184\n",
      "gcs_eyes_apache2            2.209\n"
     ]
    }
   ],
   "source": [
    "#install and load required libraries/packages \n",
    "install.packages(\"mlbench\")\n",
    "install.packages(\"caret\")\n",
    "install.packages(\"randomForest\")\n",
    "install.packages(\"e1071\")\n",
    "library(e1071)\n",
    "library(mlbench)\n",
    "library(caret)\n",
    "library(randomForest)\n",
    "\n",
    "#establish the training parameters \n",
    "t_training<- trainControl(method = \"repeatedcv\", number=10, repeats=3)\n",
    "seed<- 7\n",
    "metric<- \"Accuracy\"\n",
    "set.seed(seed)\n",
    "mtry<- sqrt(ncol(data.rose))\n",
    "tunegrid<-expand.grid(.mtry=mtry)\n",
    "\n",
    "#train the random forest algorithm on the oversampled training data \n",
    "#the oversampled training data frame is called data.rose \n",
    "#the outcome variable is hospital death\n",
    "t_model<- train(hospital_death~., data=data.rose, method=\"rf\", metric=metric, tuneGrid=tunegrid, trControl=t_training)\n",
    "\n",
    "#show the results of model training\n",
    "print(t_model)\n",
    "\n",
    "#apply the trained model to the unseen testing data frame and store the results as z  \n",
    "z<- predict(t_model, test1)\n",
    "\n",
    "#look at the results of running the model with unseen test data using a confusion matrix \n",
    "confusionMatrix(z, test1$hospital_death)\n",
    "\n",
    "#visualize variable importance \n",
    "variable_importance<- varImp(t_model)\n",
    "print(variable_importance)"
   ]
  },
  {
   "cell_type": "markdown",
   "metadata": {},
   "source": [
    "## This concludes the feature selection part of the course\n",
    "- The following key questions were addressed during this notebook and the accompanying video lecture:\n",
    "1. What are the three main types of methods used for feature selection?\n",
    "2. What are the advantages and disadvantages of the feature selection approaches mentioned?\n",
    "\n",
    " \n",
    "\n"
   ]
  }
 ],
 "metadata": {
  "kernelspec": {
   "display_name": "R",
   "language": "R",
   "name": "ir"
  },
  "language_info": {
   "codemirror_mode": "r",
   "file_extension": ".r",
   "mimetype": "text/x-r-source",
   "name": "R",
   "pygments_lexer": "r",
   "version": "3.6.1"
  },
  "toc": {
   "base_numbering": 1,
   "nav_menu": {},
   "number_sections": true,
   "sideBar": true,
   "skip_h1_title": false,
   "title_cell": "Table of Contents",
   "title_sidebar": "Contents",
   "toc_cell": false,
   "toc_position": {},
   "toc_section_display": true,
   "toc_window_display": false
  }
 },
 "nbformat": 4,
 "nbformat_minor": 2
}
