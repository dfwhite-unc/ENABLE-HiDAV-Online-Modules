{
 "cells": [
  {
   "cell_type": "markdown",
   "metadata": {},
   "source": [
    "# Intro to Data Mining \n",
    "## Topics for this notebook\n",
    "1. How to select variables from a csv file\n",
    "2. How to change data types\n",
    "3. Third item\n",
    "4. "
   ]
  },
  {
   "cell_type": "code",
   "execution_count": null,
   "metadata": {},
   "outputs": [],
   "source": [
    "#select variables by selecting them into a new data frame called practice_csv  \n",
    "install.packages(“dplyr”)\n",
    "library(dplyr)\n",
    "practice_csv = select(training_v2, 4, 43, 36, 79, 61, 42, 123, 107, 115, 46, 28, 29, 5, 16, 6, 35, 20)\n",
    " \n",
    "#create sepsis and cardiovascular diagnosis columns from the diagnosis column\n",
    "practice_csv<- mutate(practice_csv, sepsis = ifelse(apache_2_diagnosis == '113', '1', '0'))\n",
    "practice_csv<- mutate(practice_csv, cardiovascular_diagnosis = ifelse(apache_2_diagnosis == '114', '1', '0'))\n",
    "\n",
    "#delete original diagnosis column\n",
    "practice_csv = select(practice_csv, -17)"
   ]
  },
  {
   "cell_type": "code",
   "execution_count": null,
   "metadata": {},
   "outputs": [],
   "source": [
    "#change categorical variables to factors\n",
    "#categorical variables are yes or no, for example hospital_death did the patient die or not \n",
    "practice_csv$hospital_death<- as.factor(practice_csv$hospital_death)\n",
    "practice_csv$sepsis<- as.factor(practice_csv$sepsis)\n",
    "practice_csv$cardiovascular_diagnosis<- as.factor(practice_csv$cardiovascular_diagnosis)\n",
    "practice_csv$intubated_apache<- as.factor(practice_csv$intubated_apache)\n",
    "\n",
    "#change numeric variables to numeric data type\n",
    "practice_csv$temp_apache<- as.numeric(practice_csv$temp_apache)\n",
    "practice_csv$map_apache<- as.numeric(practice_csv$map_apache)\n",
    "practice_csv$h1_heartrate_max<- as.numeric(practice_csv$h1_heartrate_max)\n",
    "practice_csv$d1_resprate_max<- as.numeric(practice_csv$d1_resprate_max)\n",
    "practice_csv$d1_potassium_max<- as.numeric(practice_csv$d1_potassium_max)\n",
    "practice_csv$d1_creatinine_max<- as.numeric(practice_csv$d1_creatinine_max)\n",
    "practice_csv$d1_hematocrit_max<- as.numeric(practice_csv$d1_hematocrit_max)\n",
    "practice_csv$sodium_apache<- as.numeric(practice_csv$sodium_apache)\n",
    "practice_csv$wbc_apache<- as.numeric(practice_csv$wbc_apache)\n",
    "practice_csv$gcs_eyes_apache<- as.numeric(practice_csv$gcs_eyes_apache)\n",
    "practice_csv$gcs_motor_apache<- as.numeric(practice_csv$gcs_motor_apache)\n",
    "practice_csv$age<- as.numeric(practice_csv$age)\n",
    "practice_csv$pre_icu_los_days<- as.numeric(practice_csv$pre_icu_los_days)\n",
    "practice_csv$bmi<- as.numeric(practice_csv$bmi)\n"
   ]
  },
  {
   "cell_type": "code",
   "execution_count": null,
   "metadata": {},
   "outputs": [],
   "source": [
    "#replace BMI nulls with the mean\n",
    "#in this example we used the mean but the median or mode can also be substituted by simply \n",
    "#putting median or mode in the place of mean \n",
    "practice_csv = transform(practice_csv, bmi = ifelse(is.na(bmi), mean(bmi, na.rm=TRUE), bmi))"
   ]
  },
  {
   "cell_type": "code",
   "execution_count": null,
   "metadata": {},
   "outputs": [],
   "source": [
    "#replace sepsis nulls with 0\n",
    "#for sepsis a 0 signifies that the patient did not develop sepsis in the hospital \n",
    "practice_csv$sepsis[is.na(practice_csv$sepsis)] <- 0"
   ]
  }
 ],
 "metadata": {
  "kernelspec": {
   "display_name": "R",
   "language": "R",
   "name": "ir"
  },
  "language_info": {
   "codemirror_mode": "r",
   "file_extension": ".r",
   "mimetype": "text/x-r-source",
   "name": "R",
   "pygments_lexer": "r",
   "version": "3.6.1"
  }
 },
 "nbformat": 4,
 "nbformat_minor": 4
}
