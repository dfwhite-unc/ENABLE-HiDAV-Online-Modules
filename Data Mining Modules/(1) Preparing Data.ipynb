{
 "cells": [
  {
   "cell_type": "markdown",
   "metadata": {},
   "source": [
    "# Introduction to Data Mining"
   ]
  },
  {
   "cell_type": "code",
   "execution_count": 1,
   "metadata": {},
   "outputs": [
    {
     "ename": "ERROR",
     "evalue": "Error in parse(text = x, srcfile = src): <text>:1:5: unexpected symbol\n1: def create_multipleChoice_widget\n        ^\n",
     "output_type": "error",
     "traceback": [
      "Error in parse(text = x, srcfile = src): <text>:1:5: unexpected symbol\n1: def create_multipleChoice_widget\n        ^\nTraceback:\n"
     ]
    }
   ],
   "source": [
    "def create_multipleChoice_widget(description, options, correct_answer):\n",
    "    if correct_answer not in options:\n",
    "        options.append(correct_answer)\n",
    "    \n",
    "    correct_answer_index = options.index(correct_answer)\n",
    "    \n",
    "    radio_options = [(words, i) for i, words in enumerate(options)]\n",
    "    alternativ = widgets.RadioButtons(\n",
    "        options = radio_options,\n",
    "        description = '',\n",
    "        disabled = False\n",
    "    )\n",
    "    \n",
    "    description_out = widgets.Output()\n",
    "    with description_out:\n",
    "        print(description)\n",
    "        \n",
    "    feedback_out = widgets.Output()\n",
    "\n",
    "    def check_selection(b):\n",
    "        a = int(alternativ.value)\n",
    "        if a==correct_answer_index:\n",
    "            s = '\\x1b[6;30;42m' + \"Riktig.\" + '\\x1b[0m' +\"\\n\" #green color\n",
    "        else:\n",
    "            s = '\\x1b[5;30;41m' + \"Feil. \" + '\\x1b[0m' +\"\\n\" #red color\n",
    "        with feedback_out:\n",
    "            clear_output()\n",
    "            print(s)\n",
    "        return\n",
    "    \n",
    "    check = widgets.Button(description=\"submit\")\n",
    "    check.on_click(check_selection)\n",
    "    \n",
    "    \n",
    "    return widgets.VBox([description_out, alternativ, check, feedback_out])\n",
    "                     \n",
    "Q1 = create_multipleChoice_widget('blablabla',['apple','banana','pear'],'pear')\n",
    "Q2 = create_multipleChoice_widget('lalalalal',['cat','dog','mouse'],'dog')\n",
    "Q3 = create_multipleChoice_widget('jajajajaj',['blue','white','red'],'white')\n",
    "                     \n",
    "display(Q1)\n",
    "display(Q2)\n",
    "display(Q3)"
   ]
  },
  {
   "cell_type": "markdown",
   "metadata": {},
   "source": [
    "## Welcome to the data mining portion of the course\n",
    "- This part of the course moves away from studying free text and will instead focus on more sturctured data analysis. \n",
    "- From now on the notebooks will use a language called R which was specifically created for data analytics. \n",
    "- Like the previous sections the code is being provided for your reference and it is not necessary to understand the specifics in order to progress through the remainder of the course. \n",
    "\n",
    "### In this notebook we will be covering \n",
    "1. How to select variable columns from a data frame \n",
    "2. How to change data types\n",
    "3. Replacing null numeric cells with the column mean\n",
    "4. Replacing null categorical cells with a zero \n",
    "5. Replacing null cell using random forest imputation  "
   ]
  },
  {
   "cell_type": "markdown",
   "metadata": {},
   "source": [
    "## Selecting variable columns from a data frame "
   ]
  },
  {
   "cell_type": "code",
   "execution_count": null,
   "metadata": {},
   "outputs": [],
   "source": [
    "#select variable columns from the training_v2 data frame into a new data frame called practice_csv\n",
    "install.packages(“dplyr”)\n",
    "library(dplyr)\n",
    "practice_csv = select(training_v2, 4, 43, 36, 79, 61, 42, 123, 107, 115, 46, 28, 29, 5, 16, 6, 35, 20)\n",
    " \n",
    "#create sepsis and cardiovascular diagnosis columns from the diagnosis column\n",
    "practice_csv<- mutate(practice_csv, sepsis = ifelse(apache_2_diagnosis == '113', '1', '0'))\n",
    "practice_csv<- mutate(practice_csv, cardiovascular_diagnosis = ifelse(apache_2_diagnosis == '114', '1', '0'))\n",
    "\n",
    "#delete original diagnosis column\n",
    "practice_csv = select(practice_csv, -17)"
   ]
  },
  {
   "cell_type": "markdown",
   "metadata": {},
   "source": [
    "## Changing data types of the selected variables "
   ]
  },
  {
   "cell_type": "code",
   "execution_count": null,
   "metadata": {},
   "outputs": [],
   "source": [
    "#change categorical variables to factor data type \n",
    "practice_csv$hospital_death<- as.factor(practice_csv$hospital_death)\n",
    "practice_csv$sepsis<- as.factor(practice_csv$sepsis)\n",
    "practice_csv$cardiovascular_diagnosis<- as.factor(practice_csv$cardiovascular_diagnosis)\n",
    "practice_csv$intubated_apache<- as.factor(practice_csv$intubated_apache)\n",
    "practice_csv$gcs_eyes_apache<- as.factor(practice_csv$gcs_eyes_apache)\n",
    "practice_csv$gcs_motor_apache<- as.factor(practice_csv$gcs_motor_apache)\n",
    "\n",
    "#change to numeric variables to numeric data type \n",
    "practice_csv$temp_apache<- as.numeric(practice_csv$temp_apache)\n",
    "practice_csv$map_apache<- as.numeric(practice_csv$map_apache)\n",
    "practice_csv$h1_heartrate_max<- as.numeric(practice_csv$h1_heartrate_max)\n",
    "practice_csv$d1_resprate_max<- as.numeric(practice_csv$d1_resprate_max)\n",
    "practice_csv$d1_potassium_max<- as.numeric(practice_csv$d1_potassium_max)\n",
    "practice_csv$d1_creatinine_max<- as.numeric(practice_csv$d1_creatinine_max)\n",
    "practice_csv$d1_hematocrit_max<- as.numeric(practice_csv$d1_hematocrit_max)\n",
    "practice_csv$sodium_apache<- as.numeric(practice_csv$sodium_apache)\n",
    "practice_csv$wbc_apache<- as.numeric(practice_csv$wbc_apache)\n",
    "practice_csv$age<- as.numeric(practice_csv$age)\n",
    "practice_csv$pre_icu_los_days<- as.numeric(practice_csv$pre_icu_los_days)\n",
    "practice_csv$bmi<- as.numeric(practice_csv$bmi)\n",
    "\n",
    "#check all variable data types to make sure they are correct\n",
    "str(practice_csv)"
   ]
  },
  {
   "cell_type": "markdown",
   "metadata": {},
   "source": [
    "## Replacing null values using measures of center (mean, median, mode)  "
   ]
  },
  {
   "cell_type": "code",
   "execution_count": null,
   "metadata": {},
   "outputs": [],
   "source": [
    "#replace some numeric variable nulls with the column mean \n",
    "practice_csv = transform(practice_csv, bmi = ifelse(is.na(bmi), mean(bmi, na.rm=TRUE), bmi))\n",
    "practice_csv = transform(practice_csv, temp_apache = ifelse(is.na(temp_apache), mean(temp_apache, na.rm=TRUE), temp_apache))\n",
    "practice_csv = transform(practice_csv, map_apache = ifelse(is.na(map_apache), mean(map_apache, na.rm=TRUE), map_apache))\n",
    "practice_csv = transform(practice_csv, h1_heartrate_max = ifelse(is.na(h1_heartrate_max), mean(h1_heartrate_max, na.rm=TRUE), h1_heartrate_max))\n",
    "practice_csv = transform(practice_csv, d1_resprate_max = ifelse(is.na(d1_resprate_max), mean(d1_resprate_max, na.rm=TRUE), d1_resprate_max))\n",
    "practice_csv = transform(practice_csv, d1_potassium_max = ifelse(is.na(d1_potassium_max), mean(d1_potassium_max, na.rm=TRUE), d1_potassium_max))\n",
    "practice_csv = transform(practice_csv, d1_creatinine_max = ifelse(is.na(d1_creatinine_max), mean(d1_creatinine_max, na.rm=TRUE), d1_creatinine_max))\n",
    "practice_csv = transform(practice_csv, d1_hematocrit_max = ifelse(is.na(d1_hematocrit_max), mean(d1_hematocrit_max, na.rm=TRUE), d1_hematocrit_max))\n",
    "practice_csv = transform(practice_csv, sodium_apache = ifelse(is.na(sodium_apache), mean(sodium_apache, na.rm=TRUE), sodium_apache))\n",
    "\n",
    "#replace some categorical variable nulls with 0 (0 is the mode for these columns)\n",
    "#gcs_motor_apache nulls replaced with a 1 (1 is the mode for this column) \n",
    "practice_csv$sepsis[is.na(practice_csv$sepsis)] <- 0\n",
    "practice_csv$cardiovascular_diagnosis[is.na(practice_csv$cardiovascular_diagnosis)] <- 0\n",
    "practice_csv$intubated_apache[is.na(practice_csv$intubated_apache)] <- 0\n",
    "practice_csv$gcs_motor_apache[is.na(practice_csv$gcs_motor_apache)] <- 1"
   ]
  },
  {
   "cell_type": "markdown",
   "metadata": {},
   "source": [
    "## Replacing null values using a random forest algorithm "
   ]
  },
  {
   "cell_type": "code",
   "execution_count": null,
   "metadata": {},
   "outputs": [],
   "source": [
    "#use a random forest algorithm to replace the remaining nulls\n",
    "#random forest is non-parametric and works for categorical and numeric variables\n",
    "#ntree is the number of trees, maxiter is the maximum number of iterations (repeats) \n",
    "#more trees and more iterations can increase accuracy but takes more time to run\n",
    "install.packages(\"missForest\")\n",
    "install.packages(“randomForest”)\n",
    "library(missForest)\n",
    "library(randomForest)\n",
    "set.seed(96) \n",
    "practice_csv.imp <- missForest(practice_csv, verbose = TRUE, maxiter = 3, ntree = 10)\n",
    "\n",
    "#check imputed values\n",
    "practice_csv.imp$ximp\n",
    "\n",
    "#check imputation error\n",
    "practice_csv.imp$OOBerror\n",
    "\n",
    "#assign imputed data frame to a new data frame called t\n",
    "t<- practice_csv.imp$ximp"
   ]
  },
  {
   "cell_type": "markdown",
   "metadata": {},
   "source": [
    "## This concludes our introduction to data analytics \n",
    "- The following questions were addressed between this notebook and the complementary video lecture:\n",
    "1. What is a CSV file and how is it loaded into R? \n",
    "2. What are some simple and more advanced methods that can be used to deal with nulls? \n",
    "3. How should present but highly unlikely data be dealt with?  \n"
   ]
  },
  {
   "cell_type": "markdown",
   "metadata": {},
   "source": [
    "# Exporting CSV"
   ]
  },
  {
   "cell_type": "markdown",
   "metadata": {},
   "source": [
    "This section just provides a space to export the cleaned data you've already cleaned. I made a new section so it wouldn't interfere with your other work. \n",
    "\n",
    "-Eric "
   ]
  },
  {
   "cell_type": "code",
   "execution_count": null,
   "metadata": {},
   "outputs": [],
   "source": []
  }
 ],
 "metadata": {
  "kernelspec": {
   "display_name": "R",
   "language": "R",
   "name": "ir"
  },
  "language_info": {
   "codemirror_mode": "r",
   "file_extension": ".r",
   "mimetype": "text/x-r-source",
   "name": "R",
   "pygments_lexer": "r",
   "version": "3.6.1"
  },
  "toc": {
   "base_numbering": 1,
   "nav_menu": {},
   "number_sections": true,
   "sideBar": true,
   "skip_h1_title": false,
   "title_cell": "Table of Contents",
   "title_sidebar": "Contents",
   "toc_cell": false,
   "toc_position": {},
   "toc_section_display": true,
   "toc_window_display": false
  }
 },
 "nbformat": 4,
 "nbformat_minor": 2
}
