{
 "cells": [
  {
   "cell_type": "markdown",
   "metadata": {},
   "source": [
    "## Welcome to the data mining portion of the course\n",
    "- This section of the course moves away from studying free text and will instead focus on more sturctured data analysis. \n",
    "- From now on the notebooks will use a language called R which was specifically created for data analytics. \n",
    "- Like the previous sections the code is being provided for your reference and it is not necessary to understand the specifics in order to progress through the remainder of the course. \n",
    "\n",
    "### In this notebook we will be covering \n",
    "1. How to read in a CSV file from github \n",
    "2. How to select variable columns from a data frame \n",
    "3. How to change data types\n",
    "4. Replacing null numeric cells with the column mean\n",
    "5. Replacing null categorical cells with a zero \n",
    "6. Replacing null cells using random forest imputation"
   ]
  },
  {
   "cell_type": "code",
   "execution_count": 2,
   "metadata": {},
   "outputs": [
    {
     "name": "stderr",
     "output_type": "stream",
     "text": [
      "Warning message:\n",
      "\"package 'IRdisplay' is in use and will not be installed\"Warning message in file(con, \"rb\"):\n",
      "\"cannot open file 'Data Mining Modules/Pictures/Capture.PNG': No such file or directory\""
     ]
    },
    {
     "ename": "ERROR",
     "evalue": "Error in file(con, \"rb\"): cannot open the connection\n",
     "output_type": "error",
     "traceback": [
      "Error in file(con, \"rb\"): cannot open the connection\nTraceback:\n",
      "1. display_png(file = \"Data Mining Modules/Pictures/Capture.PNG\")",
      "2. display_raw(\"image/png\", TRUE, data, file, img_metadata(width, \n .     height))",
      "3. prepare_content(isbinary, data, file)",
      "4. read_all(file, isbinary)",
      "5. read(size)",
      "6. readBin(file, \"raw\", s)",
      "7. file(con, \"rb\")"
     ]
    }
   ],
   "source": [
    "install.packages(\"IRdisplay\")\n",
    "library(\"IRdisplay\")\n",
    "display_png(file = \"Data Mining Modules/Pictures/Capture.PNG\") "
   ]
  },
  {
   "cell_type": "markdown",
   "metadata": {},
   "source": [
    "## Please run the follow cell of code to load the video lecture for this lesson "
   ]
  },
  {
   "cell_type": "code",
   "execution_count": null,
   "metadata": {},
   "outputs": [],
   "source": [
    "#install and load packages required to embed introductory video \n",
    "install.packages(\"IRdisplay\")\n",
    "library(IRdisplay)\n",
    "\n",
    "## for full width\n",
    "IRdisplay::display_html('<style>.container { width:100% !important; }</style>')\n",
    "\n",
    "## this does not work with most sites due to same-origin policy, but no problem with local files   \n",
    "IRdisplay::display_html('<iframe width=\"470\" height=\"404\" src=\"https://edpuzzle.com/embed/media/5ee115b175623c3f3549c680\" frameborder=\"0\" allowfullscreen></iframe>') "
   ]
  },
  {
   "cell_type": "markdown",
   "metadata": {},
   "source": [
    "## Read in the CSV file\n",
    "- The first step in many data mining projects is to read a data set into the data analytics software. \n",
    "- In this lesson we are loading an intensive care unit (ICU) CSV file into R. \n",
    "- In future lessons we will be using this data set and machine learning algorithms to predict hospital death in the ICU. "
   ]
  },
  {
   "cell_type": "code",
   "execution_count": null,
   "metadata": {},
   "outputs": [],
   "source": [
    "#install and load packages required to read in the CSV file \n",
    "install.packages(\"readr\")\n",
    "install.packages(\"rlang\")\n",
    "library (readr)\n",
    "library (rlang)\n",
    "\n",
    "\n",
    "#location of raw csv file on github repository \n",
    "urlfile=\"https://raw.githubusercontent.com/e-cui/ENABLE-HiDAV-Online-Modules/master/Data%20Mining%20Modules/csv_files/training_v2.csv\"\n",
    "\n",
    "#Read the CSV file into a data frame called training_v2 \n",
    "training_v2<-read_csv(url(urlfile))\n",
    "\n",
    "#print\n",
    "print(\"CSV file loaded successfully\")"
   ]
  },
  {
   "cell_type": "markdown",
   "metadata": {},
   "source": [
    "## Selecting variable columns from a data frame\n",
    "- In this section we are reducing the number of columns to a more managable number to allow for easier data manipulation.\n",
    "- Most of the variables selected in this step were chosen because they are part of the Apache algorithm which was developed to predict patient death in the ICU. \n",
    "- Some variables from the orginal Apache algorithm are being excluded due to missing information. \n",
    "- We have also selected some new variables to see if we can improve the performance of our model. "
   ]
  },
  {
   "cell_type": "code",
   "execution_count": null,
   "metadata": {},
   "outputs": [],
   "source": [
    "#select variable columns from the training_v2 data frame into a new data frame called practice_csv\n",
    "install.packages(\"dplyr\")\n",
    "library(dplyr)\n",
    "practice_csv = select(training_v2, 4, 43, 36, 79, 61, 42, 123, 107, 115, 46, 28, 29, 5, 16, 6, 35, 20)\n",
    " \n",
    "#create sepsis and cardiovascular diagnosis columns from the diagnosis column\n",
    "practice_csv<- mutate(practice_csv, sepsis = ifelse(apache_2_diagnosis == '113', '1', '0'))\n",
    "practice_csv<- mutate(practice_csv, cardiovascular_diagnosis = ifelse(apache_2_diagnosis == '114', '1', '0'))\n",
    "\n",
    "#delete original diagnosis column\n",
    "practice_csv = select(practice_csv, -17)\n",
    "\n",
    "#print\n",
    "print(\"variables selected, sepsis and cardiovascular diagnosis columns added, diagnosis column deleted\")"
   ]
  },
  {
   "cell_type": "markdown",
   "metadata": {},
   "source": [
    "## Changing data types of the selected variables \n",
    "- Before replacing nulls values with a measure of center the correct data type must be assigned to each column in our data frame. \n",
    "- Numeric columns can have a mean, a median, and a mode. \n",
    "- Ordinal columns can have a median and a mode. \n",
    "- Categorical columns only have a mode. "
   ]
  },
  {
   "cell_type": "code",
   "execution_count": null,
   "metadata": {},
   "outputs": [],
   "source": [
    "#change categorical variables to factor data type \n",
    "practice_csv$hospital_death<- as.factor(practice_csv$hospital_death)\n",
    "practice_csv$sepsis<- as.factor(practice_csv$sepsis)\n",
    "practice_csv$cardiovascular_diagnosis<- as.factor(practice_csv$cardiovascular_diagnosis)\n",
    "practice_csv$intubated_apache<- as.factor(practice_csv$intubated_apache)\n",
    "practice_csv$gcs_eyes_apache<- as.factor(practice_csv$gcs_eyes_apache)\n",
    "practice_csv$gcs_motor_apache<- as.factor(practice_csv$gcs_motor_apache)\n",
    "\n",
    "#change to numeric variables to numeric data type \n",
    "practice_csv$temp_apache<- as.numeric(practice_csv$temp_apache)\n",
    "practice_csv$map_apache<- as.numeric(practice_csv$map_apache)\n",
    "practice_csv$h1_heartrate_max<- as.numeric(practice_csv$h1_heartrate_max)\n",
    "practice_csv$d1_resprate_max<- as.numeric(practice_csv$d1_resprate_max)\n",
    "practice_csv$d1_potassium_max<- as.numeric(practice_csv$d1_potassium_max)\n",
    "practice_csv$d1_creatinine_max<- as.numeric(practice_csv$d1_creatinine_max)\n",
    "practice_csv$d1_hematocrit_max<- as.numeric(practice_csv$d1_hematocrit_max)\n",
    "practice_csv$sodium_apache<- as.numeric(practice_csv$sodium_apache)\n",
    "practice_csv$wbc_apache<- as.numeric(practice_csv$wbc_apache)\n",
    "practice_csv$age<- as.numeric(practice_csv$age)\n",
    "practice_csv$pre_icu_los_days<- as.numeric(practice_csv$pre_icu_los_days)\n",
    "practice_csv$bmi<- as.numeric(practice_csv$bmi)\n",
    "\n",
    "#check all variable data types to make sure they are correct\n",
    "str(practice_csv)"
   ]
  },
  {
   "cell_type": "markdown",
   "metadata": {},
   "source": [
    "## Replacing null values using measures of center (mean, median, mode)  \n",
    "- When replacing a null value with a measure of center it is important to consider the distribution of the data. \n",
    "- When numeric data is evenly distributed the mean is the best measure of center but if the data is skewed then the median is a better choice. "
   ]
  },
  {
   "cell_type": "code",
   "execution_count": null,
   "metadata": {},
   "outputs": [],
   "source": [
    "#replace some numeric variable nulls with the column mean \n",
    "practice_csv = transform(practice_csv, bmi = ifelse(is.na(bmi), mean(bmi, na.rm=TRUE), bmi))\n",
    "practice_csv = transform(practice_csv, temp_apache = ifelse(is.na(temp_apache), mean(temp_apache, na.rm=TRUE), temp_apache))\n",
    "practice_csv = transform(practice_csv, map_apache = ifelse(is.na(map_apache), mean(map_apache, na.rm=TRUE), map_apache))\n",
    "practice_csv = transform(practice_csv, h1_heartrate_max = ifelse(is.na(h1_heartrate_max), mean(h1_heartrate_max, na.rm=TRUE), h1_heartrate_max))\n",
    "practice_csv = transform(practice_csv, d1_resprate_max = ifelse(is.na(d1_resprate_max), mean(d1_resprate_max, na.rm=TRUE), d1_resprate_max))\n",
    "practice_csv = transform(practice_csv, d1_potassium_max = ifelse(is.na(d1_potassium_max), mean(d1_potassium_max, na.rm=TRUE), d1_potassium_max))\n",
    "practice_csv = transform(practice_csv, d1_creatinine_max = ifelse(is.na(d1_creatinine_max), mean(d1_creatinine_max, na.rm=TRUE), d1_creatinine_max))\n",
    "practice_csv = transform(practice_csv, d1_hematocrit_max = ifelse(is.na(d1_hematocrit_max), mean(d1_hematocrit_max, na.rm=TRUE), d1_hematocrit_max))\n",
    "practice_csv = transform(practice_csv, sodium_apache = ifelse(is.na(sodium_apache), mean(sodium_apache, na.rm=TRUE), sodium_apache))\n",
    "practice_csv = transform(practice_csv, wbc_apache = ifelse(is.na(wbc_apache), mean(wbc_apache, na.rm=TRUE), wbc_apache))\n",
    "practice_csv = transform(practice_csv, pre_icu_los_days = ifelse(is.na(pre_icu_los_days), mean(pre_icu_los_days, na.rm=TRUE), pre_icu_los_days))\n",
    "practice_csv = transform(practice_csv, age = ifelse(is.na(age), mean(age, na.rm=TRUE), age))\n",
    "\n",
    "\n",
    "#replace some categorical variable nulls with 0 (0 is the mode for these columns)\n",
    "#gcs_motor_apache nulls replaced with a 1 (1 is the mode for this column) \n",
    "practice_csv$sepsis[is.na(practice_csv$sepsis)] <- 0\n",
    "practice_csv$cardiovascular_diagnosis[is.na(practice_csv$cardiovascular_diagnosis)] <- 0\n",
    "practice_csv$gcs_motor_apache[is.na(practice_csv$gcs_motor_apache)] <- 1\n",
    "practice_csv$gcs_eyes_apache[is.na(practice_csv$gcs_eyes_apache)] <- 1\n",
    "\n",
    "#print\n",
    "print(\"Numeric nulls replaced with column mean, categorical nulls replaced with 0 or 1\")"
   ]
  },
  {
   "cell_type": "markdown",
   "metadata": {},
   "source": [
    "## Replacing null values using a random forest algorithm \n",
    "- This algorithm makes multiple decision trees that are used to predict the missing information in our data set. \n",
    "- One advantage of using random forest for imputation (replacement of missing data) is that is works for both numeric and categorical data types.\n"
   ]
  },
  {
   "cell_type": "code",
   "execution_count": null,
   "metadata": {},
   "outputs": [],
   "source": [
    "#use a random forest algorithm to replace the remaining nulls\n",
    "#random forest imputation works for replacing both categorical and numeric variables\n",
    "#ntree is the number of trees, maxiter is the maximum number of iterations (repeats) \n",
    "#more trees and more iterations can increase accuracy but takes more time to run\n",
    "install.packages(\"missForest\")\n",
    "install.packages(\"randomForest\")\n",
    "library(missForest)\n",
    "library(randomForest)\n",
    "set.seed(96) \n",
    "practice_csv.imp <- missForest(practice_csv, verbose = TRUE, maxiter = 2, ntree = 10)\n",
    "\n",
    "#check imputed values\n",
    "practice_csv.imp$ximp\n",
    "\n",
    "#assign imputed data frame to a new data frame called t\n",
    "t<- practice_csv.imp$ximp"
   ]
  },
  {
   "cell_type": "markdown",
   "metadata": {},
   "source": [
    "## This concludes our introduction to data analytics \n",
    "- The following questions were addressed between this notebook and the complementary video lecture:\n",
    "1. What is a CSV file and how is it loaded into R? \n",
    "2. What are some simple and more advanced methods that can be used to deal with nulls? \n",
    "3. How should improbable data be handled?   \n"
   ]
  },
  {
   "cell_type": "markdown",
   "metadata": {},
   "source": [
    "## (Informational Only) Exporting a CSV file \n",
    "- This section was provided to give an example of how R code can be used to export a CSV file to a specific file location. "
   ]
  },
  {
   "cell_type": "code",
   "execution_count": null,
   "metadata": {},
   "outputs": [],
   "source": [
    "#this code writes a CSV file of the dataframe to a specified file path location \n",
    "write.csv(dataframe,\"file_path\", row.names = FALSE)"
   ]
  },
  {
   "cell_type": "markdown",
   "metadata": {},
   "source": [
    "## Interactive Quiz\n",
    "-Example of how the video will work "
   ]
  },
  {
   "cell_type": "code",
   "execution_count": null,
   "metadata": {},
   "outputs": [],
   "source": [
    "install.packages(\"IRdisplay\")\n",
    "library(IRdisplay)\n",
    "\n",
    "## for full width\n",
    "IRdisplay::display_html('<style>.container { width:100% !important; }</style>')\n",
    "\n",
    "## this does not work with most sites due to same-origin policy, but no problem with local files   \n",
    "IRdisplay::display_html('<iframe src=\"https://edpuzzle.com/embed/media/5eb9ce2d1f22443f2e11e7c7\" width=700, height=500></iframe> ') "
   ]
  }
 ],
 "metadata": {
  "kernelspec": {
   "display_name": "R",
   "language": "R",
   "name": "ir"
  },
  "language_info": {
   "codemirror_mode": "r",
   "file_extension": ".r",
   "mimetype": "text/x-r-source",
   "name": "R",
   "pygments_lexer": "r",
   "version": "3.6.1"
  },
  "toc": {
   "base_numbering": 1,
   "nav_menu": {},
   "number_sections": true,
   "sideBar": true,
   "skip_h1_title": false,
   "title_cell": "Table of Contents",
   "title_sidebar": "Contents",
   "toc_cell": false,
   "toc_position": {},
   "toc_section_display": true,
   "toc_window_display": false
  }
 },
 "nbformat": 4,
 "nbformat_minor": 2
}
