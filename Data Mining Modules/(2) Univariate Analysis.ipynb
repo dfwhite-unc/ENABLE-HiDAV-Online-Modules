{
 "cells": [
  {
   "cell_type": "markdown",
   "metadata": {
    "collapsed": "true",
    "heading_collapsed": true
   },
   "source": [
    "# Introduction"
   ]
  },
  {
   "cell_type": "markdown",
   "metadata": {
    "hidden": true
   },
   "source": [
    "Welcome to module 2 of the Data Mining track. In this module we will be covering Univariate Analysis. Specifically, we will be investigating the following topics: \n",
    "\n",
    "- Variable Types: Categorical vs. Continuous Variables\n",
    "- Summary Statistics\n",
    "- Univariate Data Visualization\n",
    "\n",
    "> *Note: A univariate analysis is simply an analysis that only describes a **single** variable. The video for this module will cover this concept in more detail.* \n",
    "\n",
    "---"
   ]
  },
  {
   "cell_type": "markdown",
   "metadata": {
    "heading_collapsed": true,
    "hidden": true
   },
   "source": [
    "## How to Run the Module"
   ]
  },
  {
   "cell_type": "markdown",
   "metadata": {
    "hidden": true
   },
   "source": [
    "Throughout this module you will encounter both text and code cells. Please run each cell in this Notebook by clicking \"Run\" button in the Toolbar or by pushing Shift+Enter keys\n",
    "<br>\n",
    "![run_cell.png](Pictures/run_cell.png)"
   ]
  },
  {
   "cell_type": "markdown",
   "metadata": {
    "hidden": true
   },
   "source": [
    "The cell above is an example of a code cell. You will be running numerous code cells like the one below throughout the case. Select the cell and select the run button above. "
   ]
  },
  {
   "cell_type": "code",
   "execution_count": 2,
   "metadata": {
    "ExecuteTime": {
     "end_time": "2020-06-09T22:12:35.497824Z",
     "start_time": "2020-06-09T22:12:35.431Z"
    },
    "hidden": true
   },
   "outputs": [
    {
     "name": "stdout",
     "output_type": "stream",
     "text": [
      "[1] \"Congratulations!\"\n",
      "[1] \"You've run your first code cell.\"\n"
     ]
    }
   ],
   "source": [
    "# This is an example of a code cell\n",
    "print('Congratulations!')\n",
    "print('You\\'ve run your first code cell.')"
   ]
  },
  {
   "cell_type": "markdown",
   "metadata": {
    "heading_collapsed": true,
    "hidden": true
   },
   "source": [
    "## Introduction Video"
   ]
  },
  {
   "cell_type": "markdown",
   "metadata": {
    "hidden": true
   },
   "source": [
    "In the previous module, you learned how to read csv files and run code cells (among many other things!). You will need those skills to continue. Please execute the code cell below to setup the module, download our data, and load the introduction video!"
   ]
  },
  {
   "cell_type": "code",
   "execution_count": 3,
   "metadata": {
    "ExecuteTime": {
     "end_time": "2020-06-09T22:12:35.725957Z",
     "start_time": "2020-06-09T22:12:35.437Z"
    },
    "hidden": true
   },
   "outputs": [
    {
     "name": "stdout",
     "output_type": "stream",
     "text": [
      "Data loading, please wait\n",
      "Data loaded!"
     ]
    },
    {
     "data": {
      "text/html": [
       "<!doctype html>\n",
       "<html>\n",
       "\t<head>\n",
       "\t\t<meta charset=\"utf-8\">\n",
       "\t\t\n",
       "\t</head>\n",
       "\t<body>\n",
       "\t\t<iframe src=\"https://www.youtube.com/embed/wAcbA2cIqec\" width=\"420\" height=\"315\" frameborder=\"0\" allowfullscreen=\"\"></iframe>\n",
       "\t</body>\n",
       "</html>\n"
      ],
      "text/plain": [
       "Shiny tags cannot be represented in plain text (need html)"
      ]
     },
     "metadata": {
      "text/html": {
       "isolated": true
      }
     },
     "output_type": "display_data"
    }
   ],
   "source": [
    "# Reading Data\n",
    "cat('Data loading, please wait\\n')\n",
    "dataframe <- read.csv(file=\"csv_files/training_v2.csv\", encoding=\"UTF-8\", header=TRUE, sep=\",\")\n",
    "cat('Data loaded!')\n",
    "\n",
    "# Setup Libraries\n",
    "library(\"htmltools\")\n",
    "suppressWarnings(library(\"vembedr\"))\n",
    "\n",
    "# Embedding Youtube Intro Video\n",
    "embed_url(\"https://www.youtube.com/watch?v=wAcbA2cIqec\")"
   ]
  },
  {
   "cell_type": "markdown",
   "metadata": {
    "collapsed": "true",
    "heading_collapsed": true
   },
   "source": [
    "# Categorical vs. Continuous Variables"
   ]
  },
  {
   "cell_type": "markdown",
   "metadata": {
    "hidden": true
   },
   "source": [
    "Before we can analyze specific variables in our dataset, we need to know what kind of variable they are. This information will determine what kind of information we can obtain and what kind of analysis we can perform. In other words, this small detail is critical for a successful analysis!"
   ]
  },
  {
   "cell_type": "markdown",
   "metadata": {
    "hidden": true
   },
   "source": [
    "<font color=blue, size=4>Watch the video and answer the quiz/exercises embedded in the video.<font>"
   ]
  },
  {
   "cell_type": "code",
   "execution_count": 4,
   "metadata": {
    "ExecuteTime": {
     "end_time": "2020-06-09T22:12:35.759865Z",
     "start_time": "2020-06-09T22:12:35.442Z"
    },
    "hidden": true
   },
   "outputs": [
    {
     "data": {
      "text/html": [
       "<!doctype html>\n",
       "<html>\n",
       "\t<head>\n",
       "\t\t<meta charset=\"utf-8\">\n",
       "\t\t\n",
       "\t</head>\n",
       "\t<body>\n",
       "\t\t<iframe src=\"https://www.youtube.com/embed/wAcbA2cIqec\" width=\"420\" height=\"315\" frameborder=\"0\" allowfullscreen=\"\"></iframe>\n",
       "\t</body>\n",
       "</html>\n"
      ],
      "text/plain": [
       "Shiny tags cannot be represented in plain text (need html)"
      ]
     },
     "metadata": {
      "text/html": {
       "isolated": true
      }
     },
     "output_type": "display_data"
    }
   ],
   "source": [
    "# Embedding Youtube Video Explaining Variable Types\n",
    "embed_url(\"https://www.youtube.com/watch?v=wAcbA2cIqec\")"
   ]
  },
  {
   "cell_type": "markdown",
   "metadata": {
    "hidden": true,
    "solution2": "hidden",
    "solution2_first": true
   },
   "source": [
    "**Pre-Check:** What is the difference between a quantitative and categorical variable?"
   ]
  },
  {
   "cell_type": "markdown",
   "metadata": {
    "hidden": true,
    "solution2": "hidden"
   },
   "source": [
    ">- **Quantitative:** variables whose values are whole numbers (ie. numbers, percents)\n",
    ">- **Categorical:** variables whose values are selected from a group (ie. dog breeds, male/female) "
   ]
  },
  {
   "cell_type": "markdown",
   "metadata": {
    "hidden": true
   },
   "source": [
    "Below we have two variables, `gender` and `age`. Run the code to see the first few rows of each of those variables in the dataset. "
   ]
  },
  {
   "cell_type": "code",
   "execution_count": 5,
   "metadata": {
    "ExecuteTime": {
     "end_time": "2020-06-09T22:12:35.811728Z",
     "start_time": "2020-06-09T22:12:35.447Z"
    },
    "hidden": true
   },
   "outputs": [
    {
     "data": {
      "text/html": [
       "<table>\n",
       "<thead><tr><th scope=col>gender</th><th scope=col>age</th></tr></thead>\n",
       "<tbody>\n",
       "\t<tr><td>M </td><td>68</td></tr>\n",
       "\t<tr><td>F </td><td>77</td></tr>\n",
       "\t<tr><td>F </td><td>25</td></tr>\n",
       "\t<tr><td>F </td><td>81</td></tr>\n",
       "\t<tr><td>M </td><td>19</td></tr>\n",
       "\t<tr><td>M </td><td>67</td></tr>\n",
       "</tbody>\n",
       "</table>\n"
      ],
      "text/latex": [
       "\\begin{tabular}{r|ll}\n",
       " gender & age\\\\\n",
       "\\hline\n",
       "\t M  & 68\\\\\n",
       "\t F  & 77\\\\\n",
       "\t F  & 25\\\\\n",
       "\t F  & 81\\\\\n",
       "\t M  & 19\\\\\n",
       "\t M  & 67\\\\\n",
       "\\end{tabular}\n"
      ],
      "text/markdown": [
       "\n",
       "| gender | age |\n",
       "|---|---|\n",
       "| M  | 68 |\n",
       "| F  | 77 |\n",
       "| F  | 25 |\n",
       "| F  | 81 |\n",
       "| M  | 19 |\n",
       "| M  | 67 |\n",
       "\n"
      ],
      "text/plain": [
       "  gender age\n",
       "1 M      68 \n",
       "2 F      77 \n",
       "3 F      25 \n",
       "4 F      81 \n",
       "5 M      19 \n",
       "6 M      67 "
      ]
     },
     "metadata": {},
     "output_type": "display_data"
    }
   ],
   "source": [
    "head(dataframe[,c(\"gender\", \"age\")])"
   ]
  },
  {
   "cell_type": "markdown",
   "metadata": {
    "hidden": true
   },
   "source": [
    "Next we will determine the variable type for gender. Think about what kind of variable you think this is. "
   ]
  },
  {
   "cell_type": "code",
   "execution_count": 6,
   "metadata": {
    "ExecuteTime": {
     "end_time": "2020-06-09T22:12:35.853614Z",
     "start_time": "2020-06-09T22:12:35.451Z"
    },
    "hidden": true
   },
   "outputs": [
    {
     "data": {
      "text/html": [
       "'factor'"
      ],
      "text/latex": [
       "'factor'"
      ],
      "text/markdown": [
       "'factor'"
      ],
      "text/plain": [
       "[1] \"factor\""
      ]
     },
     "metadata": {},
     "output_type": "display_data"
    }
   ],
   "source": [
    "class(dataframe$gender)"
   ]
  },
  {
   "cell_type": "markdown",
   "metadata": {
    "hidden": true
   },
   "source": [
    "\"Factor\" is what R calls categorical variables. Gender is categorical variable which can only have two categories, M (Male) or F (Female). Now determine the variable type for `age` using the function below. \n",
    "```R\n",
    "class()\n",
    "```"
   ]
  },
  {
   "cell_type": "markdown",
   "metadata": {
    "hidden": true
   },
   "source": [
    "**Warning**  \n",
    "<font color = blue, size = 4> \n",
    "    Your work will not be saved in Jupyter Notebook. You are recommended to copy your work and paste it to a safe place to record your work.\n",
    "<font>"
   ]
  },
  {
   "cell_type": "code",
   "execution_count": null,
   "metadata": {
    "hidden": true,
    "solution2": "hidden",
    "solution2_first": true
   },
   "outputs": [],
   "source": []
  },
  {
   "cell_type": "code",
   "execution_count": 7,
   "metadata": {
    "ExecuteTime": {
     "end_time": "2020-06-09T22:12:35.885529Z",
     "start_time": "2020-06-09T22:12:35.459Z"
    },
    "hidden": true,
    "solution2": "hidden"
   },
   "outputs": [
    {
     "data": {
      "text/html": [
       "'integer'"
      ],
      "text/latex": [
       "'integer'"
      ],
      "text/markdown": [
       "'integer'"
      ],
      "text/plain": [
       "[1] \"integer\""
      ]
     },
     "metadata": {},
     "output_type": "display_data"
    }
   ],
   "source": [
    "class(dataframe$age)"
   ]
  },
  {
   "cell_type": "markdown",
   "metadata": {
    "hidden": true,
    "solution2": "hidden"
   },
   "source": [
    "R may call continuous variables \"integer\" or \"numeric\". FOr the purposes of this module, you can consider both of them as representing continous variables. Now that we now how to determine variable type, we can move on to summary statistics!"
   ]
  },
  {
   "cell_type": "markdown",
   "metadata": {
    "collapsed": "true"
   },
   "source": [
    "# Summary Statistics"
   ]
  },
  {
   "cell_type": "markdown",
   "metadata": {},
   "source": [
    "Summary statics allow us to quickly describe large amounts of data. For instance, summary statistics will allow us to get a general idea of the the value for over 100,000 observations! "
   ]
  },
  {
   "cell_type": "markdown",
   "metadata": {},
   "source": [
    "<font color=blue, size=4>Watch the video and answer the quiz/exercises embedded in the video.<font>"
   ]
  },
  {
   "cell_type": "code",
   "execution_count": 8,
   "metadata": {
    "ExecuteTime": {
     "end_time": "2020-06-09T22:12:35.932403Z",
     "start_time": "2020-06-09T22:12:35.462Z"
    }
   },
   "outputs": [
    {
     "data": {
      "text/html": [
       "<!doctype html>\n",
       "<html>\n",
       "\t<head>\n",
       "\t\t<meta charset=\"utf-8\">\n",
       "\t\t\n",
       "\t</head>\n",
       "\t<body>\n",
       "\t\t<iframe src=\"https://www.youtube.com/embed/wAcbA2cIqec\" width=\"420\" height=\"315\" frameborder=\"0\" allowfullscreen=\"\"></iframe>\n",
       "\t</body>\n",
       "</html>\n"
      ],
      "text/plain": [
       "Shiny tags cannot be represented in plain text (need html)"
      ]
     },
     "metadata": {
      "text/html": {
       "isolated": true
      }
     },
     "output_type": "display_data"
    }
   ],
   "source": [
    "# Embedding Youtube Video Explaining Summary Statistics\n",
    "embed_url(\"https://www.youtube.com/watch?v=wAcbA2cIqec\")"
   ]
  },
  {
   "cell_type": "markdown",
   "metadata": {
    "solution2": "hidden",
    "solution2_first": true
   },
   "source": [
    "**Pre-Check:** During the module we encountered the concepts of Mean, Median, Frequency, and Percents. What type of variables do these measures correspond to?\n",
    "\n",
    "| Summary Statistic | Variable Type |\n",
    "| :--------------- | :------ |\n",
    "| Mean |  |\n",
    "| Median |  |\n",
    "| Frequency |  |\n",
    "| Percent |  |"
   ]
  },
  {
   "cell_type": "markdown",
   "metadata": {
    "solution2": "hidden"
   },
   "source": [
    "| Summary Statistic | Variable Type |\n",
    "| :--------------- | :------ |\n",
    "| Mean | Continuous |\n",
    "| Median | Continuous |\n",
    "| Frequency | Continuous |\n",
    "| Percent | Continuous |\n",
    "\n",
    "---\n",
    "\n",
    "Remember that although Mean and Median can be used for continuous variables, they are better adapted for different kinds of data. Median is more useful for skewed data with many outliers while mean is more useful for non-skewed data. \n",
    "\n",
    "<center>\n",
    "<img src=\"data:image/png;base64,iVBORw0KGgoAAAANSUhEUgAAAwcAAADSCAIAAACQISsZAABCV0lEQVR42uzdCVgT1/438IO4hEUN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\">\n",
    "</center>"
   ]
  },
  {
   "cell_type": "markdown",
   "metadata": {},
   "source": [
    "Now lets learn to calculate summary statistics in R! The below code can be used to calculate specific measures for a variable.\n",
    "\n",
    "```R\n",
    "# Calculate Mean\n",
    "mean()\n",
    "\n",
    "# Calculate Median\n",
    "median()\n",
    "\n",
    "# Calculate Frequencies\n",
    "table()\n",
    "\n",
    "# Percentages is trickier\n",
    "# First use the table function on your variable, then apply the below code\n",
    "prop.table()\n",
    "\n",
    "# For example \n",
    "prop.table(table(my$variable))\n",
    "\n",
    "```"
   ]
  },
  {
   "cell_type": "markdown",
   "metadata": {},
   "source": [
    "Now calculate the appropriate summary statistics for `age` and `gender`. For continuos variables, do not worry about choosing between mean and median yet. Simply choose one for now. "
   ]
  },
  {
   "cell_type": "code",
   "execution_count": 15,
   "metadata": {
    "ExecuteTime": {
     "end_time": "2020-06-09T22:14:13.741791Z",
     "start_time": "2020-06-09T22:14:13.704Z"
    },
    "solution2": "shown"
   },
   "outputs": [
    {
     "data": {
      "text/html": [
       "62.7803590285111"
      ],
      "text/latex": [
       "62.7803590285111"
      ],
      "text/markdown": [
       "62.7803590285111"
      ],
      "text/plain": [
       "[1] 62.78036"
      ]
     },
     "metadata": {},
     "output_type": "display_data"
    },
    {
     "data": {
      "text/html": [
       "64"
      ],
      "text/latex": [
       "64"
      ],
      "text/markdown": [
       "64"
      ],
      "text/plain": [
       "[1] 64"
      ]
     },
     "metadata": {},
     "output_type": "display_data"
    },
    {
     "data": {
      "text/plain": [
       "\n",
       "  F   M \n",
       "463 536 "
      ]
     },
     "metadata": {},
     "output_type": "display_data"
    },
    {
     "data": {
      "text/plain": [
       "\n",
       "        F         M \n",
       "0.4634635 0.5365365 "
      ]
     },
     "metadata": {},
     "output_type": "display_data"
    }
   ],
   "source": [
    "# Age\n",
    "mean(dataframe$age, na.rm = TRUE) # Option 1\n",
    "median(dataframe$age, na.rm = TRUE) # Option 2\n",
    "\n",
    "# Gender\n",
    "table(dataframe$gender) # Frequencies\n",
    "prop.table(table(dataframe$gender)) # Percentages"
   ]
  },
  {
   "cell_type": "markdown",
   "metadata": {
    "collapsed": "true"
   },
   "source": [
    "# Univariate Data Visualization"
   ]
  },
  {
   "cell_type": "markdown",
   "metadata": {},
   "source": [
    "Another way to quickly get an overview of your data is through data visualization! For this module we will be focusing on the histogram and bar graph. This section will require some setup. Execute the code below to ensure this section of the module can work. "
   ]
  },
  {
   "cell_type": "code",
   "execution_count": 56,
   "metadata": {
    "ExecuteTime": {
     "end_time": "2020-06-09T22:51:07.847249Z",
     "start_time": "2020-06-09T22:51:07.822Z"
    }
   },
   "outputs": [
    {
     "name": "stdout",
     "output_type": "stream",
     "text": [
      "Setup Complete!"
     ]
    }
   ],
   "source": [
    "library(ggplot2)\n",
    "\n",
    "histogram <- function(continuous_variable) {\n",
    "    hist_plot <- ggplot(dataframe, aes(x=continuous_variable)) + geom_histogram(bins=20, alpha=0.8, color=\"#e9ecef\")\n",
    "    hist_plot\n",
    "}\n",
    "\n",
    "bar_graph <- function(categorical_variable) {\n",
    "    bar_plot <- ggplot(dataframe, aes(x=categorical_variable, fill=categorical_variable))\n",
    "    bar_plot\n",
    "}\n",
    "\n",
    "cat('Setup Complete!')"
   ]
  },
  {
   "cell_type": "markdown",
   "metadata": {},
   "source": [
    "Data visualization is a rich and open field. There are millions of ways to creatively communicate data using data visualization. While it is impossible to cover the entire field in a single module, we can get a great start. Watch the video below to learn more!"
   ]
  },
  {
   "cell_type": "markdown",
   "metadata": {},
   "source": [
    "<font color=blue, size=4>Watch the video and answer the quiz/exercises embedded in the video.<font>"
   ]
  },
  {
   "cell_type": "code",
   "execution_count": null,
   "metadata": {},
   "outputs": [],
   "source": [
    "# Embedding Youtube Video Explaining Data Visualization\n",
    "embed_url(\"https://www.youtube.com/watch?v=wAcbA2cIqec\")"
   ]
  },
  {
   "cell_type": "markdown",
   "metadata": {
    "solution2": "hidden",
    "solution2_first": true
   },
   "source": [
    "**Pre-Check:** What types of variables can be visualized is a histogram? What type of variables can be visualized with a bar graph?"
   ]
  },
  {
   "cell_type": "markdown",
   "metadata": {
    "solution2": "hidden"
   },
   "source": [
    "| Graph Type | Variable Type |\n",
    "| :--------------- | :------ |\n",
    "| Histogram | Continuos |\n",
    "| Bar Graph | Categorical |"
   ]
  },
  {
   "cell_type": "markdown",
   "metadata": {},
   "source": [
    "Now we will generate a histogram of our continuous variable, `age`. Use the code below to generate a histogram.\n",
    "\n",
    "```R\n",
    "histogram(dataframe$variable_name)\n",
    "```"
   ]
  },
  {
   "cell_type": "code",
   "execution_count": null,
   "metadata": {
    "solution2": "hidden",
    "solution2_first": true
   },
   "outputs": [],
   "source": []
  },
  {
   "cell_type": "code",
   "execution_count": 18,
   "metadata": {
    "ExecuteTime": {
     "end_time": "2020-06-09T22:15:17.786877Z",
     "start_time": "2020-06-09T22:15:17.546Z"
    },
    "solution2": "hidden"
   },
   "outputs": [
    {
     "name": "stderr",
     "output_type": "stream",
     "text": [
      "Warning message:\n",
      "\"Removed 52 rows containing non-finite values (stat_bin).\""
     ]
    },
    {
     "data": {
      "image/png": "[encoded data removed]",
      "text/plain": [
       "plot without title"
      ]
     },
     "metadata": {},
     "output_type": "display_data"
    }
   ],
   "source": [
    "histogram(dataframe$age)"
   ]
  },
  {
   "cell_type": "markdown",
   "metadata": {},
   "source": [
    "Now we will generate a histogram of our categorical variable, `gender`. Use the code below to generate a bar graph\n",
    "\n",
    "```R\n",
    "bar_graph(dataframe$variable_name)\n",
    "```"
   ]
  },
  {
   "cell_type": "code",
   "execution_count": null,
   "metadata": {
    "solution2": "hidden",
    "solution2_first": true
   },
   "outputs": [],
   "source": []
  },
  {
   "cell_type": "code",
   "execution_count": 30,
   "metadata": {
    "ExecuteTime": {
     "end_time": "2020-06-09T22:39:39.672625Z",
     "start_time": "2020-06-09T22:39:39.350Z"
    },
    "solution2": "hidden"
   },
   "outputs": [
    {
     "data": {
      "image/png": "[encoded data removed]",
      "text/plain": [
       "plot without title"
      ]
     },
     "metadata": {},
     "output_type": "display_data"
    }
   ],
   "source": [
    "bar_graph(dataframe$gender)"
   ]
  },
  {
   "cell_type": "markdown",
   "metadata": {
    "collapsed": "true"
   },
   "source": [
    "# Module 2 Exercise"
   ]
  },
  {
   "cell_type": "markdown",
   "metadata": {},
   "source": [
    "We will now bring everything you have learned together. In any analysis, you are interested in numerous variables. For this analysis, you want a more complete picture of each patient. As a result, you want to get an idea of the different ethnicities in your population and their overall health via their BMI. You will using the variables `ethnicity` and `bmi` respectively. "
   ]
  },
  {
   "cell_type": "markdown",
   "metadata": {},
   "source": [
    "<font color=blue, size=4>Watch the video and answer the quiz/exercises embedded in the video.<font>"
   ]
  },
  {
   "cell_type": "code",
   "execution_count": null,
   "metadata": {},
   "outputs": [],
   "source": [
    "# Embedding Youtube Video Explaining the Exercise\n",
    "embed_url(\"https://www.youtube.com/watch?v=wAcbA2cIqec\")"
   ]
  },
  {
   "cell_type": "markdown",
   "metadata": {},
   "source": [
    "For each variable, first determine the type of variable. Then visualize the variable. Afterward, generate summary statistics for each variable. Based on how the data looks for continuos variables, make a decision of whether or note use mean or median. \n",
    "\n",
    "---\n",
    "\n",
    "Make sure each individual function has its own line so it will work properly. See the example below.\n",
    "\n",
    "```R\n",
    "variable_type()\n",
    "visualize()\n",
    "summary_statistics()\n",
    "```"
   ]
  },
  {
   "cell_type": "code",
   "execution_count": null,
   "metadata": {
    "ExecuteTime": {
     "end_time": "2020-04-24T13:55:19.260095Z",
     "start_time": "2020-04-24T13:55:12.459Z"
    }
   },
   "outputs": [],
   "source": [
    "# Type code for analyzing ethnicity below\n"
   ]
  },
  {
   "cell_type": "code",
   "execution_count": null,
   "metadata": {
    "ExecuteTime": {
     "end_time": "2020-04-24T13:55:19.267078Z",
     "start_time": "2020-04-24T13:55:12.463Z"
    },
    "solution2": "hidden",
    "solution2_first": true
   },
   "outputs": [],
   "source": [
    "# Type code for analyzing bmi below\n"
   ]
  },
  {
   "cell_type": "code",
   "execution_count": null,
   "metadata": {
    "ExecuteTime": {
     "end_time": "2020-04-24T13:55:19.274069Z",
     "start_time": "2020-04-24T13:55:12.465Z"
    },
    "solution2": "hidden"
   },
   "outputs": [],
   "source": [
    "# Ethnicity\n",
    "class(dataframe$ethnicity)\n",
    "bar_graph(dataframe$ethnicity)\n",
    "table(dataframe$ethnicity)\n",
    "prop.table(table(dataframe$ethnicity))"
   ]
  },
  {
   "cell_type": "code",
   "execution_count": null,
   "metadata": {
    "ExecuteTime": {
     "end_time": "2020-04-24T13:55:19.283151Z",
     "start_time": "2020-04-24T13:55:12.468Z"
    },
    "solution2": "hidden"
   },
   "outputs": [],
   "source": [
    "# BMI\n",
    "class(dataframe$bmi)\n",
    "histogram(dataframe$bmi)\n",
    "median(dataframe$bmi, na.rm = TRUE)"
   ]
  }
 ],
 "metadata": {
  "kernelspec": {
   "display_name": "R",
   "language": "R",
   "name": "ir"
  },
  "language_info": {
   "codemirror_mode": "r",
   "file_extension": ".r",
   "mimetype": "text/x-r-source",
   "name": "R",
   "pygments_lexer": "r",
   "version": "3.6.1"
  },
  "toc": {
   "base_numbering": 1,
   "nav_menu": {},
   "number_sections": true,
   "sideBar": true,
   "skip_h1_title": false,
   "title_cell": "Table of Contents",
   "title_sidebar": "Contents",
   "toc_cell": false,
   "toc_position": {},
   "toc_section_display": true,
   "toc_window_display": false
  }
 },
 "nbformat": 4,
 "nbformat_minor": 4
}
