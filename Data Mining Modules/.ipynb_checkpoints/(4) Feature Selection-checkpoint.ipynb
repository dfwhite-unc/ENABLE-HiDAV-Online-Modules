{
 "cells": [
  {
   "cell_type": "markdown",
   "metadata": {},
   "source": [
    "# Feature Selection\n",
    "## Topics for this notebook\n",
    "### (Pearson correlation and chi square will not be covered in this notebook, see bivariate analysis) \n",
    "1. Clinical context  \n",
    "2. Read in CSV file  \n",
    "3. Spitting the data between training and testing sets\n",
    "4. Oversampling to make the training set more balanced  \n",
    "5. Feature selection using a wrapper method\n",
    "6. Feature selection using an embedded method "
   ]
  },
  {
   "cell_type": "markdown",
   "metadata": {},
   "source": [
    "## Clinical context\n",
    "For this notebook we will be building a model to predict hospital death based on data from an intensive care unit (ICU). As a basis for this model we will be selecting many of the same features used by the Apache Algorithm. The Apache Algorithm was also created to predict patient death in the ICU and should serve as a good starting point for our model. Due to some missing data certain features from the Apache Algorithm have been excluded from our model. Also, in an attempt to increase the performance of our model new features have been added that are not part of the Apache Algorithm. Predicting patient death in the ICU is extremely important because determining which patients need attention immediately is a matter of life or death.   "
   ]
  },
  {
   "cell_type": "markdown",
   "metadata": {},
   "source": [
    "## Read in CSV file "
   ]
  },
  {
   "cell_type": "code",
   "execution_count": 1,
   "metadata": {},
   "outputs": [
    {
     "name": "stdout",
     "output_type": "stream",
     "text": [
      "package 'readr' successfully unpacked and MD5 sums checked\n",
      "\n",
      "The downloaded binary packages are in\n",
      "\tC:\\Users\\Aaron\\AppData\\Local\\Temp\\RtmpyiWQ3Q\\downloaded_packages\n"
     ]
    },
    {
     "name": "stderr",
     "output_type": "stream",
     "text": [
      "Warning message:\n",
      "\"package 'readr' was built under R version 3.6.3\"Parsed with column specification:\n",
      "cols(\n",
      "  hospital_death = col_double(),\n",
      "  temp_apache = col_double(),\n",
      "  map_apache = col_double(),\n",
      "  h1_heartrate_max = col_double(),\n",
      "  d1_resprate_max = col_double(),\n",
      "  sodium_apache = col_double(),\n",
      "  d1_potassium_max = col_double(),\n",
      "  d1_creatinine_max = col_double(),\n",
      "  d1_hematocrit_max = col_double(),\n",
      "  wbc_apache = col_double(),\n",
      "  gcs_eyes_apache = col_double(),\n",
      "  gcs_motor_apache = col_double(),\n",
      "  age = col_double(),\n",
      "  pre_icu_los_days = col_double(),\n",
      "  bmi = col_double(),\n",
      "  intubated_apache = col_double(),\n",
      "  sepsis = col_double(),\n",
      "  cardiovascular_diagnosis = col_double()\n",
      ")\n"
     ]
    },
    {
     "name": "stdout",
     "output_type": "stream",
     "text": [
      "tibble [91,713 x 18] (S3: spec_tbl_df/tbl_df/tbl/data.frame)\n",
      " $ hospital_death          : num [1:91713] 0 0 0 0 0 0 0 0 1 0 ...\n",
      " $ temp_apache             : num [1:91713] 39.3 35.1 36.7 34.8 36.7 36.6 35 36.6 36.9 36.3 ...\n",
      " $ map_apache              : num [1:91713] 40 46 68 60 103 130 138 60 66 58 ...\n",
      " $ h1_heartrate_max        : num [1:91713] 119 114 96 100 89 83 79 118 82 96 ...\n",
      " $ d1_resprate_max         : num [1:91713] 34 32 21 23 18 32 38 28 24 44 ...\n",
      " $ sodium_apache           : num [1:91713] 134 145 138 138 138 ...\n",
      " $ d1_potassium_max        : num [1:91713] 4 4.2 4.25 5 4.25 ...\n",
      " $ d1_creatinine_max       : num [1:91713] 2.51 0.71 1.49 1.49 1.49 ...\n",
      " $ d1_hematocrit_max       : num [1:91713] 27.4 36.9 34.5 34 34.5 ...\n",
      " $ wbc_apache              : num [1:91713] 14.1 12.7 10.5 8 15.5 ...\n",
      " $ gcs_eyes_apache         : num [1:91713] 3 1 3 4 1 4 4 4 4 4 ...\n",
      " $ gcs_motor_apache        : num [1:91713] 6 3 6 6 1 6 6 6 6 6 ...\n",
      " $ age                     : num [1:91713] 68 77 25 81 19 67 59 70 45 50 ...\n",
      " $ pre_icu_los_days        : num [1:91713] 0.541667 0.927778 0.000694 0.000694 0.073611 ...\n",
      " $ bmi                     : num [1:91713] 22.7 27.4 31.9 22.6 29.2 ...\n",
      " $ intubated_apache        : num [1:91713] 0 0 0 1 0 0 1 0 0 0 ...\n",
      " $ sepsis                  : num [1:91713] 1 0 0 0 0 0 0 1 0 0 ...\n",
      " $ cardiovascular_diagnosis: num [1:91713] 0 0 0 0 0 0 0 0 0 0 ...\n",
      " - attr(*, \"spec\")=\n",
      "  .. cols(\n",
      "  ..   hospital_death = col_double(),\n",
      "  ..   temp_apache = col_double(),\n",
      "  ..   map_apache = col_double(),\n",
      "  ..   h1_heartrate_max = col_double(),\n",
      "  ..   d1_resprate_max = col_double(),\n",
      "  ..   sodium_apache = col_double(),\n",
      "  ..   d1_potassium_max = col_double(),\n",
      "  ..   d1_creatinine_max = col_double(),\n",
      "  ..   d1_hematocrit_max = col_double(),\n",
      "  ..   wbc_apache = col_double(),\n",
      "  ..   gcs_eyes_apache = col_double(),\n",
      "  ..   gcs_motor_apache = col_double(),\n",
      "  ..   age = col_double(),\n",
      "  ..   pre_icu_los_days = col_double(),\n",
      "  ..   bmi = col_double(),\n",
      "  ..   intubated_apache = col_double(),\n",
      "  ..   sepsis = col_double(),\n",
      "  ..   cardiovascular_diagnosis = col_double()\n",
      "  .. )\n"
     ]
    }
   ],
   "source": [
    "#install and load required libraries/packages \n",
    "install.packages(\"readr\")\n",
    "library (readr)\n",
    "\n",
    "#location of raw csv file on github repository \n",
    "urlfile=\"https://raw.githubusercontent.com/e-cui/ENABLE-HiDAV-Online-Modules/master/Data%20Mining%20Modules/csv_files/t.csv\"\n",
    "\n",
    "#Read the CSV file into a data frame called training_v2 \n",
    "t<-read_csv(url(urlfile))"
   ]
  },
  {
   "cell_type": "markdown",
   "metadata": {},
   "source": [
    "## Split the data frame into separate training and testing data frames "
   ]
  },
  {
   "cell_type": "code",
   "execution_count": 9,
   "metadata": {},
   "outputs": [
    {
     "name": "stderr",
     "output_type": "stream",
     "text": [
      "Warning message:\n",
      "\"package 'caTools' is in use and will not be installed\""
     ]
    },
    {
     "name": "stdout",
     "output_type": "stream",
     "text": [
      "tibble [22,929 x 18] (S3: tbl_df/tbl/data.frame)\n",
      " $ hospital_death          : num [1:22929] 0 0 0 0 0 0 0 0 0 0 ...\n",
      " $ temp_apache             : num [1:22929] 34.8 36.8 36.6 36.6 36.6 36.3 36.5 36.7 36.8 36.2 ...\n",
      " $ map_apache              : num [1:22929] 60 72 140 103 55 133 64 162 163 118 ...\n",
      " $ h1_heartrate_max        : num [1:22929] 100 90 92 108 100 116 72 76 82 132 ...\n",
      " $ d1_resprate_max         : num [1:22929] 23 23 25 41 22 36 18 28 36 44 ...\n",
      " $ sodium_apache           : num [1:22929] 138 138 138 140 138 ...\n",
      " $ d1_potassium_max        : num [1:22929] 5 4.2 4.25 4.4 4 ...\n",
      " $ d1_creatinine_max       : num [1:22929] 1.49 0.9 1.49 1.13 1.49 ...\n",
      " $ d1_hematocrit_max       : num [1:22929] 34 34.5 41.8 33.1 33.3 28.9 43.2 27 32.6 44 ...\n",
      " $ wbc_apache              : num [1:22929] 8 9.96 8.41 10.3 5 ...\n",
      " $ gcs_eyes_apache         : num [1:22929] 4 4 4 4 4 3 4 4 4 4 ...\n",
      " $ gcs_motor_apache        : num [1:22929] 6 6 6 6 6 6 6 6 6 6 ...\n",
      " $ age                     : num [1:22929] 81 72 48 65 65 87 60 85 71 65 ...\n",
      " $ pre_icu_los_days        : num [1:22929] 0.000694 0.004861 0.020833 1.045139 0 ...\n",
      " $ bmi                     : num [1:22929] 22.6 28.3 29.2 29.2 28.4 ...\n",
      " $ intubated_apache        : num [1:22929] 1 0 0 0 0 0 0 0 0 0 ...\n",
      " $ sepsis                  : num [1:22929] 0 0 0 0 0 1 0 0 0 1 ...\n",
      " $ cardiovascular_diagnosis: num [1:22929] 0 0 0 0 0 0 0 0 0 0 ...\n"
     ]
    }
   ],
   "source": [
    "#install and load required libraries/packages \n",
    "install.packages(\"caTools\")\n",
    "library(caTools)\n",
    "\n",
    "#75% of the sample size\n",
    "smp_size <- floor(0.75 * nrow(t))\n",
    "\n",
    "#set the seed to make your partition reproducible\n",
    "set.seed(123)\n",
    "train_ind <- sample(seq_len(nrow(t)), size = smp_size)\n",
    "\n",
    "#create a training data frame and a testing data frame \n",
    "train1 <- t[train_ind, ]\n",
    "test1 <- t[-train_ind, ]"
   ]
  },
  {
   "cell_type": "markdown",
   "metadata": {},
   "source": [
    "## Oversample the minority outcome to balance the training data frame (not always necessary)  "
   ]
  },
  {
   "cell_type": "code",
   "execution_count": 10,
   "metadata": {},
   "outputs": [
    {
     "name": "stdout",
     "output_type": "stream",
     "text": [
      "package 'ROSE' successfully unpacked and MD5 sums checked\n",
      "\n",
      "The downloaded binary packages are in\n",
      "\tC:\\Users\\Aaron\\AppData\\Local\\Temp\\RtmpyiWQ3Q\\downloaded_packages\n"
     ]
    },
    {
     "name": "stderr",
     "output_type": "stream",
     "text": [
      "Warning message:\n",
      "\"package 'ROSE' was built under R version 3.6.3\"Loaded ROSE 0.0-3\n",
      "\n"
     ]
    },
    {
     "data": {
      "text/plain": [
       "\n",
       "    0     1 \n",
       "13840  9089 "
      ]
     },
     "metadata": {},
     "output_type": "display_data"
    },
    {
     "name": "stdout",
     "output_type": "stream",
     "text": [
      "'data.frame':\t22929 obs. of  18 variables:\n",
      " $ hospital_death          : num  0 0 0 0 0 0 0 0 0 0 ...\n",
      " $ temp_apache             : num  36.4 36.3 36.1 36.3 35.7 ...\n",
      " $ map_apache              : num  98.68 160.36 50.07 5.97 146.41 ...\n",
      " $ h1_heartrate_max        : num  78.3 127.4 70.6 152.5 80.9 ...\n",
      " $ d1_resprate_max         : num  19.9 40.5 29.7 40.2 26.9 ...\n",
      " $ sodium_apache           : num  144 134 137 130 140 ...\n",
      " $ d1_potassium_max        : num  3.71 4.55 4.26 4.74 4.4 ...\n",
      " $ d1_creatinine_max       : num  1.517 0.82 1.285 -0.208 2.247 ...\n",
      " $ d1_hematocrit_max       : num  28 35.6 20.4 26.2 35.7 ...\n",
      " $ wbc_apache              : num  11.18 4.62 2.51 16.71 5.39 ...\n",
      " $ gcs_eyes_apache         : num  3.72 4.19 3.23 4.41 5.01 ...\n",
      " $ gcs_motor_apache        : num  5.74 5.73 5.46 5.47 5.51 ...\n",
      " $ age                     : num  46.1 97.2 61.6 81.2 70.5 ...\n",
      " $ pre_icu_los_days        : num  0.1724 -0.0158 8.3065 -0.3877 2.0257 ...\n",
      " $ bmi                     : num  24 22.6 20.4 21.3 28.7 ...\n",
      " $ intubated_apache        : num  0.1165 -0.0665 0.0758 0.125 -0.0924 ...\n",
      " $ sepsis                  : num  -0.2011 1.215 -0.1541 0.0407 0.0264 ...\n",
      " $ cardiovascular_diagnosis: num  0.02065 -0.03808 -0.00293 -0.01505 0.09286 ...\n"
     ]
    }
   ],
   "source": [
    "#install and load required libraries/packages \n",
    "install.packages(\"ROSE\")\n",
    "library(ROSE)\n",
    "\n",
    "#oversample the minority outcome to correct for data imbalance\n",
    "data.rose <- ROSE(hospital_death~., p = 0.4, data=test1, seed=3)$data\n",
    "table(data.rose$hospital_death)"
   ]
  },
  {
   "cell_type": "markdown",
   "metadata": {},
   "source": [
    "## Backward feature selection using recursive feature elimination (wrapper method) "
   ]
  },
  {
   "cell_type": "code",
   "execution_count": null,
   "metadata": {},
   "outputs": [
    {
     "name": "stdout",
     "output_type": "stream",
     "text": [
      "package 'mlbench' successfully unpacked and MD5 sums checked\n",
      "\n",
      "The downloaded binary packages are in\n",
      "\tC:\\Users\\Aaron\\AppData\\Local\\Temp\\RtmpyiWQ3Q\\downloaded_packages\n"
     ]
    },
    {
     "name": "stderr",
     "output_type": "stream",
     "text": [
      "also installing the dependencies 'ps', 'processx', 'callr', 'prettyunits', 'backports', 'desc', 'pkgbuild', 'rprojroot', 'rstudioapi', 'numDeriv', 'SQUAREM', 'pkgload', 'praise', 'colorspace', 'KernSmooth', 'lava', 'testthat', 'farver', 'labeling', 'munsell', 'RColorBrewer', 'viridisLite', 'stringi', 'rpart', 'survival', 'nnet', 'class', 'prodlim', 'gtable', 'isoband', 'MASS', 'mgcv', 'scales', 'data.table', 'stringr', 'generics', 'gower', 'ipred', 'lubridate', 'Matrix', 'tidyr', 'timeDate', 'lattice', 'ggplot2', 'plyr', 'ModelMetrics', 'nlme', 'reshape2', 'recipes', 'withr', 'pROC'\n",
      "\n"
     ]
    },
    {
     "name": "stdout",
     "output_type": "stream",
     "text": [
      "\n",
      "  There are binary versions available but the source versions are later:\n",
      "          binary source needs_compilation\n",
      "backports  1.1.6  1.1.7              TRUE\n",
      "scales     1.1.0  1.1.1             FALSE\n",
      "\n",
      "  Binaries will be installed\n",
      "package 'ps' successfully unpacked and MD5 sums checked\n",
      "package 'processx' successfully unpacked and MD5 sums checked\n",
      "package 'callr' successfully unpacked and MD5 sums checked\n",
      "package 'prettyunits' successfully unpacked and MD5 sums checked\n",
      "package 'backports' successfully unpacked and MD5 sums checked\n",
      "package 'desc' successfully unpacked and MD5 sums checked\n",
      "package 'pkgbuild' successfully unpacked and MD5 sums checked\n",
      "package 'rprojroot' successfully unpacked and MD5 sums checked\n",
      "package 'rstudioapi' successfully unpacked and MD5 sums checked\n",
      "package 'numDeriv' successfully unpacked and MD5 sums checked\n",
      "package 'SQUAREM' successfully unpacked and MD5 sums checked\n",
      "package 'pkgload' successfully unpacked and MD5 sums checked\n",
      "package 'praise' successfully unpacked and MD5 sums checked\n",
      "package 'colorspace' successfully unpacked and MD5 sums checked\n",
      "package 'KernSmooth' successfully unpacked and MD5 sums checked\n",
      "package 'lava' successfully unpacked and MD5 sums checked\n",
      "package 'testthat' successfully unpacked and MD5 sums checked\n",
      "package 'farver' successfully unpacked and MD5 sums checked\n",
      "package 'labeling' successfully unpacked and MD5 sums checked\n",
      "package 'munsell' successfully unpacked and MD5 sums checked\n",
      "package 'RColorBrewer' successfully unpacked and MD5 sums checked\n",
      "package 'viridisLite' successfully unpacked and MD5 sums checked\n",
      "package 'stringi' successfully unpacked and MD5 sums checked\n",
      "package 'rpart' successfully unpacked and MD5 sums checked\n",
      "package 'survival' successfully unpacked and MD5 sums checked\n",
      "package 'nnet' successfully unpacked and MD5 sums checked\n",
      "package 'class' successfully unpacked and MD5 sums checked\n",
      "package 'prodlim' successfully unpacked and MD5 sums checked\n",
      "package 'gtable' successfully unpacked and MD5 sums checked\n",
      "package 'isoband' successfully unpacked and MD5 sums checked\n",
      "package 'MASS' successfully unpacked and MD5 sums checked\n",
      "package 'mgcv' successfully unpacked and MD5 sums checked\n",
      "package 'data.table' successfully unpacked and MD5 sums checked\n",
      "package 'stringr' successfully unpacked and MD5 sums checked\n",
      "package 'generics' successfully unpacked and MD5 sums checked\n",
      "package 'gower' successfully unpacked and MD5 sums checked\n",
      "package 'ipred' successfully unpacked and MD5 sums checked\n",
      "package 'lubridate' successfully unpacked and MD5 sums checked\n",
      "package 'Matrix' successfully unpacked and MD5 sums checked\n",
      "package 'tidyr' successfully unpacked and MD5 sums checked\n",
      "package 'timeDate' successfully unpacked and MD5 sums checked\n",
      "package 'lattice' successfully unpacked and MD5 sums checked\n",
      "package 'ggplot2' successfully unpacked and MD5 sums checked\n",
      "package 'plyr' successfully unpacked and MD5 sums checked\n",
      "package 'ModelMetrics' successfully unpacked and MD5 sums checked\n",
      "package 'nlme' successfully unpacked and MD5 sums checked\n",
      "package 'reshape2' successfully unpacked and MD5 sums checked\n",
      "package 'recipes' successfully unpacked and MD5 sums checked\n",
      "package 'withr' successfully unpacked and MD5 sums checked\n",
      "package 'pROC' successfully unpacked and MD5 sums checked\n",
      "package 'caret' successfully unpacked and MD5 sums checked\n",
      "\n",
      "The downloaded binary packages are in\n",
      "\tC:\\Users\\Aaron\\AppData\\Local\\Temp\\RtmpyiWQ3Q\\downloaded_packages\n"
     ]
    },
    {
     "name": "stderr",
     "output_type": "stream",
     "text": [
      "installing the source package 'scales'\n",
      "\n"
     ]
    },
    {
     "name": "stdout",
     "output_type": "stream",
     "text": [
      "package 'randomForest' successfully unpacked and MD5 sums checked\n"
     ]
    },
    {
     "name": "stderr",
     "output_type": "stream",
     "text": [
      "Warning message:\n",
      "\"cannot remove prior installation of package 'randomForest'\"Warning message in file.copy(savedcopy, lib, recursive = TRUE):\n",
      "\"problem copying C:\\Users\\Aaron\\anaconda3\\Lib\\R\\library\\00LOCK\\randomForest\\libs\\x64\\randomForest.dll to C:\\Users\\Aaron\\anaconda3\\Lib\\R\\library\\randomForest\\libs\\x64\\randomForest.dll: Permission denied\"Warning message:\n",
      "\"restored 'randomForest'\""
     ]
    },
    {
     "name": "stdout",
     "output_type": "stream",
     "text": [
      "\n",
      "The downloaded binary packages are in\n",
      "\tC:\\Users\\Aaron\\AppData\\Local\\Temp\\RtmpyiWQ3Q\\downloaded_packages\n",
      "package 'e1071' successfully unpacked and MD5 sums checked\n",
      "\n",
      "The downloaded binary packages are in\n",
      "\tC:\\Users\\Aaron\\AppData\\Local\\Temp\\RtmpyiWQ3Q\\downloaded_packages\n"
     ]
    },
    {
     "name": "stderr",
     "output_type": "stream",
     "text": [
      "Warning message:\n",
      "\"package 'e1071' was built under R version 3.6.3\"Warning message:\n",
      "\"package 'mlbench' was built under R version 3.6.3\"Warning message:\n",
      "\"package 'caret' was built under R version 3.6.3\"Loading required package: lattice\n",
      "Warning message:\n",
      "\"package 'lattice' was built under R version 3.6.3\"Loading required package: ggplot2\n",
      "Warning message:\n",
      "\"package 'ggplot2' was built under R version 3.6.3\"Warning message:\n",
      "\"package 'randomForest' was built under R version 3.6.3\"randomForest 4.6-14\n",
      "Type rfNews() to see new features/changes/bug fixes.\n",
      "\n",
      "Attaching package: 'randomForest'\n",
      "\n",
      "The following object is masked from 'package:ggplot2':\n",
      "\n",
      "    margin\n",
      "\n",
      "Warning message in randomForest.default(x, y, importance = TRUE, ...):\n",
      "\"The response has five or fewer unique values.  Are you sure you want to do regression?\""
     ]
    }
   ],
   "source": [
    "#feature selection using recursive feature elimination(rfe) \n",
    "#backward feature selection starts with all features then reduces the number of features \n",
    "#install and load required packages/libraries \n",
    "install.packages(\"mlbench\")\n",
    "install.packages(\"caret\")\n",
    "install.packages(\"randomForest\")\n",
    "install.packages(\"e1071\")\n",
    "library(e1071)\n",
    "library(mlbench)\n",
    "library(caret)\n",
    "library(randomForest)\n",
    "\n",
    "#establish training parameters\n",
    "rfe_training <- rfeControl(functions=rfFuncs, method=\"cv\", number=10)\n",
    "\n",
    "#run the rfe model using the oversampled training data \n",
    "rfe <- rfe(data.rose[,2:18], data.rose[,1], sizes=c(2:18), rfeControl=rfe_training)\n",
    "print(rfe)\n",
    "\n",
    "#show variable rank\n",
    "predictors(rfe) \n",
    "\n",
    "#display graph that highlights the most accurate number of features \n",
    "plot(rfe, type=c(\"g\", \"o\"))"
   ]
  },
  {
   "cell_type": "markdown",
   "metadata": {},
   "source": [
    "## Feature selection using a random forest algorithm (embedded method) "
   ]
  },
  {
   "cell_type": "code",
   "execution_count": null,
   "metadata": {},
   "outputs": [],
   "source": [
    "#install and load required libraries/packages \n",
    "install.packages(\"mlbench\")\n",
    "install.packages(\"caret\")\n",
    "install.packages(\"randomForest\")\n",
    "install.packages(\"e1071\")\n",
    "library(e1071)\n",
    "library(mlbench)\n",
    "library(caret)\n",
    "library(randomForest)\n",
    "\n",
    "#establish the training parameters \n",
    "t_training<- trainControl(method = \"repeatedcv\", number=10, repeats=3)\n",
    "seed<- 7\n",
    "metric<- \"Accuracy\"\n",
    "set.seed(seed)\n",
    "mtry<- sqrt(ncol(data.rose))\n",
    "tunegrid<-expand.grid(.mtry=mtry)\n",
    "\n",
    "#train the random forest algorithm on the oversampled training data \n",
    "#the oversampled training data frame is called data.rose \n",
    "#the outcome variable is hospital death\n",
    "t_model<- train(hospital_death~., data=data.rose, method=\"rf\", metric=metric, tuneGrid=tunegrid, trControl=t_training)\n",
    "\n",
    "#show the results of model training\n",
    "print(t_model)\n",
    "\n",
    "#apply the trained model to the unseen testing data frame and store the results as z  \n",
    "z<- predict(t_model, test1)\n",
    "\n",
    "#look at the results of running the model with unseen test data using a confusion matrix \n",
    "confusionMatrix(z, test1$hospital_death)\n",
    "\n",
    "#visualize variable importance \n",
    "variable_importance<- varImp(t_model)\n",
    "print(variable_importance)"
   ]
  },
  {
   "cell_type": "markdown",
   "metadata": {},
   "source": [
    "## This concludes the feature selection part of the course\n",
    "- The following key questions were addressed during this notebook and the accompanying video lecture:\n",
    "1. What are the three main types of methods used for feature selection?\n",
    "2. What are the advantages and disadvantages of the feature selection approaches mentioned?\n",
    "\n",
    " \n",
    "\n"
   ]
  }
 ],
 "metadata": {
  "kernelspec": {
   "display_name": "R",
   "language": "R",
   "name": "ir"
  },
  "language_info": {
   "codemirror_mode": "r",
   "file_extension": ".r",
   "mimetype": "text/x-r-source",
   "name": "R",
   "pygments_lexer": "r",
   "version": "3.6.1"
  },
  "toc": {
   "base_numbering": 1,
   "nav_menu": {},
   "number_sections": true,
   "sideBar": true,
   "skip_h1_title": false,
   "title_cell": "Table of Contents",
   "title_sidebar": "Contents",
   "toc_cell": false,
   "toc_position": {},
   "toc_section_display": true,
   "toc_window_display": false
  }
 },
 "nbformat": 4,
 "nbformat_minor": 2
}
