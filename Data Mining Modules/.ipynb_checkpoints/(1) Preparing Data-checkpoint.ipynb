{
 "cells": [
  {
   "cell_type": "markdown",
   "metadata": {},
   "source": [
    "# Introduction to Data Mining"
   ]
  },
  {
   "cell_type": "markdown",
   "metadata": {},
   "source": [
    "## Welcome to the data mining portion of the course\n",
    "- This part of the course moves away from studying free text and will instead focus on more sturctured data analysis. \n",
    "- From now on the notebooks will use a language called R which was specifically created for data analytics. \n",
    "- Like the previous sections the code is being provided for your reference and it is not necessary to understand the specifics in order to progress through the remainder of the course. \n",
    "\n",
    "### In this notebook we will be covering \n",
    "1. How to read in a CSV file from github \n",
    "2. How to select variable columns from a data frame \n",
    "3. How to change data types\n",
    "4. Replacing null numeric cells with the column mean\n",
    "5. Replacing null categorical cells with a zero \n",
    "6. Replacing null cell using random forest imputation  "
   ]
  },
  {
   "cell_type": "markdown",
   "metadata": {},
   "source": [
    "## Read in the CSV file"
   ]
  },
  {
   "cell_type": "code",
   "execution_count": 1,
   "metadata": {},
   "outputs": [
    {
     "name": "stdout",
     "output_type": "stream",
     "text": [
      "package 'readr' successfully unpacked and MD5 sums checked\n"
     ]
    },
    {
     "name": "stderr",
     "output_type": "stream",
     "text": [
      "Warning message:\n",
      "\"cannot remove prior installation of package 'readr'\"Warning message in file.copy(savedcopy, lib, recursive = TRUE):\n",
      "\"problem copying C:\\Users\\Aaron\\anaconda3\\Lib\\R\\library\\00LOCK\\readr\\libs\\x64\\librcon.lib to C:\\Users\\Aaron\\anaconda3\\Lib\\R\\library\\readr\\libs\\x64\\librcon.lib: Permission denied\"Warning message in file.copy(savedcopy, lib, recursive = TRUE):\n",
      "\"problem copying C:\\Users\\Aaron\\anaconda3\\Lib\\R\\library\\00LOCK\\readr\\libs\\x64\\readr.dll to C:\\Users\\Aaron\\anaconda3\\Lib\\R\\library\\readr\\libs\\x64\\readr.dll: Permission denied\"Warning message:\n",
      "\"restored 'readr'\""
     ]
    },
    {
     "name": "stdout",
     "output_type": "stream",
     "text": [
      "\n",
      "The downloaded binary packages are in\n",
      "\tC:\\Users\\Aaron\\AppData\\Local\\Temp\\RtmpW8YFew\\downloaded_packages\n"
     ]
    },
    {
     "name": "stderr",
     "output_type": "stream",
     "text": [
      "Warning message:\n",
      "\"package 'readr' was built under R version 3.6.3\"Parsed with column specification:\n",
      "cols(\n",
      "  .default = col_double(),\n",
      "  ethnicity = col_character(),\n",
      "  gender = col_character(),\n",
      "  hospital_admit_source = col_character(),\n",
      "  icu_admit_source = col_character(),\n",
      "  icu_stay_type = col_character(),\n",
      "  icu_type = col_character(),\n",
      "  urineoutput_apache = col_logical(),\n",
      "  apache_3j_bodysystem = col_character(),\n",
      "  apache_2_bodysystem = col_character()\n",
      ")\n",
      "See spec(...) for full column specifications.\n",
      "Warning message:\n",
      "\"41783 parsing failures.\n",
      " row                col           expected    actual         file\n",
      "8119 urineoutput_apache 1/0/T/F/TRUE/FALSE 680.3136  <connection>\n",
      "8120 urineoutput_apache 1/0/T/F/TRUE/FALSE 665.9712  <connection>\n",
      "8121 urineoutput_apache 1/0/T/F/TRUE/FALSE 929.4048  <connection>\n",
      "8122 urineoutput_apache 1/0/T/F/TRUE/FALSE 2869.9488 <connection>\n",
      "8124 urineoutput_apache 1/0/T/F/TRUE/FALSE 1291.1616 <connection>\n",
      ".... .................. .................. ......... ............\n",
      "See problems(...) for more details.\n",
      "\""
     ]
    }
   ],
   "source": [
    "install.packages(\"readr\")\n",
    "library (readr)\n",
    "\n",
    "#location of raw csv file on github repository \n",
    "urlfile=\"https://raw.githubusercontent.com/e-cui/ENABLE-HiDAV-Online-Modules/master/Data%20Mining%20Modules/csv_files/training_v2.csv\"\n",
    "\n",
    "#Read the CSV file into a data frame called training_v2 \n",
    "training_v2<-read_csv(url(urlfile))\n"
   ]
  },
  {
   "cell_type": "markdown",
   "metadata": {},
   "source": [
    "## Selecting variable columns from a data frame "
   ]
  },
  {
   "cell_type": "code",
   "execution_count": 2,
   "metadata": {},
   "outputs": [
    {
     "name": "stdout",
     "output_type": "stream",
     "text": [
      "package 'dplyr' successfully unpacked and MD5 sums checked\n",
      "\n",
      "The downloaded binary packages are in\n",
      "\tC:\\Users\\Aaron\\AppData\\Local\\Temp\\RtmpW8YFew\\downloaded_packages\n"
     ]
    },
    {
     "name": "stderr",
     "output_type": "stream",
     "text": [
      "Warning message:\n",
      "\"package 'dplyr' was built under R version 3.6.3\"\n",
      "Attaching package: 'dplyr'\n",
      "\n",
      "The following objects are masked from 'package:stats':\n",
      "\n",
      "    filter, lag\n",
      "\n",
      "The following objects are masked from 'package:base':\n",
      "\n",
      "    intersect, setdiff, setequal, union\n",
      "\n"
     ]
    }
   ],
   "source": [
    "#select variable columns from the training_v2 data frame into a new data frame called practice_csv\n",
    "install.packages(\"dplyr\")\n",
    "library(dplyr)\n",
    "practice_csv = select(training_v2, 4, 43, 36, 79, 61, 42, 123, 107, 115, 46, 28, 29, 5, 16, 6, 35, 20)\n",
    " \n",
    "#create sepsis and cardiovascular diagnosis columns from the diagnosis column\n",
    "practice_csv<- mutate(practice_csv, sepsis = ifelse(apache_2_diagnosis == '113', '1', '0'))\n",
    "practice_csv<- mutate(practice_csv, cardiovascular_diagnosis = ifelse(apache_2_diagnosis == '114', '1', '0'))\n",
    "\n",
    "#delete original diagnosis column\n",
    "practice_csv = select(practice_csv, -17)"
   ]
  },
  {
   "cell_type": "markdown",
   "metadata": {},
   "source": [
    "## Changing data types of the selected variables "
   ]
  },
  {
   "cell_type": "code",
   "execution_count": 3,
   "metadata": {},
   "outputs": [
    {
     "name": "stdout",
     "output_type": "stream",
     "text": [
      "tibble [91,713 x 18] (S3: spec_tbl_df/tbl_df/tbl/data.frame)\n",
      " $ hospital_death          : Factor w/ 2 levels \"0\",\"1\": 1 1 1 1 1 1 1 1 2 1 ...\n",
      " $ temp_apache             : num [1:91713] 39.3 35.1 36.7 34.8 36.7 36.6 35 36.6 36.9 36.3 ...\n",
      " $ map_apache              : num [1:91713] 40 46 68 60 103 130 138 60 66 58 ...\n",
      " $ h1_heartrate_max        : num [1:91713] 119 114 96 100 89 83 79 118 82 96 ...\n",
      " $ d1_resprate_max         : num [1:91713] 34 32 21 23 18 32 38 28 24 44 ...\n",
      " $ sodium_apache           : num [1:91713] 134 145 NA NA NA 137 135 140 142 139 ...\n",
      " $ d1_potassium_max        : num [1:91713] 4 4.2 NA 5 NA 3.9 5 5.8 5.2 4.1 ...\n",
      " $ d1_creatinine_max       : num [1:91713] 2.51 0.71 NA NA NA 0.71 0.85 2.05 1.16 0.83 ...\n",
      " $ d1_hematocrit_max       : num [1:91713] 27.4 36.9 NA 34 NA 44.2 37.5 25.5 37.9 37.2 ...\n",
      " $ wbc_apache              : num [1:91713] 14.1 12.7 NA 8 NA 10.9 5.9 12.8 24.7 8.4 ...\n",
      " $ gcs_eyes_apache         : Factor w/ 4 levels \"1\",\"2\",\"3\",\"4\": 3 1 3 4 NA 4 4 4 4 4 ...\n",
      " $ gcs_motor_apache        : Factor w/ 6 levels \"1\",\"2\",\"3\",\"4\",..: 6 3 6 6 NA 6 6 6 6 6 ...\n",
      " $ age                     : num [1:91713] 68 77 25 81 19 67 59 70 45 50 ...\n",
      " $ pre_icu_los_days        : num [1:91713] 0.541667 0.927778 0.000694 0.000694 0.073611 ...\n",
      " $ bmi                     : num [1:91713] 22.7 27.4 31.9 22.6 NA ...\n",
      " $ intubated_apache        : Factor w/ 2 levels \"0\",\"1\": 1 1 1 2 1 1 2 1 1 1 ...\n",
      " $ sepsis                  : Factor w/ 2 levels \"0\",\"1\": 2 1 1 1 1 1 1 2 1 1 ...\n",
      " $ cardiovascular_diagnosis: Factor w/ 2 levels \"0\",\"1\": 1 1 1 1 1 1 1 1 1 1 ...\n"
     ]
    }
   ],
   "source": [
    "#change categorical variables to factor data type \n",
    "practice_csv$hospital_death<- as.factor(practice_csv$hospital_death)\n",
    "practice_csv$sepsis<- as.factor(practice_csv$sepsis)\n",
    "practice_csv$cardiovascular_diagnosis<- as.factor(practice_csv$cardiovascular_diagnosis)\n",
    "practice_csv$intubated_apache<- as.factor(practice_csv$intubated_apache)\n",
    "practice_csv$gcs_eyes_apache<- as.factor(practice_csv$gcs_eyes_apache)\n",
    "practice_csv$gcs_motor_apache<- as.factor(practice_csv$gcs_motor_apache)\n",
    "\n",
    "#change to numeric variables to numeric data type \n",
    "practice_csv$temp_apache<- as.numeric(practice_csv$temp_apache)\n",
    "practice_csv$map_apache<- as.numeric(practice_csv$map_apache)\n",
    "practice_csv$h1_heartrate_max<- as.numeric(practice_csv$h1_heartrate_max)\n",
    "practice_csv$d1_resprate_max<- as.numeric(practice_csv$d1_resprate_max)\n",
    "practice_csv$d1_potassium_max<- as.numeric(practice_csv$d1_potassium_max)\n",
    "practice_csv$d1_creatinine_max<- as.numeric(practice_csv$d1_creatinine_max)\n",
    "practice_csv$d1_hematocrit_max<- as.numeric(practice_csv$d1_hematocrit_max)\n",
    "practice_csv$sodium_apache<- as.numeric(practice_csv$sodium_apache)\n",
    "practice_csv$wbc_apache<- as.numeric(practice_csv$wbc_apache)\n",
    "practice_csv$age<- as.numeric(practice_csv$age)\n",
    "practice_csv$pre_icu_los_days<- as.numeric(practice_csv$pre_icu_los_days)\n",
    "practice_csv$bmi<- as.numeric(practice_csv$bmi)\n",
    "\n",
    "#check all variable data types to make sure they are correct\n",
    "str(practice_csv)"
   ]
  },
  {
   "cell_type": "markdown",
   "metadata": {},
   "source": [
    "## Replacing null values using measures of center (mean, median, mode)  "
   ]
  },
  {
   "cell_type": "code",
   "execution_count": 4,
   "metadata": {},
   "outputs": [],
   "source": [
    "#replace some numeric variable nulls with the column mean \n",
    "practice_csv = transform(practice_csv, bmi = ifelse(is.na(bmi), mean(bmi, na.rm=TRUE), bmi))\n",
    "practice_csv = transform(practice_csv, temp_apache = ifelse(is.na(temp_apache), mean(temp_apache, na.rm=TRUE), temp_apache))\n",
    "practice_csv = transform(practice_csv, map_apache = ifelse(is.na(map_apache), mean(map_apache, na.rm=TRUE), map_apache))\n",
    "practice_csv = transform(practice_csv, h1_heartrate_max = ifelse(is.na(h1_heartrate_max), mean(h1_heartrate_max, na.rm=TRUE), h1_heartrate_max))\n",
    "practice_csv = transform(practice_csv, d1_resprate_max = ifelse(is.na(d1_resprate_max), mean(d1_resprate_max, na.rm=TRUE), d1_resprate_max))\n",
    "practice_csv = transform(practice_csv, d1_potassium_max = ifelse(is.na(d1_potassium_max), mean(d1_potassium_max, na.rm=TRUE), d1_potassium_max))\n",
    "practice_csv = transform(practice_csv, d1_creatinine_max = ifelse(is.na(d1_creatinine_max), mean(d1_creatinine_max, na.rm=TRUE), d1_creatinine_max))\n",
    "practice_csv = transform(practice_csv, d1_hematocrit_max = ifelse(is.na(d1_hematocrit_max), mean(d1_hematocrit_max, na.rm=TRUE), d1_hematocrit_max))\n",
    "practice_csv = transform(practice_csv, sodium_apache = ifelse(is.na(sodium_apache), mean(sodium_apache, na.rm=TRUE), sodium_apache))\n",
    "\n",
    "#replace some categorical variable nulls with 0 (0 is the mode for these columns)\n",
    "#gcs_motor_apache nulls replaced with a 1 (1 is the mode for this column) \n",
    "practice_csv$sepsis[is.na(practice_csv$sepsis)] <- 0\n",
    "practice_csv$cardiovascular_diagnosis[is.na(practice_csv$cardiovascular_diagnosis)] <- 0\n",
    "practice_csv$intubated_apache[is.na(practice_csv$intubated_apache)] <- 0\n",
    "practice_csv$gcs_motor_apache[is.na(practice_csv$gcs_motor_apache)] <- 1"
   ]
  },
  {
   "cell_type": "markdown",
   "metadata": {},
   "source": [
    "## Replacing null values using a random forest algorithm "
   ]
  },
  {
   "cell_type": "code",
   "execution_count": null,
   "metadata": {},
   "outputs": [
    {
     "name": "stdout",
     "output_type": "stream",
     "text": [
      "package 'missForest' successfully unpacked and MD5 sums checked\n",
      "\n",
      "The downloaded binary packages are in\n",
      "\tC:\\Users\\Aaron\\AppData\\Local\\Temp\\RtmpW8YFew\\downloaded_packages\n",
      "package 'randomForest' successfully unpacked and MD5 sums checked\n",
      "\n",
      "The downloaded binary packages are in\n",
      "\tC:\\Users\\Aaron\\AppData\\Local\\Temp\\RtmpW8YFew\\downloaded_packages\n"
     ]
    },
    {
     "name": "stderr",
     "output_type": "stream",
     "text": [
      "Warning message:\n",
      "\"package 'missForest' was built under R version 3.6.3\"Loading required package: randomForest\n",
      "Warning message:\n",
      "\"package 'randomForest' was built under R version 3.6.3\"randomForest 4.6-14\n",
      "Type rfNews() to see new features/changes/bug fixes.\n",
      "\n",
      "Attaching package: 'randomForest'\n",
      "\n",
      "The following object is masked from 'package:dplyr':\n",
      "\n",
      "    combine\n",
      "\n",
      "Loading required package: foreach\n",
      "Warning message:\n",
      "\"package 'foreach' was built under R version 3.6.3\"Loading required package: itertools\n",
      "Warning message:\n",
      "\"package 'itertools' was built under R version 3.6.3\"Loading required package: iterators\n",
      "Warning message:\n",
      "\"package 'iterators' was built under R version 3.6.3\""
     ]
    }
   ],
   "source": [
    "#use a random forest algorithm to replace the remaining nulls\n",
    "#random forest is non-parametric and works for categorical and numeric variables\n",
    "#ntree is the number of trees, maxiter is the maximum number of iterations (repeats) \n",
    "#more trees and more iterations can increase accuracy but takes more time to run\n",
    "install.packages(\"missForest\")\n",
    "install.packages(\"randomForest\")\n",
    "library(missForest)\n",
    "library(randomForest)\n",
    "set.seed(96) \n",
    "practice_csv.imp <- missForest(practice_csv, verbose = TRUE, maxiter = 3, ntree = 10)\n",
    "\n",
    "#check imputed values\n",
    "practice_csv.imp$ximp\n",
    "\n",
    "#check imputation error\n",
    "practice_csv.imp$OOBerror\n",
    "\n",
    "#assign imputed data frame to a new data frame called t\n",
    "t<- practice_csv.imp$ximp"
   ]
  },
  {
   "cell_type": "markdown",
   "metadata": {},
   "source": [
    "## This concludes our introduction to data analytics \n",
    "- The following questions were addressed between this notebook and the complementary video lecture:\n",
    "1. What is a CSV file and how is it loaded into R? \n",
    "2. What are some simple and more advanced methods that can be used to deal with nulls? \n",
    "3. How should present but highly unlikely data be dealt with?  \n"
   ]
  },
  {
   "cell_type": "markdown",
   "metadata": {},
   "source": [
    "## Exporting CSV file (Informational Only) "
   ]
  },
  {
   "cell_type": "code",
   "execution_count": null,
   "metadata": {},
   "outputs": [],
   "source": [
    "#this code writes a CSV file of the dataframe to a specified file path location \n",
    "write.csv(dataframe,\"file_path\", row.names = FALSE)"
   ]
  }
 ],
 "metadata": {
  "kernelspec": {
   "display_name": "R",
   "language": "R",
   "name": "ir"
  },
  "language_info": {
   "codemirror_mode": "r",
   "file_extension": ".r",
   "mimetype": "text/x-r-source",
   "name": "R",
   "pygments_lexer": "r",
   "version": "3.6.1"
  },
  "toc": {
   "base_numbering": 1,
   "nav_menu": {},
   "number_sections": true,
   "sideBar": true,
   "skip_h1_title": false,
   "title_cell": "Table of Contents",
   "title_sidebar": "Contents",
   "toc_cell": false,
   "toc_position": {},
   "toc_section_display": true,
   "toc_window_display": false
  }
 },
 "nbformat": 4,
 "nbformat_minor": 2
}
